{
 "cells": [
  {
   "cell_type": "markdown",
   "metadata": {},
   "source": [
    "# Model: WangchanBERTa"
   ]
  },
  {
   "cell_type": "code",
   "execution_count": 1,
   "metadata": {},
   "outputs": [
    {
     "name": "stdout",
     "output_type": "stream",
     "text": [
      "absl-py==2.0.0\n",
      "accelerate==0.24.1\n",
      "annotated-types==0.6.0\n",
      "arrow==1.3.0\n",
      "asttokens @ file:///home/conda/feedstock_root/build_artifacts/asttokens_1698341106958/work\n",
      "astunparse==1.6.3\n",
      "attrs==23.1.0\n",
      "backports.functools-lru-cache @ file:///home/conda/feedstock_root/build_artifacts/backports.functools_lru_cache_1687772187254/work\n",
      "boto3==1.28.81\n",
      "botocore==1.31.81\n",
      "bravado==11.0.3\n",
      "bravado-core==6.1.0\n",
      "cachetools==5.3.2\n",
      "certifi==2023.7.22\n",
      "charset-normalizer==3.3.1\n",
      "click==8.1.7\n",
      "comm @ file:///home/conda/feedstock_root/build_artifacts/comm_1691044910542/work\n",
      "contourpy==1.1.1\n",
      "cycler==0.12.1\n",
      "debugpy @ file:///home/conda/feedstock_root/build_artifacts/debugpy_1695534290310/work\n",
      "decorator @ file:///home/conda/feedstock_root/build_artifacts/decorator_1641555617451/work\n",
      "emoji==2.8.0\n",
      "exceptiongroup @ file:///home/conda/feedstock_root/build_artifacts/exceptiongroup_1692026125334/work\n",
      "executing @ file:///home/conda/feedstock_root/build_artifacts/executing_1698579936712/work\n",
      "filelock==3.12.4\n",
      "flatbuffers==23.5.26\n",
      "fonttools==4.43.1\n",
      "fqdn==1.5.1\n",
      "fsspec==2023.10.0\n",
      "future==0.18.3\n",
      "gast==0.5.4\n",
      "gitdb==4.0.11\n",
      "GitPython==3.1.40\n",
      "google-auth==2.23.4\n",
      "google-auth-oauthlib==1.0.0\n",
      "google-pasta==0.2.0\n",
      "grpcio==1.59.2\n",
      "h5py==3.10.0\n",
      "huggingface-hub==0.17.3\n",
      "idna==3.4\n",
      "importlib-metadata @ file:///home/conda/feedstock_root/build_artifacts/importlib-metadata_1688754491823/work\n",
      "ipykernel @ file:///home/conda/feedstock_root/build_artifacts/ipykernel_1698244021190/work\n",
      "ipython @ file:///home/conda/feedstock_root/build_artifacts/ipython_1698846603011/work\n",
      "isoduration==20.11.0\n",
      "jedi @ file:///home/conda/feedstock_root/build_artifacts/jedi_1696326070614/work\n",
      "Jinja2==3.1.2\n",
      "jmespath==1.0.1\n",
      "joblib==1.3.2\n",
      "jsonlines==4.0.0\n",
      "jsonpointer==2.4\n",
      "jsonref==1.1.0\n",
      "jsonschema==4.19.2\n",
      "jsonschema-specifications==2023.7.1\n",
      "jupyter_client @ file:///home/conda/feedstock_root/build_artifacts/jupyter_client_1699283905679/work\n",
      "jupyter_core @ file:///home/conda/feedstock_root/build_artifacts/jupyter_core_1698673647019/work\n",
      "keras==2.14.0\n",
      "kiwisolver==1.4.5\n",
      "libclang==16.0.6\n",
      "Markdown==3.5.1\n",
      "MarkupSafe==2.1.3\n",
      "matplotlib==3.8.0\n",
      "matplotlib-inline @ file:///home/conda/feedstock_root/build_artifacts/matplotlib-inline_1660814786464/work\n",
      "ml-dtypes==0.2.0\n",
      "monotonic==1.6\n",
      "mpmath==1.3.0\n",
      "msgpack==1.0.7\n",
      "neptune==1.8.2\n",
      "nest-asyncio @ file:///home/conda/feedstock_root/build_artifacts/nest-asyncio_1697083700168/work\n",
      "networkx==3.2\n",
      "numpy==1.26.1\n",
      "nvidia-cublas-cu12==12.1.3.1\n",
      "nvidia-cuda-cupti-cu12==12.1.105\n",
      "nvidia-cuda-nvrtc-cu12==12.1.105\n",
      "nvidia-cuda-runtime-cu12==12.1.105\n",
      "nvidia-cudnn-cu12==8.9.2.26\n",
      "nvidia-cufft-cu12==11.0.2.54\n",
      "nvidia-curand-cu12==10.3.2.106\n",
      "nvidia-cusolver-cu12==11.4.5.107\n",
      "nvidia-cusparse-cu12==12.1.0.106\n",
      "nvidia-nccl-cu12==2.18.1\n",
      "nvidia-nvjitlink-cu12==12.3.52\n",
      "nvidia-nvtx-cu12==12.1.105\n",
      "oauthlib==3.2.2\n",
      "opt-einsum==3.3.0\n",
      "packaging @ file:///home/conda/feedstock_root/build_artifacts/packaging_1696202382185/work\n",
      "pandas==2.1.1\n",
      "parso @ file:///home/conda/feedstock_root/build_artifacts/parso_1638334955874/work\n",
      "pexpect @ file:///home/conda/feedstock_root/build_artifacts/pexpect_1667297516076/work\n",
      "pickleshare @ file:///home/conda/feedstock_root/build_artifacts/pickleshare_1602536217715/work\n",
      "Pillow==10.1.0\n",
      "platformdirs @ file:///home/conda/feedstock_root/build_artifacts/platformdirs_1696272223550/work\n",
      "prompt-toolkit @ file:///home/conda/feedstock_root/build_artifacts/prompt-toolkit_1688565951714/work\n",
      "protobuf==4.25.0\n",
      "psutil @ file:///home/conda/feedstock_root/build_artifacts/psutil_1695367094274/work\n",
      "ptyprocess @ file:///home/conda/feedstock_root/build_artifacts/ptyprocess_1609419310487/work/dist/ptyprocess-0.7.0-py2.py3-none-any.whl\n",
      "pure-eval @ file:///home/conda/feedstock_root/build_artifacts/pure_eval_1642875951954/work\n",
      "pyahocorasick==2.0.0\n",
      "pyasn1==0.5.0\n",
      "pyasn1-modules==0.3.0\n",
      "pydantic==2.4.2\n",
      "pydantic_core==2.10.1\n",
      "Pygments @ file:///home/conda/feedstock_root/build_artifacts/pygments_1691408637400/work\n",
      "PyJWT==2.8.0\n",
      "pyparsing==3.1.1\n",
      "pythainlp==2.2.4\n",
      "python-crfsuite @ file:///home/conda/feedstock_root/build_artifacts/python-crfsuite_1696709137675/work\n",
      "python-dateutil @ file:///home/conda/feedstock_root/build_artifacts/python-dateutil_1626286286081/work\n",
      "pytz==2023.3.post1\n",
      "PyYAML==6.0.1\n",
      "pyzmq @ file:///home/conda/feedstock_root/build_artifacts/pyzmq_1698062401223/work\n",
      "referencing==0.30.2\n",
      "regex==2023.10.3\n",
      "requests==2.31.0\n",
      "requests-oauthlib==1.3.1\n",
      "rfc3339-validator==0.1.4\n",
      "rfc3987==1.3.8\n",
      "rpds-py==0.12.0\n",
      "rsa==4.9\n",
      "s3transfer==0.7.0\n",
      "safetensors==0.3.3\n",
      "scikit-learn==1.3.1\n",
      "scipy==1.11.3\n",
      "SEFR-CUT==1.1\n",
      "sentencepiece==0.1.99\n",
      "seqeval==1.2.2\n",
      "simplejson==3.19.2\n",
      "six @ file:///home/conda/feedstock_root/build_artifacts/six_1620240208055/work\n",
      "smmap==5.0.1\n",
      "stack-data @ file:///home/conda/feedstock_root/build_artifacts/stack_data_1669632077133/work\n",
      "swagger-spec-validator==3.0.3\n",
      "sympy==1.12\n",
      "tensorboard==2.14.1\n",
      "tensorboard-data-server==0.7.2\n",
      "tensorflow==2.14.0\n",
      "tensorflow-estimator==2.14.0\n",
      "tensorflow-io-gcs-filesystem==0.34.0\n",
      "termcolor==2.3.0\n",
      "thai2transformers==0.1.2\n",
      "threadpoolctl==3.2.0\n",
      "tinydb==4.8.0\n",
      "tokenizers==0.14.1\n",
      "torch==2.1.0\n",
      "tornado @ file:///home/conda/feedstock_root/build_artifacts/tornado_1695373560918/work\n",
      "tqdm==4.66.1\n",
      "traitlets @ file:///home/conda/feedstock_root/build_artifacts/traitlets_1698671135544/work\n",
      "transformers==4.34.1\n",
      "triton==2.1.0\n",
      "types-python-dateutil==2.8.19.14\n",
      "typing_extensions @ file:///home/conda/feedstock_root/build_artifacts/typing_extensions_1695040754690/work\n",
      "tzdata==2023.3\n",
      "uri-template==1.3.0\n",
      "urllib3==2.0.7\n",
      "wcwidth @ file:///home/conda/feedstock_root/build_artifacts/wcwidth_1698744702785/work\n",
      "webcolors==1.13\n",
      "websocket-client==1.6.4\n",
      "Werkzeug==3.0.1\n",
      "wrapt==1.14.1\n",
      "zipp @ file:///home/conda/feedstock_root/build_artifacts/zipp_1695255097490/work\n"
     ]
    }
   ],
   "source": [
    "!pip freeze"
   ]
  },
  {
   "cell_type": "code",
   "execution_count": 2,
   "metadata": {},
   "outputs": [
    {
     "name": "stderr",
     "output_type": "stream",
     "text": [
      "/root/miniconda3/envs/myenv/lib/python3.10/site-packages/tqdm/auto.py:21: TqdmWarning: IProgress not found. Please update jupyter and ipywidgets. See https://ipywidgets.readthedocs.io/en/stable/user_install.html\n",
      "  from .autonotebook import tqdm as notebook_tqdm\n",
      "2023-11-08 23:13:44.469298: I tensorflow/tsl/cuda/cudart_stub.cc:28] Could not find cuda drivers on your machine, GPU will not be used.\n",
      "2023-11-08 23:13:44.510454: E tensorflow/compiler/xla/stream_executor/cuda/cuda_dnn.cc:9342] Unable to register cuDNN factory: Attempting to register factory for plugin cuDNN when one has already been registered\n",
      "2023-11-08 23:13:44.510496: E tensorflow/compiler/xla/stream_executor/cuda/cuda_fft.cc:609] Unable to register cuFFT factory: Attempting to register factory for plugin cuFFT when one has already been registered\n",
      "2023-11-08 23:13:44.510532: E tensorflow/compiler/xla/stream_executor/cuda/cuda_blas.cc:1518] Unable to register cuBLAS factory: Attempting to register factory for plugin cuBLAS when one has already been registered\n",
      "2023-11-08 23:13:44.519394: I tensorflow/core/platform/cpu_feature_guard.cc:182] This TensorFlow binary is optimized to use available CPU instructions in performance-critical operations.\n",
      "To enable the following instructions: AVX2 FMA, in other operations, rebuild TensorFlow with the appropriate compiler flags.\n",
      "2023-11-08 23:13:45.451812: W tensorflow/compiler/tf2tensorrt/utils/py_utils.cc:38] TF-TRT Warning: Could not find TensorRT\n"
     ]
    }
   ],
   "source": [
    "import pandas as pd\n",
    "import matplotlib.pyplot as plt\n",
    "from collections import defaultdict, Counter\n",
    "import numpy as np\n",
    "import math\n",
    "import re\n",
    "import torch\n",
    "import json\n",
    "from torch.utils.data import TensorDataset, DataLoader, RandomSampler, SequentialSampler\n",
    "from sklearn.model_selection import train_test_split\n",
    "from transformers import AutoTokenizer, AutoModelForSequenceClassification\n",
    "from transformers import Trainer, TrainingArguments"
   ]
  },
  {
   "cell_type": "markdown",
   "metadata": {},
   "source": [
    "# Raw Data"
   ]
  },
  {
   "cell_type": "code",
   "execution_count": 3,
   "metadata": {},
   "outputs": [
    {
     "name": "stdout",
     "output_type": "stream",
     "text": [
      "1207\n"
     ]
    },
    {
     "data": {
      "text/html": [
       "<div>\n",
       "<style scoped>\n",
       "    .dataframe tbody tr th:only-of-type {\n",
       "        vertical-align: middle;\n",
       "    }\n",
       "\n",
       "    .dataframe tbody tr th {\n",
       "        vertical-align: top;\n",
       "    }\n",
       "\n",
       "    .dataframe thead th {\n",
       "        text-align: right;\n",
       "    }\n",
       "</style>\n",
       "<table border=\"1\" class=\"dataframe\">\n",
       "  <thead>\n",
       "    <tr style=\"text-align: right;\">\n",
       "      <th></th>\n",
       "      <th>issueid</th>\n",
       "      <th>dekaid</th>\n",
       "      <th>year</th>\n",
       "      <th>category</th>\n",
       "      <th>issueno</th>\n",
       "      <th>lawids</th>\n",
       "      <th>fact</th>\n",
       "      <th>decision</th>\n",
       "      <th>isact</th>\n",
       "      <th>isexternalelements</th>\n",
       "      <th>isinternalelement</th>\n",
       "      <th>isintent</th>\n",
       "      <th>isneglect</th>\n",
       "      <th>iscause</th>\n",
       "      <th>isjustify</th>\n",
       "      <th>isexcuse</th>\n",
       "      <th>isguilty</th>\n",
       "      <th>isattempt</th>\n",
       "      <th>isattemptimpossible</th>\n",
       "    </tr>\n",
       "  </thead>\n",
       "  <tbody>\n",
       "    <tr>\n",
       "      <th>0</th>\n",
       "      <td>1</td>\n",
       "      <td>1478/2528</td>\n",
       "      <td>2528</td>\n",
       "      <td>LB</td>\n",
       "      <td>1</td>\n",
       "      <td>CC-288-00,CC-083-00,CC-063-00</td>\n",
       "      <td>จำเลยกับพวกร่วมกันใช้อาวุธปืนยิงผู้ตายถูกที่ด้...</td>\n",
       "      <td>จำเลยจึงมีความผิดฐานฆ่าผู้ตายโดยเจตนา</td>\n",
       "      <td>1</td>\n",
       "      <td>1</td>\n",
       "      <td>1</td>\n",
       "      <td>1</td>\n",
       "      <td>-1</td>\n",
       "      <td>1</td>\n",
       "      <td>0</td>\n",
       "      <td>0</td>\n",
       "      <td>1</td>\n",
       "      <td>0</td>\n",
       "      <td>-1</td>\n",
       "    </tr>\n",
       "    <tr>\n",
       "      <th>1</th>\n",
       "      <td>2</td>\n",
       "      <td>1548/2531</td>\n",
       "      <td>2531</td>\n",
       "      <td>LB</td>\n",
       "      <td>1</td>\n",
       "      <td>CC-288-00</td>\n",
       "      <td>จำเลยที่ 1 ซึ่งเคยมีเรื่องทะเลาะกับผู้ตายมาก่อ...</td>\n",
       "      <td>จำเลยที่ 1 จึงมีความผิดฐานฆ่าผู้ตายโดยเจตนา</td>\n",
       "      <td>1</td>\n",
       "      <td>1</td>\n",
       "      <td>1</td>\n",
       "      <td>1</td>\n",
       "      <td>-1</td>\n",
       "      <td>1</td>\n",
       "      <td>0</td>\n",
       "      <td>0</td>\n",
       "      <td>1</td>\n",
       "      <td>0</td>\n",
       "      <td>-1</td>\n",
       "    </tr>\n",
       "    <tr>\n",
       "      <th>2</th>\n",
       "      <td>3</td>\n",
       "      <td>1548/2531</td>\n",
       "      <td>2531</td>\n",
       "      <td>LB</td>\n",
       "      <td>2</td>\n",
       "      <td>CC-290-00,CC-083-00</td>\n",
       "      <td>ส่วนจำเลยที่ 2 ที่ 3 และที่ 4 นั้น ได้ความว่าก...</td>\n",
       "      <td>การที่จำเลยที่ 1 ใช้เหล็กแหลมแทงผู้ตายโดยเจตนา...</td>\n",
       "      <td>1</td>\n",
       "      <td>1</td>\n",
       "      <td>1</td>\n",
       "      <td>1</td>\n",
       "      <td>-1</td>\n",
       "      <td>1</td>\n",
       "      <td>0</td>\n",
       "      <td>0</td>\n",
       "      <td>1</td>\n",
       "      <td>0</td>\n",
       "      <td>-1</td>\n",
       "    </tr>\n",
       "    <tr>\n",
       "      <th>3</th>\n",
       "      <td>4</td>\n",
       "      <td>1548/2531</td>\n",
       "      <td>2531</td>\n",
       "      <td>LB</td>\n",
       "      <td>3</td>\n",
       "      <td>CC-288-00,CC-083-00</td>\n",
       "      <td>ส่วนจำเลยที่ 2 ที่ 3 และที่ 4 นั้น ได้ความว่าก...</td>\n",
       "      <td>การที่จำเลยที่ 1 ใช้เหล็กแหลมแทงผู้ตายโดยเจตนา...</td>\n",
       "      <td>0</td>\n",
       "      <td>-1</td>\n",
       "      <td>-1</td>\n",
       "      <td>-1</td>\n",
       "      <td>-1</td>\n",
       "      <td>-1</td>\n",
       "      <td>-1</td>\n",
       "      <td>-1</td>\n",
       "      <td>0</td>\n",
       "      <td>-1</td>\n",
       "      <td>-1</td>\n",
       "    </tr>\n",
       "    <tr>\n",
       "      <th>4</th>\n",
       "      <td>5</td>\n",
       "      <td>1697/2522</td>\n",
       "      <td>2522</td>\n",
       "      <td>LB</td>\n",
       "      <td>1</td>\n",
       "      <td>CC-288-00,CC-083-00</td>\n",
       "      <td>โจทก์บรรยายฟ้องว่า จำเลยกับพวกที่ยังไม่ได้ตัวม...</td>\n",
       "      <td>จึงเป็นการกระทำโดยมีเจตนาฆ่าผู้ตาย แม้ข้อเท็จจ...</td>\n",
       "      <td>1</td>\n",
       "      <td>1</td>\n",
       "      <td>1</td>\n",
       "      <td>1</td>\n",
       "      <td>-1</td>\n",
       "      <td>1</td>\n",
       "      <td>0</td>\n",
       "      <td>0</td>\n",
       "      <td>1</td>\n",
       "      <td>0</td>\n",
       "      <td>-1</td>\n",
       "    </tr>\n",
       "  </tbody>\n",
       "</table>\n",
       "</div>"
      ],
      "text/plain": [
       "   issueid     dekaid  year category  issueno                         lawids  \\\n",
       "0        1  1478/2528  2528       LB        1  CC-288-00,CC-083-00,CC-063-00   \n",
       "1        2  1548/2531  2531       LB        1                      CC-288-00   \n",
       "2        3  1548/2531  2531       LB        2            CC-290-00,CC-083-00   \n",
       "3        4  1548/2531  2531       LB        3            CC-288-00,CC-083-00   \n",
       "4        5  1697/2522  2522       LB        1            CC-288-00,CC-083-00   \n",
       "\n",
       "                                                fact  \\\n",
       "0  จำเลยกับพวกร่วมกันใช้อาวุธปืนยิงผู้ตายถูกที่ด้...   \n",
       "1  จำเลยที่ 1 ซึ่งเคยมีเรื่องทะเลาะกับผู้ตายมาก่อ...   \n",
       "2  ส่วนจำเลยที่ 2 ที่ 3 และที่ 4 นั้น ได้ความว่าก...   \n",
       "3  ส่วนจำเลยที่ 2 ที่ 3 และที่ 4 นั้น ได้ความว่าก...   \n",
       "4  โจทก์บรรยายฟ้องว่า จำเลยกับพวกที่ยังไม่ได้ตัวม...   \n",
       "\n",
       "                                            decision  isact  \\\n",
       "0              จำเลยจึงมีความผิดฐานฆ่าผู้ตายโดยเจตนา      1   \n",
       "1        จำเลยที่ 1 จึงมีความผิดฐานฆ่าผู้ตายโดยเจตนา      1   \n",
       "2  การที่จำเลยที่ 1 ใช้เหล็กแหลมแทงผู้ตายโดยเจตนา...      1   \n",
       "3  การที่จำเลยที่ 1 ใช้เหล็กแหลมแทงผู้ตายโดยเจตนา...      0   \n",
       "4  จึงเป็นการกระทำโดยมีเจตนาฆ่าผู้ตาย แม้ข้อเท็จจ...      1   \n",
       "\n",
       "   isexternalelements  isinternalelement  isintent  isneglect  iscause  \\\n",
       "0                   1                  1         1         -1        1   \n",
       "1                   1                  1         1         -1        1   \n",
       "2                   1                  1         1         -1        1   \n",
       "3                  -1                 -1        -1         -1       -1   \n",
       "4                   1                  1         1         -1        1   \n",
       "\n",
       "   isjustify  isexcuse  isguilty  isattempt  isattemptimpossible  \n",
       "0          0         0         1          0                   -1  \n",
       "1          0         0         1          0                   -1  \n",
       "2          0         0         1          0                   -1  \n",
       "3         -1        -1         0         -1                   -1  \n",
       "4          0         0         1          0                   -1  "
      ]
     },
     "execution_count": 3,
     "metadata": {},
     "output_type": "execute_result"
    }
   ],
   "source": [
    "df = pd.read_csv('../data/tscc_v0.1-judgement.csv')\n",
    "print(len(df))\n",
    "df.head()"
   ]
  },
  {
   "cell_type": "markdown",
   "metadata": {},
   "source": [
    "# Preprocess"
   ]
  },
  {
   "cell_type": "markdown",
   "metadata": {},
   "source": [
    "## Filter non-relevant article ids"
   ]
  },
  {
   "cell_type": "code",
   "execution_count": 4,
   "metadata": {},
   "outputs": [
    {
     "name": "stdout",
     "output_type": "stream",
     "text": [
      "# Article IDs (before filtering out):  76\n",
      "# Article IDs (after filtering out):  50\n",
      "# Article IDs (after dropping non frequent articles):  39\n"
     ]
    },
    {
     "data": {
      "text/plain": [
       "['CC-291-00',\n",
       " 'CC-288-00',\n",
       " 'CC-334-00',\n",
       " 'CC-326-02',\n",
       " 'CC-341-00',\n",
       " 'CC-336-00',\n",
       " 'CC-335-02',\n",
       " 'CC-328-02',\n",
       " 'CC-300-00',\n",
       " 'CC-326-00',\n",
       " 'CC-339-00',\n",
       " 'CC-296-00',\n",
       " 'CC-336bis-00',\n",
       " 'CC-393-00',\n",
       " 'CC-331-00',\n",
       " 'CC-326-01',\n",
       " 'CC-358-00',\n",
       " 'CC-340-00',\n",
       " 'CC-330-00',\n",
       " 'CC-328-01',\n",
       " 'CC-297-00',\n",
       " 'CC-343-00',\n",
       " 'CC-328-00',\n",
       " 'CC-340-01',\n",
       " 'CC-339-02',\n",
       " 'CC-337-00',\n",
       " 'CC-289(6)-00',\n",
       " 'CC-329-00',\n",
       " 'CC-290-00',\n",
       " 'CC-340ter-00',\n",
       " 'CC-289(5)-00',\n",
       " 'CC-391-00',\n",
       " 'CC-360-00',\n",
       " 'CC-352-00',\n",
       " 'CC-335-00',\n",
       " 'CC-393-01',\n",
       " 'CC-295-00',\n",
       " 'CC-289(4)-00',\n",
       " 'CC-289(2)-00']"
      ]
     },
     "execution_count": 4,
     "metadata": {},
     "output_type": "execute_result"
    }
   ],
   "source": [
    "lawids_df = df['lawids']\n",
    "\n",
    "lawids = []\n",
    "for ids in lawids_df:\n",
    "    lawids.extend(ids.split(','))\n",
    "lawids_set = set(lawids)\n",
    "print('# Article IDs (before filtering out): ', len(lawids_set))\n",
    "\n",
    "''' remove any articles with id <= 106 '''\n",
    "labels = list(filter(lambda x: int(x.split('-')[1][:3]) > 106, lawids_set))\n",
    "print('# Article IDs (after filtering out): ', len(labels))\n",
    "\n",
    "\n",
    "# # Select only OFFENCE AGAINST LIFE AND BODY (288 - 300)\n",
    "# ''' remove any articles with id > 300'''\n",
    "# labels = list(filter(lambda x: int(x.split('-')[1][:3]) <= 300, labels))\n",
    "# print('# Article IDs (after filtering out (>300)): ', len(labels))\n",
    "# '''remove any articles from the list: ['CC-289(3)-00', 'CC-298-00']'''\n",
    "# lawid_filter_list = ['CC-289(3)-00', 'CC-298-00']\n",
    "# labels = list(filter(lambda x: x not in lawid_filter_list, labels))\n",
    "# print('# Article IDs (after filtering out (from list)): ', len(labels))\n",
    "\n",
    "# Select only OFFENCE AGAINST LIBERTY AND REPUTATION (326 - 333)\n",
    "# ''' remove any articles with id > 333 or < 326'''\n",
    "# labels = list(filter(lambda x: 326 <= int(x.split('-')[1][:3]) <= 333, labels))\n",
    "# print('# Article IDs (after filtering out (<326 or > 333)): ', len(labels))\n",
    "\n",
    "'''remove articles that appear less than 5 times'''\n",
    "drop_article_list = ['CC-390-00','CC-289(7)-00', 'CC-339-01', 'CC-342-00', 'CC-338-00', 'CC-335-01', \n",
    "                     'CC-335bis-00', 'CC-289(3)-00', 'CC-354-00', 'CC-298-00', 'CC-335bis-01']\n",
    "labels = [x for x in labels if x not in drop_article_list]\n",
    "print('# Article IDs (after dropping non frequent articles): ', len(labels))\n",
    "\n",
    "labels"
   ]
  },
  {
   "cell_type": "markdown",
   "metadata": {},
   "source": [
    "# Id2Label"
   ]
  },
  {
   "cell_type": "code",
   "execution_count": 5,
   "metadata": {},
   "outputs": [],
   "source": [
    "id2label = {idx:label for idx, label in enumerate(labels)}\n",
    "label2id = {str(label):idx for idx, label in enumerate(labels)}"
   ]
  },
  {
   "cell_type": "markdown",
   "metadata": {},
   "source": [
    "## Filter \\<discr>...\\</discr> portion out of fact description"
   ]
  },
  {
   "cell_type": "code",
   "execution_count": 6,
   "metadata": {},
   "outputs": [
    {
     "data": {
      "text/html": [
       "<div>\n",
       "<style scoped>\n",
       "    .dataframe tbody tr th:only-of-type {\n",
       "        vertical-align: middle;\n",
       "    }\n",
       "\n",
       "    .dataframe tbody tr th {\n",
       "        vertical-align: top;\n",
       "    }\n",
       "\n",
       "    .dataframe thead th {\n",
       "        text-align: right;\n",
       "    }\n",
       "</style>\n",
       "<table border=\"1\" class=\"dataframe\">\n",
       "  <thead>\n",
       "    <tr style=\"text-align: right;\">\n",
       "      <th></th>\n",
       "      <th>issueid</th>\n",
       "      <th>dekaid</th>\n",
       "      <th>year</th>\n",
       "      <th>category</th>\n",
       "      <th>issueno</th>\n",
       "      <th>lawids</th>\n",
       "      <th>fact</th>\n",
       "      <th>decision</th>\n",
       "      <th>isact</th>\n",
       "      <th>isexternalelements</th>\n",
       "      <th>isinternalelement</th>\n",
       "      <th>isintent</th>\n",
       "      <th>isneglect</th>\n",
       "      <th>iscause</th>\n",
       "      <th>isjustify</th>\n",
       "      <th>isexcuse</th>\n",
       "      <th>isguilty</th>\n",
       "      <th>isattempt</th>\n",
       "      <th>isattemptimpossible</th>\n",
       "      <th>filtered_fact</th>\n",
       "    </tr>\n",
       "  </thead>\n",
       "  <tbody>\n",
       "    <tr>\n",
       "      <th>0</th>\n",
       "      <td>1</td>\n",
       "      <td>1478/2528</td>\n",
       "      <td>2528</td>\n",
       "      <td>LB</td>\n",
       "      <td>1</td>\n",
       "      <td>CC-288-00,CC-083-00,CC-063-00</td>\n",
       "      <td>จำเลยกับพวกร่วมกันใช้อาวุธปืนยิงผู้ตายถูกที่ด้...</td>\n",
       "      <td>จำเลยจึงมีความผิดฐานฆ่าผู้ตายโดยเจตนา</td>\n",
       "      <td>1</td>\n",
       "      <td>1</td>\n",
       "      <td>1</td>\n",
       "      <td>1</td>\n",
       "      <td>-1</td>\n",
       "      <td>1</td>\n",
       "      <td>0</td>\n",
       "      <td>0</td>\n",
       "      <td>1</td>\n",
       "      <td>0</td>\n",
       "      <td>-1</td>\n",
       "      <td>จำเลยกับพวกร่วมกันใช้อาวุธปืนยิงผู้ตายถูกที่ด้...</td>\n",
       "    </tr>\n",
       "    <tr>\n",
       "      <th>1</th>\n",
       "      <td>2</td>\n",
       "      <td>1548/2531</td>\n",
       "      <td>2531</td>\n",
       "      <td>LB</td>\n",
       "      <td>1</td>\n",
       "      <td>CC-288-00</td>\n",
       "      <td>จำเลยที่ 1 ซึ่งเคยมีเรื่องทะเลาะกับผู้ตายมาก่อ...</td>\n",
       "      <td>จำเลยที่ 1 จึงมีความผิดฐานฆ่าผู้ตายโดยเจตนา</td>\n",
       "      <td>1</td>\n",
       "      <td>1</td>\n",
       "      <td>1</td>\n",
       "      <td>1</td>\n",
       "      <td>-1</td>\n",
       "      <td>1</td>\n",
       "      <td>0</td>\n",
       "      <td>0</td>\n",
       "      <td>1</td>\n",
       "      <td>0</td>\n",
       "      <td>-1</td>\n",
       "      <td>จำเลยที่ 1 ซึ่งเคยมีเรื่องทะเลาะกับผู้ตายมาก่อ...</td>\n",
       "    </tr>\n",
       "    <tr>\n",
       "      <th>2</th>\n",
       "      <td>3</td>\n",
       "      <td>1548/2531</td>\n",
       "      <td>2531</td>\n",
       "      <td>LB</td>\n",
       "      <td>2</td>\n",
       "      <td>CC-290-00,CC-083-00</td>\n",
       "      <td>ส่วนจำเลยที่ 2 ที่ 3 และที่ 4 นั้น ได้ความว่าก...</td>\n",
       "      <td>การที่จำเลยที่ 1 ใช้เหล็กแหลมแทงผู้ตายโดยเจตนา...</td>\n",
       "      <td>1</td>\n",
       "      <td>1</td>\n",
       "      <td>1</td>\n",
       "      <td>1</td>\n",
       "      <td>-1</td>\n",
       "      <td>1</td>\n",
       "      <td>0</td>\n",
       "      <td>0</td>\n",
       "      <td>1</td>\n",
       "      <td>0</td>\n",
       "      <td>-1</td>\n",
       "      <td>ส่วนจำเลยที่ 2 ที่ 3 และที่ 4 นั้น ได้ความว่าก...</td>\n",
       "    </tr>\n",
       "    <tr>\n",
       "      <th>3</th>\n",
       "      <td>4</td>\n",
       "      <td>1548/2531</td>\n",
       "      <td>2531</td>\n",
       "      <td>LB</td>\n",
       "      <td>3</td>\n",
       "      <td>CC-288-00,CC-083-00</td>\n",
       "      <td>ส่วนจำเลยที่ 2 ที่ 3 และที่ 4 นั้น ได้ความว่าก...</td>\n",
       "      <td>การที่จำเลยที่ 1 ใช้เหล็กแหลมแทงผู้ตายโดยเจตนา...</td>\n",
       "      <td>0</td>\n",
       "      <td>-1</td>\n",
       "      <td>-1</td>\n",
       "      <td>-1</td>\n",
       "      <td>-1</td>\n",
       "      <td>-1</td>\n",
       "      <td>-1</td>\n",
       "      <td>-1</td>\n",
       "      <td>0</td>\n",
       "      <td>-1</td>\n",
       "      <td>-1</td>\n",
       "      <td>ส่วนจำเลยที่ 2 ที่ 3 และที่ 4 นั้น ได้ความว่าก...</td>\n",
       "    </tr>\n",
       "    <tr>\n",
       "      <th>4</th>\n",
       "      <td>5</td>\n",
       "      <td>1697/2522</td>\n",
       "      <td>2522</td>\n",
       "      <td>LB</td>\n",
       "      <td>1</td>\n",
       "      <td>CC-288-00,CC-083-00</td>\n",
       "      <td>โจทก์บรรยายฟ้องว่า จำเลยกับพวกที่ยังไม่ได้ตัวม...</td>\n",
       "      <td>จึงเป็นการกระทำโดยมีเจตนาฆ่าผู้ตาย แม้ข้อเท็จจ...</td>\n",
       "      <td>1</td>\n",
       "      <td>1</td>\n",
       "      <td>1</td>\n",
       "      <td>1</td>\n",
       "      <td>-1</td>\n",
       "      <td>1</td>\n",
       "      <td>0</td>\n",
       "      <td>0</td>\n",
       "      <td>1</td>\n",
       "      <td>0</td>\n",
       "      <td>-1</td>\n",
       "      <td>โจทก์บรรยายฟ้องว่า จำเลยกับพวกที่ยังไม่ได้ตัวม...</td>\n",
       "    </tr>\n",
       "  </tbody>\n",
       "</table>\n",
       "</div>"
      ],
      "text/plain": [
       "   issueid     dekaid  year category  issueno                         lawids  \\\n",
       "0        1  1478/2528  2528       LB        1  CC-288-00,CC-083-00,CC-063-00   \n",
       "1        2  1548/2531  2531       LB        1                      CC-288-00   \n",
       "2        3  1548/2531  2531       LB        2            CC-290-00,CC-083-00   \n",
       "3        4  1548/2531  2531       LB        3            CC-288-00,CC-083-00   \n",
       "4        5  1697/2522  2522       LB        1            CC-288-00,CC-083-00   \n",
       "\n",
       "                                                fact  \\\n",
       "0  จำเลยกับพวกร่วมกันใช้อาวุธปืนยิงผู้ตายถูกที่ด้...   \n",
       "1  จำเลยที่ 1 ซึ่งเคยมีเรื่องทะเลาะกับผู้ตายมาก่อ...   \n",
       "2  ส่วนจำเลยที่ 2 ที่ 3 และที่ 4 นั้น ได้ความว่าก...   \n",
       "3  ส่วนจำเลยที่ 2 ที่ 3 และที่ 4 นั้น ได้ความว่าก...   \n",
       "4  โจทก์บรรยายฟ้องว่า จำเลยกับพวกที่ยังไม่ได้ตัวม...   \n",
       "\n",
       "                                            decision  isact  \\\n",
       "0              จำเลยจึงมีความผิดฐานฆ่าผู้ตายโดยเจตนา      1   \n",
       "1        จำเลยที่ 1 จึงมีความผิดฐานฆ่าผู้ตายโดยเจตนา      1   \n",
       "2  การที่จำเลยที่ 1 ใช้เหล็กแหลมแทงผู้ตายโดยเจตนา...      1   \n",
       "3  การที่จำเลยที่ 1 ใช้เหล็กแหลมแทงผู้ตายโดยเจตนา...      0   \n",
       "4  จึงเป็นการกระทำโดยมีเจตนาฆ่าผู้ตาย แม้ข้อเท็จจ...      1   \n",
       "\n",
       "   isexternalelements  isinternalelement  isintent  isneglect  iscause  \\\n",
       "0                   1                  1         1         -1        1   \n",
       "1                   1                  1         1         -1        1   \n",
       "2                   1                  1         1         -1        1   \n",
       "3                  -1                 -1        -1         -1       -1   \n",
       "4                   1                  1         1         -1        1   \n",
       "\n",
       "   isjustify  isexcuse  isguilty  isattempt  isattemptimpossible  \\\n",
       "0          0         0         1          0                   -1   \n",
       "1          0         0         1          0                   -1   \n",
       "2          0         0         1          0                   -1   \n",
       "3         -1        -1         0         -1                   -1   \n",
       "4          0         0         1          0                   -1   \n",
       "\n",
       "                                       filtered_fact  \n",
       "0  จำเลยกับพวกร่วมกันใช้อาวุธปืนยิงผู้ตายถูกที่ด้...  \n",
       "1  จำเลยที่ 1 ซึ่งเคยมีเรื่องทะเลาะกับผู้ตายมาก่อ...  \n",
       "2  ส่วนจำเลยที่ 2 ที่ 3 และที่ 4 นั้น ได้ความว่าก...  \n",
       "3  ส่วนจำเลยที่ 2 ที่ 3 และที่ 4 นั้น ได้ความว่าก...  \n",
       "4  โจทก์บรรยายฟ้องว่า จำเลยกับพวกที่ยังไม่ได้ตัวม...  "
      ]
     },
     "execution_count": 6,
     "metadata": {},
     "output_type": "execute_result"
    }
   ],
   "source": [
    "pattern = r'<discr>.*?</discr>'\n",
    "df['filtered_fact'] = df.fact.apply(lambda x: re.sub(pattern, '', x)).copy()\n",
    "df.head()"
   ]
  },
  {
   "cell_type": "markdown",
   "metadata": {},
   "source": [
    "## One-hot Encoding"
   ]
  },
  {
   "cell_type": "code",
   "execution_count": 7,
   "metadata": {},
   "outputs": [
    {
     "data": {
      "text/html": [
       "<div>\n",
       "<style scoped>\n",
       "    .dataframe tbody tr th:only-of-type {\n",
       "        vertical-align: middle;\n",
       "    }\n",
       "\n",
       "    .dataframe tbody tr th {\n",
       "        vertical-align: top;\n",
       "    }\n",
       "\n",
       "    .dataframe thead th {\n",
       "        text-align: right;\n",
       "    }\n",
       "</style>\n",
       "<table border=\"1\" class=\"dataframe\">\n",
       "  <thead>\n",
       "    <tr style=\"text-align: right;\">\n",
       "      <th></th>\n",
       "      <th>issueid</th>\n",
       "      <th>dekaid</th>\n",
       "      <th>year</th>\n",
       "      <th>category</th>\n",
       "      <th>issueno</th>\n",
       "      <th>lawids</th>\n",
       "      <th>fact</th>\n",
       "      <th>decision</th>\n",
       "      <th>isact</th>\n",
       "      <th>isexternalelements</th>\n",
       "      <th>...</th>\n",
       "      <th>CC-340ter-00</th>\n",
       "      <th>CC-289(5)-00</th>\n",
       "      <th>CC-391-00</th>\n",
       "      <th>CC-360-00</th>\n",
       "      <th>CC-352-00</th>\n",
       "      <th>CC-335-00</th>\n",
       "      <th>CC-393-01</th>\n",
       "      <th>CC-295-00</th>\n",
       "      <th>CC-289(4)-00</th>\n",
       "      <th>CC-289(2)-00</th>\n",
       "    </tr>\n",
       "  </thead>\n",
       "  <tbody>\n",
       "    <tr>\n",
       "      <th>0</th>\n",
       "      <td>1</td>\n",
       "      <td>1478/2528</td>\n",
       "      <td>2528</td>\n",
       "      <td>LB</td>\n",
       "      <td>1</td>\n",
       "      <td>CC-288-00,CC-083-00,CC-063-00</td>\n",
       "      <td>จำเลยกับพวกร่วมกันใช้อาวุธปืนยิงผู้ตายถูกที่ด้...</td>\n",
       "      <td>จำเลยจึงมีความผิดฐานฆ่าผู้ตายโดยเจตนา</td>\n",
       "      <td>1</td>\n",
       "      <td>1</td>\n",
       "      <td>...</td>\n",
       "      <td>0</td>\n",
       "      <td>0</td>\n",
       "      <td>0</td>\n",
       "      <td>0</td>\n",
       "      <td>0</td>\n",
       "      <td>0</td>\n",
       "      <td>0</td>\n",
       "      <td>0</td>\n",
       "      <td>0</td>\n",
       "      <td>0</td>\n",
       "    </tr>\n",
       "    <tr>\n",
       "      <th>1</th>\n",
       "      <td>2</td>\n",
       "      <td>1548/2531</td>\n",
       "      <td>2531</td>\n",
       "      <td>LB</td>\n",
       "      <td>1</td>\n",
       "      <td>CC-288-00</td>\n",
       "      <td>จำเลยที่ 1 ซึ่งเคยมีเรื่องทะเลาะกับผู้ตายมาก่อ...</td>\n",
       "      <td>จำเลยที่ 1 จึงมีความผิดฐานฆ่าผู้ตายโดยเจตนา</td>\n",
       "      <td>1</td>\n",
       "      <td>1</td>\n",
       "      <td>...</td>\n",
       "      <td>0</td>\n",
       "      <td>0</td>\n",
       "      <td>0</td>\n",
       "      <td>0</td>\n",
       "      <td>0</td>\n",
       "      <td>0</td>\n",
       "      <td>0</td>\n",
       "      <td>0</td>\n",
       "      <td>0</td>\n",
       "      <td>0</td>\n",
       "    </tr>\n",
       "    <tr>\n",
       "      <th>2</th>\n",
       "      <td>3</td>\n",
       "      <td>1548/2531</td>\n",
       "      <td>2531</td>\n",
       "      <td>LB</td>\n",
       "      <td>2</td>\n",
       "      <td>CC-290-00,CC-083-00</td>\n",
       "      <td>ส่วนจำเลยที่ 2 ที่ 3 และที่ 4 นั้น ได้ความว่าก...</td>\n",
       "      <td>การที่จำเลยที่ 1 ใช้เหล็กแหลมแทงผู้ตายโดยเจตนา...</td>\n",
       "      <td>1</td>\n",
       "      <td>1</td>\n",
       "      <td>...</td>\n",
       "      <td>0</td>\n",
       "      <td>0</td>\n",
       "      <td>0</td>\n",
       "      <td>0</td>\n",
       "      <td>0</td>\n",
       "      <td>0</td>\n",
       "      <td>0</td>\n",
       "      <td>0</td>\n",
       "      <td>0</td>\n",
       "      <td>0</td>\n",
       "    </tr>\n",
       "    <tr>\n",
       "      <th>3</th>\n",
       "      <td>4</td>\n",
       "      <td>1548/2531</td>\n",
       "      <td>2531</td>\n",
       "      <td>LB</td>\n",
       "      <td>3</td>\n",
       "      <td>CC-288-00,CC-083-00</td>\n",
       "      <td>ส่วนจำเลยที่ 2 ที่ 3 และที่ 4 นั้น ได้ความว่าก...</td>\n",
       "      <td>การที่จำเลยที่ 1 ใช้เหล็กแหลมแทงผู้ตายโดยเจตนา...</td>\n",
       "      <td>0</td>\n",
       "      <td>-1</td>\n",
       "      <td>...</td>\n",
       "      <td>0</td>\n",
       "      <td>0</td>\n",
       "      <td>0</td>\n",
       "      <td>0</td>\n",
       "      <td>0</td>\n",
       "      <td>0</td>\n",
       "      <td>0</td>\n",
       "      <td>0</td>\n",
       "      <td>0</td>\n",
       "      <td>0</td>\n",
       "    </tr>\n",
       "    <tr>\n",
       "      <th>4</th>\n",
       "      <td>5</td>\n",
       "      <td>1697/2522</td>\n",
       "      <td>2522</td>\n",
       "      <td>LB</td>\n",
       "      <td>1</td>\n",
       "      <td>CC-288-00,CC-083-00</td>\n",
       "      <td>โจทก์บรรยายฟ้องว่า จำเลยกับพวกที่ยังไม่ได้ตัวม...</td>\n",
       "      <td>จึงเป็นการกระทำโดยมีเจตนาฆ่าผู้ตาย แม้ข้อเท็จจ...</td>\n",
       "      <td>1</td>\n",
       "      <td>1</td>\n",
       "      <td>...</td>\n",
       "      <td>0</td>\n",
       "      <td>0</td>\n",
       "      <td>0</td>\n",
       "      <td>0</td>\n",
       "      <td>0</td>\n",
       "      <td>0</td>\n",
       "      <td>0</td>\n",
       "      <td>0</td>\n",
       "      <td>0</td>\n",
       "      <td>0</td>\n",
       "    </tr>\n",
       "  </tbody>\n",
       "</table>\n",
       "<p>5 rows × 59 columns</p>\n",
       "</div>"
      ],
      "text/plain": [
       "   issueid     dekaid  year category  issueno                         lawids  \\\n",
       "0        1  1478/2528  2528       LB        1  CC-288-00,CC-083-00,CC-063-00   \n",
       "1        2  1548/2531  2531       LB        1                      CC-288-00   \n",
       "2        3  1548/2531  2531       LB        2            CC-290-00,CC-083-00   \n",
       "3        4  1548/2531  2531       LB        3            CC-288-00,CC-083-00   \n",
       "4        5  1697/2522  2522       LB        1            CC-288-00,CC-083-00   \n",
       "\n",
       "                                                fact  \\\n",
       "0  จำเลยกับพวกร่วมกันใช้อาวุธปืนยิงผู้ตายถูกที่ด้...   \n",
       "1  จำเลยที่ 1 ซึ่งเคยมีเรื่องทะเลาะกับผู้ตายมาก่อ...   \n",
       "2  ส่วนจำเลยที่ 2 ที่ 3 และที่ 4 นั้น ได้ความว่าก...   \n",
       "3  ส่วนจำเลยที่ 2 ที่ 3 และที่ 4 นั้น ได้ความว่าก...   \n",
       "4  โจทก์บรรยายฟ้องว่า จำเลยกับพวกที่ยังไม่ได้ตัวม...   \n",
       "\n",
       "                                            decision  isact  \\\n",
       "0              จำเลยจึงมีความผิดฐานฆ่าผู้ตายโดยเจตนา      1   \n",
       "1        จำเลยที่ 1 จึงมีความผิดฐานฆ่าผู้ตายโดยเจตนา      1   \n",
       "2  การที่จำเลยที่ 1 ใช้เหล็กแหลมแทงผู้ตายโดยเจตนา...      1   \n",
       "3  การที่จำเลยที่ 1 ใช้เหล็กแหลมแทงผู้ตายโดยเจตนา...      0   \n",
       "4  จึงเป็นการกระทำโดยมีเจตนาฆ่าผู้ตาย แม้ข้อเท็จจ...      1   \n",
       "\n",
       "   isexternalelements  ...  CC-340ter-00  CC-289(5)-00  CC-391-00  CC-360-00  \\\n",
       "0                   1  ...             0             0          0          0   \n",
       "1                   1  ...             0             0          0          0   \n",
       "2                   1  ...             0             0          0          0   \n",
       "3                  -1  ...             0             0          0          0   \n",
       "4                   1  ...             0             0          0          0   \n",
       "\n",
       "   CC-352-00  CC-335-00  CC-393-01  CC-295-00  CC-289(4)-00 CC-289(2)-00  \n",
       "0          0          0          0          0             0            0  \n",
       "1          0          0          0          0             0            0  \n",
       "2          0          0          0          0             0            0  \n",
       "3          0          0          0          0             0            0  \n",
       "4          0          0          0          0             0            0  \n",
       "\n",
       "[5 rows x 59 columns]"
      ]
     },
     "execution_count": 7,
     "metadata": {},
     "output_type": "execute_result"
    }
   ],
   "source": [
    "def label_encoding(case_lawids, lawid):\n",
    "    if lawid in case_lawids:\n",
    "        return 1\n",
    "    else:\n",
    "        return 0\n",
    "\n",
    "\n",
    "\n",
    "for label in labels:\n",
    "    # df2[label] = df2.lawids.apply(lambda x: label_encoding(x, label))\n",
    "    df[label] = df.lawids.apply(lambda x: label_encoding(x, label))\n",
    "   \n",
    "df = df[~(df[labels] == 0).all(axis=1)]\n",
    "df = df.reset_index(drop=True)\n",
    "df.head()"
   ]
  },
  {
   "cell_type": "code",
   "execution_count": 8,
   "metadata": {},
   "outputs": [
    {
     "name": "stdout",
     "output_type": "stream",
     "text": [
      "num_labels:  39\n",
      "Label columns:  ['CC-291-00', 'CC-288-00', 'CC-334-00', 'CC-326-02', 'CC-341-00', 'CC-336-00', 'CC-335-02', 'CC-328-02', 'CC-300-00', 'CC-326-00', 'CC-339-00', 'CC-296-00', 'CC-336bis-00', 'CC-393-00', 'CC-331-00', 'CC-326-01', 'CC-358-00', 'CC-340-00', 'CC-330-00', 'CC-328-01', 'CC-297-00', 'CC-343-00', 'CC-328-00', 'CC-340-01', 'CC-339-02', 'CC-337-00', 'CC-289(6)-00', 'CC-329-00', 'CC-290-00', 'CC-340ter-00', 'CC-289(5)-00', 'CC-391-00', 'CC-360-00', 'CC-352-00', 'CC-335-00', 'CC-393-01', 'CC-295-00', 'CC-289(4)-00', 'CC-289(2)-00']\n"
     ]
    }
   ],
   "source": [
    "cols = df.columns\n",
    "label_cols = list(cols[20:])\n",
    "num_labels = len(label_cols)\n",
    "print('num_labels: ', num_labels)\n",
    "print('Label columns: ', label_cols)"
   ]
  },
  {
   "cell_type": "markdown",
   "metadata": {},
   "source": [
    "## Stats"
   ]
  },
  {
   "cell_type": "code",
   "execution_count": 9,
   "metadata": {},
   "outputs": [
    {
     "name": "stdout",
     "output_type": "stream",
     "text": [
      "Count of 1 per label: \n",
      " CC-291-00        18\n",
      "CC-288-00       221\n",
      "CC-334-00        90\n",
      "CC-326-02        26\n",
      "CC-341-00       183\n",
      "CC-336-00         7\n",
      "CC-335-02        46\n",
      "CC-328-02        40\n",
      "CC-300-00        13\n",
      "CC-326-00        61\n",
      "CC-339-00         6\n",
      "CC-296-00         5\n",
      "CC-336bis-00     11\n",
      "CC-393-00        20\n",
      "CC-331-00        11\n",
      "CC-326-01        57\n",
      "CC-358-00         8\n",
      "CC-340-00         5\n",
      "CC-330-00        14\n",
      "CC-328-01        51\n",
      "CC-297-00        26\n",
      "CC-343-00         6\n",
      "CC-328-00        17\n",
      "CC-340-01         9\n",
      "CC-339-02        15\n",
      "CC-337-00         8\n",
      "CC-289(6)-00      6\n",
      "CC-329-00       108\n",
      "CC-290-00        20\n",
      "CC-340ter-00     10\n",
      "CC-289(5)-00     10\n",
      "CC-391-00        11\n",
      "CC-360-00         7\n",
      "CC-352-00        61\n",
      "CC-335-00         8\n",
      "CC-393-01        27\n",
      "CC-295-00        44\n",
      "CC-289(4)-00     48\n",
      "CC-289(2)-00     13\n",
      "dtype: int64 \n",
      "\n",
      "Count of 0 per label: \n",
      " CC-291-00       1166\n",
      "CC-288-00        963\n",
      "CC-334-00       1094\n",
      "CC-326-02       1158\n",
      "CC-341-00       1001\n",
      "CC-336-00       1177\n",
      "CC-335-02       1138\n",
      "CC-328-02       1144\n",
      "CC-300-00       1171\n",
      "CC-326-00       1123\n",
      "CC-339-00       1178\n",
      "CC-296-00       1179\n",
      "CC-336bis-00    1173\n",
      "CC-393-00       1164\n",
      "CC-331-00       1173\n",
      "CC-326-01       1127\n",
      "CC-358-00       1176\n",
      "CC-340-00       1179\n",
      "CC-330-00       1170\n",
      "CC-328-01       1133\n",
      "CC-297-00       1158\n",
      "CC-343-00       1178\n",
      "CC-328-00       1167\n",
      "CC-340-01       1175\n",
      "CC-339-02       1169\n",
      "CC-337-00       1176\n",
      "CC-289(6)-00    1178\n",
      "CC-329-00       1076\n",
      "CC-290-00       1164\n",
      "CC-340ter-00    1174\n",
      "CC-289(5)-00    1174\n",
      "CC-391-00       1173\n",
      "CC-360-00       1177\n",
      "CC-352-00       1123\n",
      "CC-335-00       1176\n",
      "CC-393-01       1157\n",
      "CC-295-00       1140\n",
      "CC-289(4)-00    1136\n",
      "CC-289(2)-00    1171\n",
      "dtype: int64\n"
     ]
    }
   ],
   "source": [
    "print('Count of 1 per label: \\n', df[label_cols].sum(), '\\n')\n",
    "print('Count of 0 per label: \\n', df[label_cols].eq(0).sum())\n"
   ]
  },
  {
   "cell_type": "code",
   "execution_count": 10,
   "metadata": {},
   "outputs": [
    {
     "data": {
      "text/plain": [
       "[('CC-288-00', 221),\n",
       " ('CC-341-00', 183),\n",
       " ('CC-329-00', 108),\n",
       " ('CC-334-00', 90),\n",
       " ('CC-326-00', 61),\n",
       " ('CC-352-00', 61),\n",
       " ('CC-326-01', 57),\n",
       " ('CC-328-01', 51),\n",
       " ('CC-289(4)-00', 48),\n",
       " ('CC-335-02', 46),\n",
       " ('CC-295-00', 44),\n",
       " ('CC-328-02', 40),\n",
       " ('CC-393-01', 27),\n",
       " ('CC-326-02', 26),\n",
       " ('CC-297-00', 26),\n",
       " ('CC-393-00', 20),\n",
       " ('CC-290-00', 20),\n",
       " ('CC-291-00', 18),\n",
       " ('CC-328-00', 17),\n",
       " ('CC-339-02', 15),\n",
       " ('CC-330-00', 14),\n",
       " ('CC-300-00', 13),\n",
       " ('CC-289(2)-00', 13),\n",
       " ('CC-336bis-00', 11),\n",
       " ('CC-331-00', 11),\n",
       " ('CC-391-00', 11),\n",
       " ('CC-340ter-00', 10),\n",
       " ('CC-289(5)-00', 10),\n",
       " ('CC-340-01', 9),\n",
       " ('CC-358-00', 8),\n",
       " ('CC-337-00', 8),\n",
       " ('CC-335-00', 8),\n",
       " ('CC-336-00', 7),\n",
       " ('CC-360-00', 7),\n",
       " ('CC-339-00', 6),\n",
       " ('CC-343-00', 6),\n",
       " ('CC-289(6)-00', 6),\n",
       " ('CC-296-00', 5),\n",
       " ('CC-340-00', 5)]"
      ]
     },
     "execution_count": 10,
     "metadata": {},
     "output_type": "execute_result"
    }
   ],
   "source": [
    "np_labels = list(map(tuple, df[label_cols].sum().items()))\n",
    "np_labels.sort(key=lambda x: x[1], reverse=True)\n",
    "np_labels"
   ]
  },
  {
   "cell_type": "code",
   "execution_count": 11,
   "metadata": {},
   "outputs": [
    {
     "name": "stderr",
     "output_type": "stream",
     "text": [
      "No artists with labels found to put in legend.  Note that artists whose label start with an underscore are ignored when legend() is called with no argument.\n"
     ]
    },
    {
     "data": {
      "image/png": "[encoded data removed]",
      "text/plain": [
       "<Figure size 1800x600 with 1 Axes>"
      ]
     },
     "metadata": {},
     "output_type": "display_data"
    }
   ],
   "source": [
    "laws, counts = zip(*np_labels)\n",
    "\n",
    "x = range(len(laws))\n",
    "x2 = [i + 0.4 for i in x if laws[i] in laws]\n",
    "width = 0.25\n",
    "\n",
    "plt.figure(figsize=(18,6))\n",
    "plt.bar(x, counts, width=width)\n",
    "\n",
    "x_ticks_labels = [str(lawid) for lawid in laws]\n",
    "plt.xticks([x + 0.2 for x in x], x_ticks_labels, rotation='vertical')\n",
    "plt.ylabel('Occurence of Article IDs')\n",
    "plt.xlabel('Article IDs')\n",
    "plt.title('Occurence of Article IDs')\n",
    "plt.grid()\n",
    "plt.legend()\n",
    "plt.show()"
   ]
  },
  {
   "cell_type": "markdown",
   "metadata": {},
   "source": [
    "## Multi one-hot labels"
   ]
  },
  {
   "cell_type": "code",
   "execution_count": 12,
   "metadata": {},
   "outputs": [
    {
     "data": {
      "text/html": [
       "<div>\n",
       "<style scoped>\n",
       "    .dataframe tbody tr th:only-of-type {\n",
       "        vertical-align: middle;\n",
       "    }\n",
       "\n",
       "    .dataframe tbody tr th {\n",
       "        vertical-align: top;\n",
       "    }\n",
       "\n",
       "    .dataframe thead th {\n",
       "        text-align: right;\n",
       "    }\n",
       "</style>\n",
       "<table border=\"1\" class=\"dataframe\">\n",
       "  <thead>\n",
       "    <tr style=\"text-align: right;\">\n",
       "      <th></th>\n",
       "      <th>issueid</th>\n",
       "      <th>dekaid</th>\n",
       "      <th>year</th>\n",
       "      <th>category</th>\n",
       "      <th>issueno</th>\n",
       "      <th>lawids</th>\n",
       "      <th>fact</th>\n",
       "      <th>decision</th>\n",
       "      <th>isact</th>\n",
       "      <th>isexternalelements</th>\n",
       "      <th>...</th>\n",
       "      <th>CC-289(5)-00</th>\n",
       "      <th>CC-391-00</th>\n",
       "      <th>CC-360-00</th>\n",
       "      <th>CC-352-00</th>\n",
       "      <th>CC-335-00</th>\n",
       "      <th>CC-393-01</th>\n",
       "      <th>CC-295-00</th>\n",
       "      <th>CC-289(4)-00</th>\n",
       "      <th>CC-289(2)-00</th>\n",
       "      <th>one_hot_labels</th>\n",
       "    </tr>\n",
       "  </thead>\n",
       "  <tbody>\n",
       "    <tr>\n",
       "      <th>0</th>\n",
       "      <td>1</td>\n",
       "      <td>1478/2528</td>\n",
       "      <td>2528</td>\n",
       "      <td>LB</td>\n",
       "      <td>1</td>\n",
       "      <td>CC-288-00,CC-083-00,CC-063-00</td>\n",
       "      <td>จำเลยกับพวกร่วมกันใช้อาวุธปืนยิงผู้ตายถูกที่ด้...</td>\n",
       "      <td>จำเลยจึงมีความผิดฐานฆ่าผู้ตายโดยเจตนา</td>\n",
       "      <td>1</td>\n",
       "      <td>1</td>\n",
       "      <td>...</td>\n",
       "      <td>0</td>\n",
       "      <td>0</td>\n",
       "      <td>0</td>\n",
       "      <td>0</td>\n",
       "      <td>0</td>\n",
       "      <td>0</td>\n",
       "      <td>0</td>\n",
       "      <td>0</td>\n",
       "      <td>0</td>\n",
       "      <td>[0, 1, 0, 0, 0, 0, 0, 0, 0, 0, 0, 0, 0, 0, 0, ...</td>\n",
       "    </tr>\n",
       "    <tr>\n",
       "      <th>1</th>\n",
       "      <td>2</td>\n",
       "      <td>1548/2531</td>\n",
       "      <td>2531</td>\n",
       "      <td>LB</td>\n",
       "      <td>1</td>\n",
       "      <td>CC-288-00</td>\n",
       "      <td>จำเลยที่ 1 ซึ่งเคยมีเรื่องทะเลาะกับผู้ตายมาก่อ...</td>\n",
       "      <td>จำเลยที่ 1 จึงมีความผิดฐานฆ่าผู้ตายโดยเจตนา</td>\n",
       "      <td>1</td>\n",
       "      <td>1</td>\n",
       "      <td>...</td>\n",
       "      <td>0</td>\n",
       "      <td>0</td>\n",
       "      <td>0</td>\n",
       "      <td>0</td>\n",
       "      <td>0</td>\n",
       "      <td>0</td>\n",
       "      <td>0</td>\n",
       "      <td>0</td>\n",
       "      <td>0</td>\n",
       "      <td>[0, 1, 0, 0, 0, 0, 0, 0, 0, 0, 0, 0, 0, 0, 0, ...</td>\n",
       "    </tr>\n",
       "    <tr>\n",
       "      <th>2</th>\n",
       "      <td>3</td>\n",
       "      <td>1548/2531</td>\n",
       "      <td>2531</td>\n",
       "      <td>LB</td>\n",
       "      <td>2</td>\n",
       "      <td>CC-290-00,CC-083-00</td>\n",
       "      <td>ส่วนจำเลยที่ 2 ที่ 3 และที่ 4 นั้น ได้ความว่าก...</td>\n",
       "      <td>การที่จำเลยที่ 1 ใช้เหล็กแหลมแทงผู้ตายโดยเจตนา...</td>\n",
       "      <td>1</td>\n",
       "      <td>1</td>\n",
       "      <td>...</td>\n",
       "      <td>0</td>\n",
       "      <td>0</td>\n",
       "      <td>0</td>\n",
       "      <td>0</td>\n",
       "      <td>0</td>\n",
       "      <td>0</td>\n",
       "      <td>0</td>\n",
       "      <td>0</td>\n",
       "      <td>0</td>\n",
       "      <td>[0, 0, 0, 0, 0, 0, 0, 0, 0, 0, 0, 0, 0, 0, 0, ...</td>\n",
       "    </tr>\n",
       "    <tr>\n",
       "      <th>3</th>\n",
       "      <td>4</td>\n",
       "      <td>1548/2531</td>\n",
       "      <td>2531</td>\n",
       "      <td>LB</td>\n",
       "      <td>3</td>\n",
       "      <td>CC-288-00,CC-083-00</td>\n",
       "      <td>ส่วนจำเลยที่ 2 ที่ 3 และที่ 4 นั้น ได้ความว่าก...</td>\n",
       "      <td>การที่จำเลยที่ 1 ใช้เหล็กแหลมแทงผู้ตายโดยเจตนา...</td>\n",
       "      <td>0</td>\n",
       "      <td>-1</td>\n",
       "      <td>...</td>\n",
       "      <td>0</td>\n",
       "      <td>0</td>\n",
       "      <td>0</td>\n",
       "      <td>0</td>\n",
       "      <td>0</td>\n",
       "      <td>0</td>\n",
       "      <td>0</td>\n",
       "      <td>0</td>\n",
       "      <td>0</td>\n",
       "      <td>[0, 1, 0, 0, 0, 0, 0, 0, 0, 0, 0, 0, 0, 0, 0, ...</td>\n",
       "    </tr>\n",
       "    <tr>\n",
       "      <th>4</th>\n",
       "      <td>5</td>\n",
       "      <td>1697/2522</td>\n",
       "      <td>2522</td>\n",
       "      <td>LB</td>\n",
       "      <td>1</td>\n",
       "      <td>CC-288-00,CC-083-00</td>\n",
       "      <td>โจทก์บรรยายฟ้องว่า จำเลยกับพวกที่ยังไม่ได้ตัวม...</td>\n",
       "      <td>จึงเป็นการกระทำโดยมีเจตนาฆ่าผู้ตาย แม้ข้อเท็จจ...</td>\n",
       "      <td>1</td>\n",
       "      <td>1</td>\n",
       "      <td>...</td>\n",
       "      <td>0</td>\n",
       "      <td>0</td>\n",
       "      <td>0</td>\n",
       "      <td>0</td>\n",
       "      <td>0</td>\n",
       "      <td>0</td>\n",
       "      <td>0</td>\n",
       "      <td>0</td>\n",
       "      <td>0</td>\n",
       "      <td>[0, 1, 0, 0, 0, 0, 0, 0, 0, 0, 0, 0, 0, 0, 0, ...</td>\n",
       "    </tr>\n",
       "  </tbody>\n",
       "</table>\n",
       "<p>5 rows × 60 columns</p>\n",
       "</div>"
      ],
      "text/plain": [
       "   issueid     dekaid  year category  issueno                         lawids  \\\n",
       "0        1  1478/2528  2528       LB        1  CC-288-00,CC-083-00,CC-063-00   \n",
       "1        2  1548/2531  2531       LB        1                      CC-288-00   \n",
       "2        3  1548/2531  2531       LB        2            CC-290-00,CC-083-00   \n",
       "3        4  1548/2531  2531       LB        3            CC-288-00,CC-083-00   \n",
       "4        5  1697/2522  2522       LB        1            CC-288-00,CC-083-00   \n",
       "\n",
       "                                                fact  \\\n",
       "0  จำเลยกับพวกร่วมกันใช้อาวุธปืนยิงผู้ตายถูกที่ด้...   \n",
       "1  จำเลยที่ 1 ซึ่งเคยมีเรื่องทะเลาะกับผู้ตายมาก่อ...   \n",
       "2  ส่วนจำเลยที่ 2 ที่ 3 และที่ 4 นั้น ได้ความว่าก...   \n",
       "3  ส่วนจำเลยที่ 2 ที่ 3 และที่ 4 นั้น ได้ความว่าก...   \n",
       "4  โจทก์บรรยายฟ้องว่า จำเลยกับพวกที่ยังไม่ได้ตัวม...   \n",
       "\n",
       "                                            decision  isact  \\\n",
       "0              จำเลยจึงมีความผิดฐานฆ่าผู้ตายโดยเจตนา      1   \n",
       "1        จำเลยที่ 1 จึงมีความผิดฐานฆ่าผู้ตายโดยเจตนา      1   \n",
       "2  การที่จำเลยที่ 1 ใช้เหล็กแหลมแทงผู้ตายโดยเจตนา...      1   \n",
       "3  การที่จำเลยที่ 1 ใช้เหล็กแหลมแทงผู้ตายโดยเจตนา...      0   \n",
       "4  จึงเป็นการกระทำโดยมีเจตนาฆ่าผู้ตาย แม้ข้อเท็จจ...      1   \n",
       "\n",
       "   isexternalelements  ...  CC-289(5)-00  CC-391-00  CC-360-00  CC-352-00  \\\n",
       "0                   1  ...             0          0          0          0   \n",
       "1                   1  ...             0          0          0          0   \n",
       "2                   1  ...             0          0          0          0   \n",
       "3                  -1  ...             0          0          0          0   \n",
       "4                   1  ...             0          0          0          0   \n",
       "\n",
       "   CC-335-00  CC-393-01  CC-295-00  CC-289(4)-00  CC-289(2)-00  \\\n",
       "0          0          0          0             0             0   \n",
       "1          0          0          0             0             0   \n",
       "2          0          0          0             0             0   \n",
       "3          0          0          0             0             0   \n",
       "4          0          0          0             0             0   \n",
       "\n",
       "                                      one_hot_labels  \n",
       "0  [0, 1, 0, 0, 0, 0, 0, 0, 0, 0, 0, 0, 0, 0, 0, ...  \n",
       "1  [0, 1, 0, 0, 0, 0, 0, 0, 0, 0, 0, 0, 0, 0, 0, ...  \n",
       "2  [0, 0, 0, 0, 0, 0, 0, 0, 0, 0, 0, 0, 0, 0, 0, ...  \n",
       "3  [0, 1, 0, 0, 0, 0, 0, 0, 0, 0, 0, 0, 0, 0, 0, ...  \n",
       "4  [0, 1, 0, 0, 0, 0, 0, 0, 0, 0, 0, 0, 0, 0, 0, ...  \n",
       "\n",
       "[5 rows x 60 columns]"
      ]
     },
     "execution_count": 12,
     "metadata": {},
     "output_type": "execute_result"
    }
   ],
   "source": [
    "df['one_hot_labels'] = list(df[label_cols].values)\n",
    "df.head()"
   ]
  },
  {
   "cell_type": "code",
   "execution_count": 13,
   "metadata": {},
   "outputs": [
    {
     "name": "stdout",
     "output_type": "stream",
     "text": [
      "1184\n",
      "1184\n"
     ]
    }
   ],
   "source": [
    "mult_labels = list(df.one_hot_labels.values)\n",
    "facts = list(df.filtered_fact.values)\n",
    "print(len(mult_labels))\n",
    "print(len(facts))\n"
   ]
  },
  {
   "cell_type": "markdown",
   "metadata": {},
   "source": [
    "# Create Dataset"
   ]
  },
  {
   "cell_type": "markdown",
   "metadata": {},
   "source": [
    "## Tokenizer from Model "
   ]
  },
  {
   "cell_type": "code",
   "execution_count": 14,
   "metadata": {},
   "outputs": [],
   "source": [
    "model_name = \"airesearch/wangchanberta-base-att-spm-uncased\"\n",
    "# model_name = \"xlm-roberta-base\""
   ]
  },
  {
   "cell_type": "code",
   "execution_count": 15,
   "metadata": {},
   "outputs": [],
   "source": [
    "# Counter([len(tokenizer.tokenize(sent)) for sent in facts])"
   ]
  },
  {
   "cell_type": "code",
   "execution_count": null,
   "metadata": {},
   "outputs": [],
   "source": []
  },
  {
   "cell_type": "code",
   "execution_count": 16,
   "metadata": {},
   "outputs": [
    {
     "name": "stdout",
     "output_type": "stream",
     "text": [
      "Requirement already satisfied: transformers in /root/miniconda3/envs/myenv/lib/python3.10/site-packages (4.34.1)\n",
      "Requirement already satisfied: filelock in /root/miniconda3/envs/myenv/lib/python3.10/site-packages (from transformers) (3.12.4)\n",
      "Requirement already satisfied: huggingface-hub<1.0,>=0.16.4 in /root/miniconda3/envs/myenv/lib/python3.10/site-packages (from transformers) (0.17.3)\n",
      "Requirement already satisfied: numpy>=1.17 in /root/miniconda3/envs/myenv/lib/python3.10/site-packages (from transformers) (1.26.1)\n",
      "Requirement already satisfied: packaging>=20.0 in /root/miniconda3/envs/myenv/lib/python3.10/site-packages (from transformers) (23.2)\n",
      "Requirement already satisfied: pyyaml>=5.1 in /root/miniconda3/envs/myenv/lib/python3.10/site-packages (from transformers) (6.0.1)\n",
      "Requirement already satisfied: regex!=2019.12.17 in /root/miniconda3/envs/myenv/lib/python3.10/site-packages (from transformers) (2023.10.3)\n",
      "Requirement already satisfied: requests in /root/miniconda3/envs/myenv/lib/python3.10/site-packages (from transformers) (2.31.0)\n",
      "Requirement already satisfied: tokenizers<0.15,>=0.14 in /root/miniconda3/envs/myenv/lib/python3.10/site-packages (from transformers) (0.14.1)\n",
      "Requirement already satisfied: safetensors>=0.3.1 in /root/miniconda3/envs/myenv/lib/python3.10/site-packages (from transformers) (0.3.3)\n",
      "Requirement already satisfied: tqdm>=4.27 in /root/miniconda3/envs/myenv/lib/python3.10/site-packages (from transformers) (4.66.1)\n",
      "Requirement already satisfied: fsspec in /root/miniconda3/envs/myenv/lib/python3.10/site-packages (from huggingface-hub<1.0,>=0.16.4->transformers) (2023.10.0)\n",
      "Requirement already satisfied: typing-extensions>=3.7.4.3 in /root/miniconda3/envs/myenv/lib/python3.10/site-packages (from huggingface-hub<1.0,>=0.16.4->transformers) (4.8.0)\n",
      "Requirement already satisfied: charset-normalizer<4,>=2 in /root/miniconda3/envs/myenv/lib/python3.10/site-packages (from requests->transformers) (3.3.1)\n",
      "Requirement already satisfied: idna<4,>=2.5 in /root/miniconda3/envs/myenv/lib/python3.10/site-packages (from requests->transformers) (3.4)\n",
      "Requirement already satisfied: urllib3<3,>=1.21.1 in /root/miniconda3/envs/myenv/lib/python3.10/site-packages (from requests->transformers) (2.0.7)\n",
      "Requirement already satisfied: certifi>=2017.4.17 in /root/miniconda3/envs/myenv/lib/python3.10/site-packages (from requests->transformers) (2023.7.22)\n",
      "\u001b[33mWARNING: Running pip as the 'root' user can result in broken permissions and conflicting behaviour with the system package manager. It is recommended to use a virtual environment instead: https://pip.pypa.io/warnings/venv\u001b[0m\u001b[33m\n",
      "\u001b[0m\u001b[33mWARNING: Running pip as the 'root' user can result in broken permissions and conflicting behaviour with the system package manager. It is recommended to use a virtual environment instead: https://pip.pypa.io/warnings/venv\u001b[0m\u001b[33m\n",
      "\u001b[0mRequirement already satisfied: thai2transformers==0.1.2 in /root/miniconda3/envs/myenv/lib/python3.10/site-packages (0.1.2)\n",
      "\u001b[33mWARNING: Running pip as the 'root' user can result in broken permissions and conflicting behaviour with the system package manager. It is recommended to use a virtual environment instead: https://pip.pypa.io/warnings/venv\u001b[0m\u001b[33m\n",
      "\u001b[0m"
     ]
    }
   ],
   "source": [
    "!pip install transformers\n",
    "!pip install -q emoji pythainlp==2.2.4 sefr_cut tinydb seqeval sentencepiece pydantic jsonlines\n",
    "!pip install --no-deps thai2transformers==0.1.2"
   ]
  },
  {
   "cell_type": "code",
   "execution_count": 17,
   "metadata": {},
   "outputs": [
    {
     "name": "stdout",
     "output_type": "stream",
     "text": [
      "sentencepiece==0.1.99\n"
     ]
    }
   ],
   "source": [
    "!pip freeze | grep sentence"
   ]
  },
  {
   "cell_type": "code",
   "execution_count": 18,
   "metadata": {},
   "outputs": [
    {
     "name": "stdout",
     "output_type": "stream",
     "text": [
      "tokenizer outputs:  dict_keys(['input_ids', 'attention_mask'])\n"
     ]
    }
   ],
   "source": [
    "max_length = 416\n",
    "tokenizer = AutoTokenizer.from_pretrained(\n",
    "                model_name,\n",
    "                revision='main',\n",
    "                model_max_length=max_length,)\n",
    "\n",
    "encodings = tokenizer(facts, max_length=max_length, padding=True, truncation=True) # tokenizer's encoding method\n",
    "print('tokenizer outputs: ', encodings.keys())"
   ]
  },
  {
   "cell_type": "code",
   "execution_count": null,
   "metadata": {},
   "outputs": [],
   "source": []
  },
  {
   "cell_type": "code",
   "execution_count": 19,
   "metadata": {},
   "outputs": [
    {
     "name": "stderr",
     "output_type": "stream",
     "text": [
      "huggingface/tokenizers: The current process just got forked, after parallelism has already been used. Disabling parallelism to avoid deadlocks...\n",
      "To disable this warning, you can either:\n",
      "\t- Avoid using `tokenizers` before the fork if possible\n",
      "\t- Explicitly set the environment variable TOKENIZERS_PARALLELISM=(true | false)\n"
     ]
    },
    {
     "name": "stdout",
     "output_type": "stream",
     "text": [
      "sentencepiece==0.1.99\n"
     ]
    }
   ],
   "source": [
    "!pip freeze | grep sentence"
   ]
  },
  {
   "cell_type": "code",
   "execution_count": 20,
   "metadata": {},
   "outputs": [
    {
     "data": {
      "text/plain": [
       "transformers.tokenization_utils_base.BatchEncoding"
      ]
     },
     "execution_count": 20,
     "metadata": {},
     "output_type": "execute_result"
    }
   ],
   "source": [
    "type(encodings)"
   ]
  },
  {
   "cell_type": "code",
   "execution_count": 21,
   "metadata": {},
   "outputs": [],
   "source": [
    "input_ids = encodings['input_ids'] # tokenized and encoded sentences\n",
    "attention_masks = encodings['attention_mask'] # attention masks"
   ]
  },
  {
   "cell_type": "markdown",
   "metadata": {},
   "source": [
    "## Stratifying"
   ]
  },
  {
   "cell_type": "code",
   "execution_count": 22,
   "metadata": {},
   "outputs": [
    {
     "name": "stdout",
     "output_type": "stream",
     "text": [
      "df label indices with only one instance:  [687, 682, 386, 373, 300, 216, 210, 208]\n"
     ]
    }
   ],
   "source": [
    "label_counts = df.one_hot_labels.astype(str).value_counts()\n",
    "one_freq = label_counts[label_counts==1].keys()\n",
    "one_freq_idxs = sorted(list(df[df.one_hot_labels.astype(str).isin(one_freq)].index), reverse=True)\n",
    "print('df label indices with only one instance: ', one_freq_idxs)"
   ]
  },
  {
   "cell_type": "code",
   "execution_count": 23,
   "metadata": {},
   "outputs": [],
   "source": [
    "# Gathering single instance inputs to force into the training set after stratified split\n",
    "one_freq_input_ids = [input_ids.pop(i) for i in one_freq_idxs]\n",
    "one_freq_attention_masks = [attention_masks.pop(i) for i in one_freq_idxs]\n",
    "one_freq_labels = [mult_labels.pop(i) for i in one_freq_idxs]"
   ]
  },
  {
   "cell_type": "markdown",
   "metadata": {},
   "source": [
    "## Train, Valid Split"
   ]
  },
  {
   "cell_type": "code",
   "execution_count": 24,
   "metadata": {},
   "outputs": [
    {
     "name": "stderr",
     "output_type": "stream",
     "text": [
      "/tmp/ipykernel_190766/3558801885.py:14: UserWarning: Creating a tensor from a list of numpy.ndarrays is extremely slow. Please consider converting the list to a single numpy.ndarray with numpy.array() before converting to a tensor. (Triggered internally at ../torch/csrc/utils/tensor_new.cpp:261.)\n",
      "  train_labels = torch.FloatTensor(train_labels)\n"
     ]
    }
   ],
   "source": [
    "# Use train_test_split to split our data into train and validation sets\n",
    "\n",
    "train_inputs, valid_inputs, train_labels, \\\n",
    "    valid_labels, train_masks, valid_masks = train_test_split(input_ids, mult_labels, attention_masks,\n",
    "                                                            random_state=111, test_size=0.10, stratify=mult_labels)\n",
    "\n",
    "# Add one frequency data to train data\n",
    "train_inputs.extend(one_freq_input_ids)\n",
    "train_labels.extend(one_freq_labels)\n",
    "train_masks.extend(one_freq_attention_masks)\n",
    "\n",
    "# Convert all of our data into torch tensors, the required datatype for our model\n",
    "train_inputs = torch.tensor(train_inputs)\n",
    "train_labels = torch.FloatTensor(train_labels)\n",
    "train_masks = torch.tensor(train_masks)\n",
    "\n",
    "valid_inputs = torch.tensor(valid_inputs)\n",
    "valid_labels = torch.FloatTensor(valid_labels)\n",
    "valid_masks = torch.tensor(valid_masks)"
   ]
  },
  {
   "cell_type": "markdown",
   "metadata": {},
   "source": [
    "## Dataset"
   ]
  },
  {
   "cell_type": "markdown",
   "metadata": {},
   "source": [
    "## Change to dictionary for Trainer class"
   ]
  },
  {
   "cell_type": "code",
   "execution_count": 25,
   "metadata": {},
   "outputs": [],
   "source": [
    "class TSCCDataset(torch.utils.data.Dataset):\n",
    "    def __init__(self, inputs, masks, labels):\n",
    "        self.inputs = inputs\n",
    "        self.masks = masks\n",
    "        self.labels = labels\n",
    "\n",
    "    def __getitem__(self, idx):\n",
    "        item = {'input_ids': self.inputs[idx], 'attention_mask': self.masks[idx], 'labels': self.labels[idx]}\n",
    "        return item\n",
    "\n",
    "    def __len__(self):\n",
    "        return len(self.labels)\n",
    "\n",
    "train_dataset = TSCCDataset(train_inputs, train_masks, train_labels)\n",
    "valid_dataset = TSCCDataset(valid_inputs, valid_masks, valid_labels)"
   ]
  },
  {
   "cell_type": "markdown",
   "metadata": {},
   "source": [
    "# Load Model & Set Params"
   ]
  },
  {
   "cell_type": "code",
   "execution_count": 26,
   "metadata": {},
   "outputs": [
    {
     "name": "stderr",
     "output_type": "stream",
     "text": [
      "Some weights of CamembertForSequenceClassification were not initialized from the model checkpoint at airesearch/wangchanberta-base-att-spm-uncased and are newly initialized: ['classifier.dense.weight', 'classifier.dense.bias', 'classifier.out_proj.weight', 'classifier.out_proj.bias']\n",
      "You should probably TRAIN this model on a down-stream task to be able to use it for predictions and inference.\n"
     ]
    }
   ],
   "source": [
    "#revision = \"finetuned@wisesight_sentiment\"\n",
    "revision = None\n",
    "model = AutoModelForSequenceClassification.from_pretrained(\n",
    "    model_name, num_labels=num_labels, revision=revision, problem_type='multi_label_classification'\n",
    ")"
   ]
  },
  {
   "cell_type": "code",
   "execution_count": 27,
   "metadata": {},
   "outputs": [
    {
     "data": {
      "text/plain": [
       "SequenceClassifierOutput(loss=tensor(0.7213, grad_fn=<BinaryCrossEntropyWithLogitsBackward0>), logits=tensor([[ 9.7679e-02,  4.4856e-02,  5.0295e-01,  4.6587e-01, -2.7440e-04,\n",
       "          1.6672e-01, -4.1648e-02, -5.0141e-02, -3.3115e-01,  2.0704e-01,\n",
       "         -3.1914e-01,  3.3404e-01,  2.6885e-01,  4.1150e-02,  3.2977e-02,\n",
       "          3.0143e-01,  5.3806e-03,  2.8228e-01,  6.5218e-02,  2.4088e-01,\n",
       "         -3.1905e-01, -8.4271e-03, -8.3819e-02, -1.2460e-01, -3.1813e-01,\n",
       "          1.7376e-01, -1.4586e-01,  6.6033e-02,  6.6131e-03,  6.6486e-02,\n",
       "         -2.4763e-01, -1.1249e-01,  2.5465e-01, -1.8085e-01,  2.1518e-01,\n",
       "          4.7952e-01, -5.0439e-02,  2.1934e-01, -9.0609e-02]],\n",
       "       grad_fn=<AddmmBackward0>), hidden_states=None, attentions=None)"
      ]
     },
     "execution_count": 27,
     "metadata": {},
     "output_type": "execute_result"
    }
   ],
   "source": [
    "'''Trying forward pass'''\n",
    "outputs = model(input_ids=train_dataset[0]['input_ids'].unsqueeze(0), \n",
    "    labels=train_dataset[0]['labels'].unsqueeze(0),\n",
    "    attention_mask=train_dataset[0]['attention_mask'].unsqueeze(0))\n",
    "outputs"
   ]
  },
  {
   "cell_type": "code",
   "execution_count": 28,
   "metadata": {},
   "outputs": [
    {
     "data": {
      "text/plain": [
       "torch.Size([1, 768])"
      ]
     },
     "execution_count": 28,
     "metadata": {},
     "output_type": "execute_result"
    }
   ],
   "source": [
    "outputs = model(input_ids=train_dataset[0]['input_ids'].unsqueeze(0), \n",
    "    labels=train_dataset[0]['labels'].unsqueeze(0),\n",
    "    attention_mask=train_dataset[0]['attention_mask'].unsqueeze(0),\n",
    "    output_hidden_states = True)\n",
    "outputs.hidden_states[-1].mean(1).shape"
   ]
  },
  {
   "cell_type": "markdown",
   "metadata": {},
   "source": [
    "# Train"
   ]
  },
  {
   "cell_type": "code",
   "execution_count": 29,
   "metadata": {},
   "outputs": [
    {
     "name": "stderr",
     "output_type": "stream",
     "text": [
      "huggingface/tokenizers: The current process just got forked, after parallelism has already been used. Disabling parallelism to avoid deadlocks...\n",
      "To disable this warning, you can either:\n",
      "\t- Avoid using `tokenizers` before the fork if possible\n",
      "\t- Explicitly set the environment variable TOKENIZERS_PARALLELISM=(true | false)\n"
     ]
    },
    {
     "name": "stdout",
     "output_type": "stream",
     "text": [
      "Requirement already satisfied: neptune in /root/miniconda3/envs/myenv/lib/python3.10/site-packages (1.8.2)\n",
      "Requirement already satisfied: GitPython>=2.0.8 in /root/miniconda3/envs/myenv/lib/python3.10/site-packages (from neptune) (3.1.40)\n",
      "Requirement already satisfied: Pillow>=1.1.6 in /root/miniconda3/envs/myenv/lib/python3.10/site-packages (from neptune) (10.1.0)\n",
      "Requirement already satisfied: PyJWT in /root/miniconda3/envs/myenv/lib/python3.10/site-packages (from neptune) (2.8.0)\n",
      "Requirement already satisfied: boto3>=1.28.0 in /root/miniconda3/envs/myenv/lib/python3.10/site-packages (from neptune) (1.28.81)\n",
      "Requirement already satisfied: bravado<12.0.0,>=11.0.0 in /root/miniconda3/envs/myenv/lib/python3.10/site-packages (from neptune) (11.0.3)\n",
      "Requirement already satisfied: click>=7.0 in /root/miniconda3/envs/myenv/lib/python3.10/site-packages (from neptune) (8.1.7)\n",
      "Requirement already satisfied: future>=0.17.1 in /root/miniconda3/envs/myenv/lib/python3.10/site-packages (from neptune) (0.18.3)\n",
      "Requirement already satisfied: oauthlib>=2.1.0 in /root/miniconda3/envs/myenv/lib/python3.10/site-packages (from neptune) (3.2.2)\n",
      "Requirement already satisfied: packaging in /root/miniconda3/envs/myenv/lib/python3.10/site-packages (from neptune) (23.2)\n",
      "Requirement already satisfied: pandas in /root/miniconda3/envs/myenv/lib/python3.10/site-packages (from neptune) (2.1.1)\n",
      "Requirement already satisfied: psutil in /root/miniconda3/envs/myenv/lib/python3.10/site-packages (from neptune) (5.9.5)\n",
      "Requirement already satisfied: requests>=2.20.0 in /root/miniconda3/envs/myenv/lib/python3.10/site-packages (from neptune) (2.31.0)\n",
      "Requirement already satisfied: requests-oauthlib>=1.0.0 in /root/miniconda3/envs/myenv/lib/python3.10/site-packages (from neptune) (1.3.1)\n",
      "Requirement already satisfied: six>=1.12.0 in /root/miniconda3/envs/myenv/lib/python3.10/site-packages (from neptune) (1.16.0)\n",
      "Requirement already satisfied: swagger-spec-validator>=2.7.4 in /root/miniconda3/envs/myenv/lib/python3.10/site-packages (from neptune) (3.0.3)\n",
      "Requirement already satisfied: urllib3 in /root/miniconda3/envs/myenv/lib/python3.10/site-packages (from neptune) (2.0.7)\n",
      "Requirement already satisfied: websocket-client!=1.0.0,>=0.35.0 in /root/miniconda3/envs/myenv/lib/python3.10/site-packages (from neptune) (1.6.4)\n",
      "Requirement already satisfied: botocore<1.32.0,>=1.31.81 in /root/miniconda3/envs/myenv/lib/python3.10/site-packages (from boto3>=1.28.0->neptune) (1.31.81)\n",
      "Requirement already satisfied: jmespath<2.0.0,>=0.7.1 in /root/miniconda3/envs/myenv/lib/python3.10/site-packages (from boto3>=1.28.0->neptune) (1.0.1)\n",
      "Requirement already satisfied: s3transfer<0.8.0,>=0.7.0 in /root/miniconda3/envs/myenv/lib/python3.10/site-packages (from boto3>=1.28.0->neptune) (0.7.0)\n",
      "Requirement already satisfied: bravado-core>=5.16.1 in /root/miniconda3/envs/myenv/lib/python3.10/site-packages (from bravado<12.0.0,>=11.0.0->neptune) (6.1.0)\n",
      "Requirement already satisfied: msgpack in /root/miniconda3/envs/myenv/lib/python3.10/site-packages (from bravado<12.0.0,>=11.0.0->neptune) (1.0.7)\n",
      "Requirement already satisfied: python-dateutil in /root/miniconda3/envs/myenv/lib/python3.10/site-packages (from bravado<12.0.0,>=11.0.0->neptune) (2.8.2)\n",
      "Requirement already satisfied: pyyaml in /root/miniconda3/envs/myenv/lib/python3.10/site-packages (from bravado<12.0.0,>=11.0.0->neptune) (6.0.1)\n",
      "Requirement already satisfied: simplejson in /root/miniconda3/envs/myenv/lib/python3.10/site-packages (from bravado<12.0.0,>=11.0.0->neptune) (3.19.2)\n",
      "Requirement already satisfied: monotonic in /root/miniconda3/envs/myenv/lib/python3.10/site-packages (from bravado<12.0.0,>=11.0.0->neptune) (1.6)\n",
      "Requirement already satisfied: typing-extensions in /root/miniconda3/envs/myenv/lib/python3.10/site-packages (from bravado<12.0.0,>=11.0.0->neptune) (4.8.0)\n",
      "Requirement already satisfied: gitdb<5,>=4.0.1 in /root/miniconda3/envs/myenv/lib/python3.10/site-packages (from GitPython>=2.0.8->neptune) (4.0.11)\n",
      "Requirement already satisfied: charset-normalizer<4,>=2 in /root/miniconda3/envs/myenv/lib/python3.10/site-packages (from requests>=2.20.0->neptune) (3.3.1)\n",
      "Requirement already satisfied: idna<4,>=2.5 in /root/miniconda3/envs/myenv/lib/python3.10/site-packages (from requests>=2.20.0->neptune) (3.4)\n",
      "Requirement already satisfied: certifi>=2017.4.17 in /root/miniconda3/envs/myenv/lib/python3.10/site-packages (from requests>=2.20.0->neptune) (2023.7.22)\n",
      "Requirement already satisfied: jsonschema in /root/miniconda3/envs/myenv/lib/python3.10/site-packages (from swagger-spec-validator>=2.7.4->neptune) (4.19.2)\n",
      "Requirement already satisfied: numpy>=1.22.4 in /root/miniconda3/envs/myenv/lib/python3.10/site-packages (from pandas->neptune) (1.26.1)\n",
      "Requirement already satisfied: pytz>=2020.1 in /root/miniconda3/envs/myenv/lib/python3.10/site-packages (from pandas->neptune) (2023.3.post1)\n",
      "Requirement already satisfied: tzdata>=2022.1 in /root/miniconda3/envs/myenv/lib/python3.10/site-packages (from pandas->neptune) (2023.3)\n",
      "Requirement already satisfied: jsonref in /root/miniconda3/envs/myenv/lib/python3.10/site-packages (from bravado-core>=5.16.1->bravado<12.0.0,>=11.0.0->neptune) (1.1.0)\n",
      "Requirement already satisfied: smmap<6,>=3.0.1 in /root/miniconda3/envs/myenv/lib/python3.10/site-packages (from gitdb<5,>=4.0.1->GitPython>=2.0.8->neptune) (5.0.1)\n",
      "Requirement already satisfied: attrs>=22.2.0 in /root/miniconda3/envs/myenv/lib/python3.10/site-packages (from jsonschema->swagger-spec-validator>=2.7.4->neptune) (23.1.0)\n",
      "Requirement already satisfied: jsonschema-specifications>=2023.03.6 in /root/miniconda3/envs/myenv/lib/python3.10/site-packages (from jsonschema->swagger-spec-validator>=2.7.4->neptune) (2023.7.1)\n",
      "Requirement already satisfied: referencing>=0.28.4 in /root/miniconda3/envs/myenv/lib/python3.10/site-packages (from jsonschema->swagger-spec-validator>=2.7.4->neptune) (0.30.2)\n",
      "Requirement already satisfied: rpds-py>=0.7.1 in /root/miniconda3/envs/myenv/lib/python3.10/site-packages (from jsonschema->swagger-spec-validator>=2.7.4->neptune) (0.12.0)\n",
      "Requirement already satisfied: fqdn in /root/miniconda3/envs/myenv/lib/python3.10/site-packages (from jsonschema->swagger-spec-validator>=2.7.4->neptune) (1.5.1)\n",
      "Requirement already satisfied: isoduration in /root/miniconda3/envs/myenv/lib/python3.10/site-packages (from jsonschema->swagger-spec-validator>=2.7.4->neptune) (20.11.0)\n",
      "Requirement already satisfied: jsonpointer>1.13 in /root/miniconda3/envs/myenv/lib/python3.10/site-packages (from jsonschema->swagger-spec-validator>=2.7.4->neptune) (2.4)\n",
      "Requirement already satisfied: rfc3339-validator in /root/miniconda3/envs/myenv/lib/python3.10/site-packages (from jsonschema->swagger-spec-validator>=2.7.4->neptune) (0.1.4)\n",
      "Requirement already satisfied: rfc3987 in /root/miniconda3/envs/myenv/lib/python3.10/site-packages (from jsonschema->swagger-spec-validator>=2.7.4->neptune) (1.3.8)\n",
      "Requirement already satisfied: uri-template in /root/miniconda3/envs/myenv/lib/python3.10/site-packages (from jsonschema->swagger-spec-validator>=2.7.4->neptune) (1.3.0)\n",
      "Requirement already satisfied: webcolors>=1.11 in /root/miniconda3/envs/myenv/lib/python3.10/site-packages (from jsonschema->swagger-spec-validator>=2.7.4->neptune) (1.13)\n",
      "Requirement already satisfied: arrow>=0.15.0 in /root/miniconda3/envs/myenv/lib/python3.10/site-packages (from isoduration->jsonschema->swagger-spec-validator>=2.7.4->neptune) (1.3.0)\n",
      "Requirement already satisfied: types-python-dateutil>=2.8.10 in /root/miniconda3/envs/myenv/lib/python3.10/site-packages (from arrow>=0.15.0->isoduration->jsonschema->swagger-spec-validator>=2.7.4->neptune) (2.8.19.14)\n",
      "\u001b[33mWARNING: Running pip as the 'root' user can result in broken permissions and conflicting behaviour with the system package manager. It is recommended to use a virtual environment instead: https://pip.pypa.io/warnings/venv\u001b[0m\u001b[33m\n",
      "\u001b[0m"
     ]
    },
    {
     "name": "stderr",
     "output_type": "stream",
     "text": [
      "huggingface/tokenizers: The current process just got forked, after parallelism has already been used. Disabling parallelism to avoid deadlocks...\n",
      "To disable this warning, you can either:\n",
      "\t- Avoid using `tokenizers` before the fork if possible\n",
      "\t- Explicitly set the environment variable TOKENIZERS_PARALLELISM=(true | false)\n"
     ]
    },
    {
     "name": "stdout",
     "output_type": "stream",
     "text": [
      "Requirement already satisfied: transformers[torch] in /root/miniconda3/envs/myenv/lib/python3.10/site-packages (4.34.1)\n",
      "Requirement already satisfied: filelock in /root/miniconda3/envs/myenv/lib/python3.10/site-packages (from transformers[torch]) (3.12.4)\n",
      "Requirement already satisfied: huggingface-hub<1.0,>=0.16.4 in /root/miniconda3/envs/myenv/lib/python3.10/site-packages (from transformers[torch]) (0.17.3)\n",
      "Requirement already satisfied: numpy>=1.17 in /root/miniconda3/envs/myenv/lib/python3.10/site-packages (from transformers[torch]) (1.26.1)\n",
      "Requirement already satisfied: packaging>=20.0 in /root/miniconda3/envs/myenv/lib/python3.10/site-packages (from transformers[torch]) (23.2)\n",
      "Requirement already satisfied: pyyaml>=5.1 in /root/miniconda3/envs/myenv/lib/python3.10/site-packages (from transformers[torch]) (6.0.1)\n",
      "Requirement already satisfied: regex!=2019.12.17 in /root/miniconda3/envs/myenv/lib/python3.10/site-packages (from transformers[torch]) (2023.10.3)\n",
      "Requirement already satisfied: requests in /root/miniconda3/envs/myenv/lib/python3.10/site-packages (from transformers[torch]) (2.31.0)\n",
      "Requirement already satisfied: tokenizers<0.15,>=0.14 in /root/miniconda3/envs/myenv/lib/python3.10/site-packages (from transformers[torch]) (0.14.1)\n",
      "Requirement already satisfied: safetensors>=0.3.1 in /root/miniconda3/envs/myenv/lib/python3.10/site-packages (from transformers[torch]) (0.3.3)\n",
      "Requirement already satisfied: tqdm>=4.27 in /root/miniconda3/envs/myenv/lib/python3.10/site-packages (from transformers[torch]) (4.66.1)\n",
      "Requirement already satisfied: torch!=1.12.0,>=1.10 in /root/miniconda3/envs/myenv/lib/python3.10/site-packages (from transformers[torch]) (2.1.0)\n",
      "Requirement already satisfied: accelerate>=0.20.3 in /root/miniconda3/envs/myenv/lib/python3.10/site-packages (from transformers[torch]) (0.24.1)\n",
      "Requirement already satisfied: psutil in /root/miniconda3/envs/myenv/lib/python3.10/site-packages (from accelerate>=0.20.3->transformers[torch]) (5.9.5)\n",
      "Requirement already satisfied: fsspec in /root/miniconda3/envs/myenv/lib/python3.10/site-packages (from huggingface-hub<1.0,>=0.16.4->transformers[torch]) (2023.10.0)\n",
      "Requirement already satisfied: typing-extensions>=3.7.4.3 in /root/miniconda3/envs/myenv/lib/python3.10/site-packages (from huggingface-hub<1.0,>=0.16.4->transformers[torch]) (4.8.0)\n",
      "Requirement already satisfied: sympy in /root/miniconda3/envs/myenv/lib/python3.10/site-packages (from torch!=1.12.0,>=1.10->transformers[torch]) (1.12)\n",
      "Requirement already satisfied: networkx in /root/miniconda3/envs/myenv/lib/python3.10/site-packages (from torch!=1.12.0,>=1.10->transformers[torch]) (3.2)\n",
      "Requirement already satisfied: jinja2 in /root/miniconda3/envs/myenv/lib/python3.10/site-packages (from torch!=1.12.0,>=1.10->transformers[torch]) (3.1.2)\n",
      "Requirement already satisfied: nvidia-cuda-nvrtc-cu12==12.1.105 in /root/miniconda3/envs/myenv/lib/python3.10/site-packages (from torch!=1.12.0,>=1.10->transformers[torch]) (12.1.105)\n",
      "Requirement already satisfied: nvidia-cuda-runtime-cu12==12.1.105 in /root/miniconda3/envs/myenv/lib/python3.10/site-packages (from torch!=1.12.0,>=1.10->transformers[torch]) (12.1.105)\n",
      "Requirement already satisfied: nvidia-cuda-cupti-cu12==12.1.105 in /root/miniconda3/envs/myenv/lib/python3.10/site-packages (from torch!=1.12.0,>=1.10->transformers[torch]) (12.1.105)\n",
      "Requirement already satisfied: nvidia-cudnn-cu12==8.9.2.26 in /root/miniconda3/envs/myenv/lib/python3.10/site-packages (from torch!=1.12.0,>=1.10->transformers[torch]) (8.9.2.26)\n",
      "Requirement already satisfied: nvidia-cublas-cu12==12.1.3.1 in /root/miniconda3/envs/myenv/lib/python3.10/site-packages (from torch!=1.12.0,>=1.10->transformers[torch]) (12.1.3.1)\n",
      "Requirement already satisfied: nvidia-cufft-cu12==11.0.2.54 in /root/miniconda3/envs/myenv/lib/python3.10/site-packages (from torch!=1.12.0,>=1.10->transformers[torch]) (11.0.2.54)\n",
      "Requirement already satisfied: nvidia-curand-cu12==10.3.2.106 in /root/miniconda3/envs/myenv/lib/python3.10/site-packages (from torch!=1.12.0,>=1.10->transformers[torch]) (10.3.2.106)\n",
      "Requirement already satisfied: nvidia-cusolver-cu12==11.4.5.107 in /root/miniconda3/envs/myenv/lib/python3.10/site-packages (from torch!=1.12.0,>=1.10->transformers[torch]) (11.4.5.107)\n",
      "Requirement already satisfied: nvidia-cusparse-cu12==12.1.0.106 in /root/miniconda3/envs/myenv/lib/python3.10/site-packages (from torch!=1.12.0,>=1.10->transformers[torch]) (12.1.0.106)\n",
      "Requirement already satisfied: nvidia-nccl-cu12==2.18.1 in /root/miniconda3/envs/myenv/lib/python3.10/site-packages (from torch!=1.12.0,>=1.10->transformers[torch]) (2.18.1)\n",
      "Requirement already satisfied: nvidia-nvtx-cu12==12.1.105 in /root/miniconda3/envs/myenv/lib/python3.10/site-packages (from torch!=1.12.0,>=1.10->transformers[torch]) (12.1.105)\n",
      "Requirement already satisfied: triton==2.1.0 in /root/miniconda3/envs/myenv/lib/python3.10/site-packages (from torch!=1.12.0,>=1.10->transformers[torch]) (2.1.0)\n",
      "Requirement already satisfied: nvidia-nvjitlink-cu12 in /root/miniconda3/envs/myenv/lib/python3.10/site-packages (from nvidia-cusolver-cu12==11.4.5.107->torch!=1.12.0,>=1.10->transformers[torch]) (12.3.52)\n",
      "Requirement already satisfied: charset-normalizer<4,>=2 in /root/miniconda3/envs/myenv/lib/python3.10/site-packages (from requests->transformers[torch]) (3.3.1)\n",
      "Requirement already satisfied: idna<4,>=2.5 in /root/miniconda3/envs/myenv/lib/python3.10/site-packages (from requests->transformers[torch]) (3.4)\n",
      "Requirement already satisfied: urllib3<3,>=1.21.1 in /root/miniconda3/envs/myenv/lib/python3.10/site-packages (from requests->transformers[torch]) (2.0.7)\n",
      "Requirement already satisfied: certifi>=2017.4.17 in /root/miniconda3/envs/myenv/lib/python3.10/site-packages (from requests->transformers[torch]) (2023.7.22)\n",
      "Requirement already satisfied: MarkupSafe>=2.0 in /root/miniconda3/envs/myenv/lib/python3.10/site-packages (from jinja2->torch!=1.12.0,>=1.10->transformers[torch]) (2.1.3)\n",
      "Requirement already satisfied: mpmath>=0.19 in /root/miniconda3/envs/myenv/lib/python3.10/site-packages (from sympy->torch!=1.12.0,>=1.10->transformers[torch]) (1.3.0)\n",
      "\u001b[33mWARNING: Running pip as the 'root' user can result in broken permissions and conflicting behaviour with the system package manager. It is recommended to use a virtual environment instead: https://pip.pypa.io/warnings/venv\u001b[0m\u001b[33m\n",
      "\u001b[0m"
     ]
    }
   ],
   "source": [
    "!pip install neptune\n",
    "!pip install transformers[torch]"
   ]
  },
  {
   "cell_type": "code",
   "execution_count": 30,
   "metadata": {},
   "outputs": [],
   "source": [
    "from sklearn.metrics import f1_score, roc_auc_score, accuracy_score, multilabel_confusion_matrix, classification_report\n",
    "from transformers import EvalPrediction\n",
    "import torch\n",
    "\n",
    "from transformers.integrations import NeptuneCallback\n",
    "import neptune"
   ]
  },
  {
   "cell_type": "code",
   "execution_count": 31,
   "metadata": {},
   "outputs": [],
   "source": [
    "import os\n",
    "from getpass import getpass\n",
    "os.environ[\"NEPTUNE_API_TOKEN\"] = getpass(\"Enter API token: \")\n",
    "os.environ[\"NEPTUNE_PROJECT\"] = \"kanathip137/wangchanberta-finetuned-relevant-article\""
   ]
  },
  {
   "cell_type": "code",
   "execution_count": 32,
   "metadata": {},
   "outputs": [],
   "source": [
    "# source: https://jesusleal.io/2021/04/21/Longformer-multilabel-classification/\n",
    "def multi_label_metrics(predictions, y_labels, threshold=0.5):\n",
    "    # first, apply sigmoid on predictions which are of shape (batch_size, num_labels)\n",
    "    sigmoid = torch.nn.Sigmoid()\n",
    "    probs = sigmoid(torch.Tensor(predictions))\n",
    "    # next, use threshold to turn them into integer predictions\n",
    "    y_pred = np.zeros(probs.shape)\n",
    "    y_pred[np.where(probs >= threshold)] = 1\n",
    "    # finally, compute metrics\n",
    "    y_true = y_labels\n",
    "    \n",
    "    # y_pred = y_pred.flatten()\n",
    "    # y_true = y_true.flatten()\n",
    "    # print('y_true', y_true.shape)\n",
    "    # print('y_pred', y_pred.shape)\n",
    "    f1_micro_average = f1_score(y_true=y_true, y_pred=y_pred, average='micro')\n",
    "    roc_auc = roc_auc_score(y_true, y_pred, average = 'micro')\n",
    "    accuracy = accuracy_score(y_true, y_pred, normalize=True)\n",
    "    confusion_matrix = multilabel_confusion_matrix(y_true, y_pred)\n",
    "    report = classification_report(y_true, y_pred, output_dict=False, target_names=labels)\n",
    "    report_sample_wise = classification_report(y_true.T, y_pred.T, output_dict=False, target_names=labels)\n",
    "    \n",
    "    # return as dictionary\n",
    "    metrics = {'f1': f1_micro_average,\n",
    "               'roc_auc': roc_auc,\n",
    "               'accuracy': accuracy,\n",
    "               'confusion_matrix': confusion_matrix.tolist(),\n",
    "               'report': report}\n",
    "    return metrics\n",
    "\n",
    "def compute_metrics(p: EvalPrediction):\n",
    "    # print(p.label_ids)\n",
    "    preds = p.predictions[0] if isinstance(p.predictions, \n",
    "            tuple) else p.predictions\n",
    "    result = multi_label_metrics(\n",
    "        predictions=preds, \n",
    "        y_labels=p.label_ids)\n",
    "    return result"
   ]
  },
  {
   "cell_type": "code",
   "execution_count": 33,
   "metadata": {},
   "outputs": [],
   "source": [
    "batch_size = 32\n",
    "metric_name = 'f1'"
   ]
  },
  {
   "cell_type": "code",
   "execution_count": 34,
   "metadata": {},
   "outputs": [],
   "source": [
    "training_args = TrainingArguments(\n",
    "    output_dir='./wangchanberta-finetuned-relevant-article-pred-all',          # output directory\n",
    "    num_train_epochs=30,              # total number of training epochs\n",
    "    per_device_train_batch_size=batch_size,  # batch size per device during training\n",
    "    per_device_eval_batch_size=batch_size,   # batch size for evaluation\n",
    "    warmup_steps=500,                # number of warmup steps for learning rate scheduler\n",
    "    weight_decay=0.01,               # strength of weight decay\n",
    "    logging_dir='./wangchanberta-finetuned-relevant-article-pred-all-logs',            # directory for storing logs\n",
    "    logging_steps=1,\n",
    "    evaluation_strategy = \"epoch\",\n",
    "    save_strategy = \"epoch\",\n",
    "    load_best_model_at_end=True,\n",
    "    metric_for_best_model=metric_name,\n",
    "    #evaluation_strategy='epoch'\n",
    "    report_to=\"neptune\",\n",
    ")"
   ]
  },
  {
   "cell_type": "code",
   "execution_count": 35,
   "metadata": {},
   "outputs": [],
   "source": [
    "# training_args = TrainingArguments(\n",
    "#     f\"wangchanberta-finetuned-relevant-article-pred-liberty\",\n",
    "#     evaluation_strategy = \"epoch\",\n",
    "#     save_strategy = \"epoch\",\n",
    "#     learning_rate=2e-5,\n",
    "#     per_device_train_batch_size=batch_size,\n",
    "#     per_device_eval_batch_size=batch_size,\n",
    "#     num_train_epochs=5,\n",
    "#     weight_decay=0.01,\n",
    "#     load_best_model_at_end=True,\n",
    "#     metric_for_best_model=metric_name,\n",
    "#     #push_to_hub=True,\n",
    "#     logging_dir='/wangchanberta_finetuned_relevant_article_pred_liberty_logs',\n",
    "#     logging_steps=1,\n",
    "# )"
   ]
  },
  {
   "cell_type": "code",
   "execution_count": 36,
   "metadata": {},
   "outputs": [],
   "source": [
    "trainer = Trainer(\n",
    "    model=model,                         # the instantiated 🤗 Transformers model to be trained\n",
    "    args=training_args,                  # training arguments, defined above\n",
    "    train_dataset=train_dataset,         # training dataset\n",
    "    eval_dataset=valid_dataset,        # evaluation dataset\n",
    "    compute_metrics=compute_metrics,\n",
    ")"
   ]
  },
  {
   "cell_type": "code",
   "execution_count": 37,
   "metadata": {},
   "outputs": [],
   "source": [
    "import os\n",
    "os.environ[\"TOKENIZERS_PARALLELISM\"] = \"true\""
   ]
  },
  {
   "cell_type": "code",
   "execution_count": 38,
   "metadata": {},
   "outputs": [
    {
     "name": "stderr",
     "output_type": "stream",
     "text": [
      "/root/miniconda3/envs/myenv/lib/python3.10/site-packages/transformers/integrations/integration_utils.py:1235: NeptuneWarning: The following monitoring options are disabled by default in interactive sessions: 'capture_stdout', 'capture_stderr', 'capture_traceback', and 'capture_hardware_metrics'. To enable them, set each parameter to 'True' when initializing the run. The monitoring will continue until you call run.stop() or the kernel stops. Also note: Your source files can only be tracked if you pass the path(s) to the 'source_code' argument. For help, see the Neptune docs: https://docs.neptune.ai/logging/source_code/\n",
      "  self._run = init_run(**self._init_run_kwargs, **additional_neptune_kwargs)\n"
     ]
    },
    {
     "name": "stdout",
     "output_type": "stream",
     "text": [
      "https://app.neptune.ai/kanathip137/wangchanberta-finetuned-relevant-article/e/WAN-18\n"
     ]
    },
    {
     "name": "stderr",
     "output_type": "stream",
     "text": [
      "/root/miniconda3/envs/myenv/lib/python3.10/site-packages/neptune/internal/utils/git.py:71: UserWarning: GitPython could not be initialized\n",
      "  warnings.warn(\"GitPython could not be initialized\")\n"
     ]
    },
    {
     "ename": "OutOfMemoryError",
     "evalue": "CUDA out of memory. Tried to allocate 254.00 MiB. GPU 0 has a total capacty of 39.39 GiB of which 161.38 MiB is free. Process 376947 has 2.77 GiB memory in use. Process 3836752 has 32.26 GiB memory in use. Process 3852043 has 3.88 GiB memory in use. Of the allocated memory 3.32 GiB is allocated by PyTorch, and 75.42 MiB is reserved by PyTorch but unallocated. If reserved but unallocated memory is large try setting max_split_size_mb to avoid fragmentation.  See documentation for Memory Management and PYTORCH_CUDA_ALLOC_CONF",
     "output_type": "error",
     "traceback": [
      "\u001b[0;31m---------------------------------------------------------------------------\u001b[0m",
      "\u001b[0;31mOutOfMemoryError\u001b[0m                          Traceback (most recent call last)",
      "\u001b[1;32m/home/local/scripts/multilabel_classification_task.ipynb Cell 57\u001b[0m line \u001b[0;36m1\n\u001b[0;32m----> <a href='vscode-notebook-cell://attached-container%2B7b22636f6e7461696e65724e616d65223a222f61727469636c655f707265645f636f6e7461696e6572222c2273657474696e6773223a7b22686f7374223a227373683a2f2f616d706572653033227d7d/home/local/scripts/multilabel_classification_task.ipynb#Y106sdnNjb2RlLXJlbW90ZQ%3D%3D?line=0'>1</a>\u001b[0m trainer\u001b[39m.\u001b[39;49mtrain()\n",
      "File \u001b[0;32m~/miniconda3/envs/myenv/lib/python3.10/site-packages/transformers/trainer.py:1591\u001b[0m, in \u001b[0;36mTrainer.train\u001b[0;34m(self, resume_from_checkpoint, trial, ignore_keys_for_eval, **kwargs)\u001b[0m\n\u001b[1;32m   1589\u001b[0m         hf_hub_utils\u001b[39m.\u001b[39menable_progress_bars()\n\u001b[1;32m   1590\u001b[0m \u001b[39melse\u001b[39;00m:\n\u001b[0;32m-> 1591\u001b[0m     \u001b[39mreturn\u001b[39;00m inner_training_loop(\n\u001b[1;32m   1592\u001b[0m         args\u001b[39m=\u001b[39;49margs,\n\u001b[1;32m   1593\u001b[0m         resume_from_checkpoint\u001b[39m=\u001b[39;49mresume_from_checkpoint,\n\u001b[1;32m   1594\u001b[0m         trial\u001b[39m=\u001b[39;49mtrial,\n\u001b[1;32m   1595\u001b[0m         ignore_keys_for_eval\u001b[39m=\u001b[39;49mignore_keys_for_eval,\n\u001b[1;32m   1596\u001b[0m     )\n",
      "File \u001b[0;32m~/miniconda3/envs/myenv/lib/python3.10/site-packages/transformers/trainer.py:1892\u001b[0m, in \u001b[0;36mTrainer._inner_training_loop\u001b[0;34m(self, batch_size, args, resume_from_checkpoint, trial, ignore_keys_for_eval)\u001b[0m\n\u001b[1;32m   1889\u001b[0m     \u001b[39mself\u001b[39m\u001b[39m.\u001b[39mcontrol \u001b[39m=\u001b[39m \u001b[39mself\u001b[39m\u001b[39m.\u001b[39mcallback_handler\u001b[39m.\u001b[39mon_step_begin(args, \u001b[39mself\u001b[39m\u001b[39m.\u001b[39mstate, \u001b[39mself\u001b[39m\u001b[39m.\u001b[39mcontrol)\n\u001b[1;32m   1891\u001b[0m \u001b[39mwith\u001b[39;00m \u001b[39mself\u001b[39m\u001b[39m.\u001b[39maccelerator\u001b[39m.\u001b[39maccumulate(model):\n\u001b[0;32m-> 1892\u001b[0m     tr_loss_step \u001b[39m=\u001b[39m \u001b[39mself\u001b[39;49m\u001b[39m.\u001b[39;49mtraining_step(model, inputs)\n\u001b[1;32m   1894\u001b[0m \u001b[39mif\u001b[39;00m (\n\u001b[1;32m   1895\u001b[0m     args\u001b[39m.\u001b[39mlogging_nan_inf_filter\n\u001b[1;32m   1896\u001b[0m     \u001b[39mand\u001b[39;00m \u001b[39mnot\u001b[39;00m is_torch_tpu_available()\n\u001b[1;32m   1897\u001b[0m     \u001b[39mand\u001b[39;00m (torch\u001b[39m.\u001b[39misnan(tr_loss_step) \u001b[39mor\u001b[39;00m torch\u001b[39m.\u001b[39misinf(tr_loss_step))\n\u001b[1;32m   1898\u001b[0m ):\n\u001b[1;32m   1899\u001b[0m     \u001b[39m# if loss is nan or inf simply add the average of previous logged losses\u001b[39;00m\n\u001b[1;32m   1900\u001b[0m     tr_loss \u001b[39m+\u001b[39m\u001b[39m=\u001b[39m tr_loss \u001b[39m/\u001b[39m (\u001b[39m1\u001b[39m \u001b[39m+\u001b[39m \u001b[39mself\u001b[39m\u001b[39m.\u001b[39mstate\u001b[39m.\u001b[39mglobal_step \u001b[39m-\u001b[39m \u001b[39mself\u001b[39m\u001b[39m.\u001b[39m_globalstep_last_logged)\n",
      "File \u001b[0;32m~/miniconda3/envs/myenv/lib/python3.10/site-packages/transformers/trainer.py:2776\u001b[0m, in \u001b[0;36mTrainer.training_step\u001b[0;34m(self, model, inputs)\u001b[0m\n\u001b[1;32m   2773\u001b[0m     \u001b[39mreturn\u001b[39;00m loss_mb\u001b[39m.\u001b[39mreduce_mean()\u001b[39m.\u001b[39mdetach()\u001b[39m.\u001b[39mto(\u001b[39mself\u001b[39m\u001b[39m.\u001b[39margs\u001b[39m.\u001b[39mdevice)\n\u001b[1;32m   2775\u001b[0m \u001b[39mwith\u001b[39;00m \u001b[39mself\u001b[39m\u001b[39m.\u001b[39mcompute_loss_context_manager():\n\u001b[0;32m-> 2776\u001b[0m     loss \u001b[39m=\u001b[39m \u001b[39mself\u001b[39;49m\u001b[39m.\u001b[39;49mcompute_loss(model, inputs)\n\u001b[1;32m   2778\u001b[0m \u001b[39mif\u001b[39;00m \u001b[39mself\u001b[39m\u001b[39m.\u001b[39margs\u001b[39m.\u001b[39mn_gpu \u001b[39m>\u001b[39m \u001b[39m1\u001b[39m:\n\u001b[1;32m   2779\u001b[0m     loss \u001b[39m=\u001b[39m loss\u001b[39m.\u001b[39mmean()  \u001b[39m# mean() to average on multi-gpu parallel training\u001b[39;00m\n",
      "File \u001b[0;32m~/miniconda3/envs/myenv/lib/python3.10/site-packages/transformers/trainer.py:2801\u001b[0m, in \u001b[0;36mTrainer.compute_loss\u001b[0;34m(self, model, inputs, return_outputs)\u001b[0m\n\u001b[1;32m   2799\u001b[0m \u001b[39melse\u001b[39;00m:\n\u001b[1;32m   2800\u001b[0m     labels \u001b[39m=\u001b[39m \u001b[39mNone\u001b[39;00m\n\u001b[0;32m-> 2801\u001b[0m outputs \u001b[39m=\u001b[39m model(\u001b[39m*\u001b[39;49m\u001b[39m*\u001b[39;49minputs)\n\u001b[1;32m   2802\u001b[0m \u001b[39m# Save past state if it exists\u001b[39;00m\n\u001b[1;32m   2803\u001b[0m \u001b[39m# TODO: this needs to be fixed and made cleaner later.\u001b[39;00m\n\u001b[1;32m   2804\u001b[0m \u001b[39mif\u001b[39;00m \u001b[39mself\u001b[39m\u001b[39m.\u001b[39margs\u001b[39m.\u001b[39mpast_index \u001b[39m>\u001b[39m\u001b[39m=\u001b[39m \u001b[39m0\u001b[39m:\n",
      "File \u001b[0;32m~/miniconda3/envs/myenv/lib/python3.10/site-packages/torch/nn/modules/module.py:1518\u001b[0m, in \u001b[0;36mModule._wrapped_call_impl\u001b[0;34m(self, *args, **kwargs)\u001b[0m\n\u001b[1;32m   1516\u001b[0m     \u001b[39mreturn\u001b[39;00m \u001b[39mself\u001b[39m\u001b[39m.\u001b[39m_compiled_call_impl(\u001b[39m*\u001b[39margs, \u001b[39m*\u001b[39m\u001b[39m*\u001b[39mkwargs)  \u001b[39m# type: ignore[misc]\u001b[39;00m\n\u001b[1;32m   1517\u001b[0m \u001b[39melse\u001b[39;00m:\n\u001b[0;32m-> 1518\u001b[0m     \u001b[39mreturn\u001b[39;00m \u001b[39mself\u001b[39;49m\u001b[39m.\u001b[39;49m_call_impl(\u001b[39m*\u001b[39;49margs, \u001b[39m*\u001b[39;49m\u001b[39m*\u001b[39;49mkwargs)\n",
      "File \u001b[0;32m~/miniconda3/envs/myenv/lib/python3.10/site-packages/torch/nn/modules/module.py:1527\u001b[0m, in \u001b[0;36mModule._call_impl\u001b[0;34m(self, *args, **kwargs)\u001b[0m\n\u001b[1;32m   1522\u001b[0m \u001b[39m# If we don't have any hooks, we want to skip the rest of the logic in\u001b[39;00m\n\u001b[1;32m   1523\u001b[0m \u001b[39m# this function, and just call forward.\u001b[39;00m\n\u001b[1;32m   1524\u001b[0m \u001b[39mif\u001b[39;00m \u001b[39mnot\u001b[39;00m (\u001b[39mself\u001b[39m\u001b[39m.\u001b[39m_backward_hooks \u001b[39mor\u001b[39;00m \u001b[39mself\u001b[39m\u001b[39m.\u001b[39m_backward_pre_hooks \u001b[39mor\u001b[39;00m \u001b[39mself\u001b[39m\u001b[39m.\u001b[39m_forward_hooks \u001b[39mor\u001b[39;00m \u001b[39mself\u001b[39m\u001b[39m.\u001b[39m_forward_pre_hooks\n\u001b[1;32m   1525\u001b[0m         \u001b[39mor\u001b[39;00m _global_backward_pre_hooks \u001b[39mor\u001b[39;00m _global_backward_hooks\n\u001b[1;32m   1526\u001b[0m         \u001b[39mor\u001b[39;00m _global_forward_hooks \u001b[39mor\u001b[39;00m _global_forward_pre_hooks):\n\u001b[0;32m-> 1527\u001b[0m     \u001b[39mreturn\u001b[39;00m forward_call(\u001b[39m*\u001b[39;49margs, \u001b[39m*\u001b[39;49m\u001b[39m*\u001b[39;49mkwargs)\n\u001b[1;32m   1529\u001b[0m \u001b[39mtry\u001b[39;00m:\n\u001b[1;32m   1530\u001b[0m     result \u001b[39m=\u001b[39m \u001b[39mNone\u001b[39;00m\n",
      "File \u001b[0;32m~/miniconda3/envs/myenv/lib/python3.10/site-packages/transformers/models/camembert/modeling_camembert.py:1072\u001b[0m, in \u001b[0;36mCamembertForSequenceClassification.forward\u001b[0;34m(self, input_ids, attention_mask, token_type_ids, position_ids, head_mask, inputs_embeds, labels, output_attentions, output_hidden_states, return_dict)\u001b[0m\n\u001b[1;32m   1064\u001b[0m \u001b[39m\u001b[39m\u001b[39mr\u001b[39m\u001b[39m\"\"\"\u001b[39;00m\n\u001b[1;32m   1065\u001b[0m \u001b[39mlabels (`torch.LongTensor` of shape `(batch_size,)`, *optional*):\u001b[39;00m\n\u001b[1;32m   1066\u001b[0m \u001b[39m    Labels for computing the sequence classification/regression loss. Indices should be in `[0, ...,\u001b[39;00m\n\u001b[1;32m   1067\u001b[0m \u001b[39m    config.num_labels - 1]`. If `config.num_labels == 1` a regression loss is computed (Mean-Square loss), If\u001b[39;00m\n\u001b[1;32m   1068\u001b[0m \u001b[39m    `config.num_labels > 1` a classification loss is computed (Cross-Entropy).\u001b[39;00m\n\u001b[1;32m   1069\u001b[0m \u001b[39m\"\"\"\u001b[39;00m\n\u001b[1;32m   1070\u001b[0m return_dict \u001b[39m=\u001b[39m return_dict \u001b[39mif\u001b[39;00m return_dict \u001b[39mis\u001b[39;00m \u001b[39mnot\u001b[39;00m \u001b[39mNone\u001b[39;00m \u001b[39melse\u001b[39;00m \u001b[39mself\u001b[39m\u001b[39m.\u001b[39mconfig\u001b[39m.\u001b[39muse_return_dict\n\u001b[0;32m-> 1072\u001b[0m outputs \u001b[39m=\u001b[39m \u001b[39mself\u001b[39;49m\u001b[39m.\u001b[39;49mroberta(\n\u001b[1;32m   1073\u001b[0m     input_ids,\n\u001b[1;32m   1074\u001b[0m     attention_mask\u001b[39m=\u001b[39;49mattention_mask,\n\u001b[1;32m   1075\u001b[0m     token_type_ids\u001b[39m=\u001b[39;49mtoken_type_ids,\n\u001b[1;32m   1076\u001b[0m     position_ids\u001b[39m=\u001b[39;49mposition_ids,\n\u001b[1;32m   1077\u001b[0m     head_mask\u001b[39m=\u001b[39;49mhead_mask,\n\u001b[1;32m   1078\u001b[0m     inputs_embeds\u001b[39m=\u001b[39;49minputs_embeds,\n\u001b[1;32m   1079\u001b[0m     output_attentions\u001b[39m=\u001b[39;49moutput_attentions,\n\u001b[1;32m   1080\u001b[0m     output_hidden_states\u001b[39m=\u001b[39;49moutput_hidden_states,\n\u001b[1;32m   1081\u001b[0m     return_dict\u001b[39m=\u001b[39;49mreturn_dict,\n\u001b[1;32m   1082\u001b[0m )\n\u001b[1;32m   1083\u001b[0m sequence_output \u001b[39m=\u001b[39m outputs[\u001b[39m0\u001b[39m]\n\u001b[1;32m   1084\u001b[0m logits \u001b[39m=\u001b[39m \u001b[39mself\u001b[39m\u001b[39m.\u001b[39mclassifier(sequence_output)\n",
      "File \u001b[0;32m~/miniconda3/envs/myenv/lib/python3.10/site-packages/torch/nn/modules/module.py:1518\u001b[0m, in \u001b[0;36mModule._wrapped_call_impl\u001b[0;34m(self, *args, **kwargs)\u001b[0m\n\u001b[1;32m   1516\u001b[0m     \u001b[39mreturn\u001b[39;00m \u001b[39mself\u001b[39m\u001b[39m.\u001b[39m_compiled_call_impl(\u001b[39m*\u001b[39margs, \u001b[39m*\u001b[39m\u001b[39m*\u001b[39mkwargs)  \u001b[39m# type: ignore[misc]\u001b[39;00m\n\u001b[1;32m   1517\u001b[0m \u001b[39melse\u001b[39;00m:\n\u001b[0;32m-> 1518\u001b[0m     \u001b[39mreturn\u001b[39;00m \u001b[39mself\u001b[39;49m\u001b[39m.\u001b[39;49m_call_impl(\u001b[39m*\u001b[39;49margs, \u001b[39m*\u001b[39;49m\u001b[39m*\u001b[39;49mkwargs)\n",
      "File \u001b[0;32m~/miniconda3/envs/myenv/lib/python3.10/site-packages/torch/nn/modules/module.py:1527\u001b[0m, in \u001b[0;36mModule._call_impl\u001b[0;34m(self, *args, **kwargs)\u001b[0m\n\u001b[1;32m   1522\u001b[0m \u001b[39m# If we don't have any hooks, we want to skip the rest of the logic in\u001b[39;00m\n\u001b[1;32m   1523\u001b[0m \u001b[39m# this function, and just call forward.\u001b[39;00m\n\u001b[1;32m   1524\u001b[0m \u001b[39mif\u001b[39;00m \u001b[39mnot\u001b[39;00m (\u001b[39mself\u001b[39m\u001b[39m.\u001b[39m_backward_hooks \u001b[39mor\u001b[39;00m \u001b[39mself\u001b[39m\u001b[39m.\u001b[39m_backward_pre_hooks \u001b[39mor\u001b[39;00m \u001b[39mself\u001b[39m\u001b[39m.\u001b[39m_forward_hooks \u001b[39mor\u001b[39;00m \u001b[39mself\u001b[39m\u001b[39m.\u001b[39m_forward_pre_hooks\n\u001b[1;32m   1525\u001b[0m         \u001b[39mor\u001b[39;00m _global_backward_pre_hooks \u001b[39mor\u001b[39;00m _global_backward_hooks\n\u001b[1;32m   1526\u001b[0m         \u001b[39mor\u001b[39;00m _global_forward_hooks \u001b[39mor\u001b[39;00m _global_forward_pre_hooks):\n\u001b[0;32m-> 1527\u001b[0m     \u001b[39mreturn\u001b[39;00m forward_call(\u001b[39m*\u001b[39;49margs, \u001b[39m*\u001b[39;49m\u001b[39m*\u001b[39;49mkwargs)\n\u001b[1;32m   1529\u001b[0m \u001b[39mtry\u001b[39;00m:\n\u001b[1;32m   1530\u001b[0m     result \u001b[39m=\u001b[39m \u001b[39mNone\u001b[39;00m\n",
      "File \u001b[0;32m~/miniconda3/envs/myenv/lib/python3.10/site-packages/transformers/models/camembert/modeling_camembert.py:897\u001b[0m, in \u001b[0;36mCamembertModel.forward\u001b[0;34m(self, input_ids, attention_mask, token_type_ids, position_ids, head_mask, inputs_embeds, encoder_hidden_states, encoder_attention_mask, past_key_values, use_cache, output_attentions, output_hidden_states, return_dict)\u001b[0m\n\u001b[1;32m    888\u001b[0m head_mask \u001b[39m=\u001b[39m \u001b[39mself\u001b[39m\u001b[39m.\u001b[39mget_head_mask(head_mask, \u001b[39mself\u001b[39m\u001b[39m.\u001b[39mconfig\u001b[39m.\u001b[39mnum_hidden_layers)\n\u001b[1;32m    890\u001b[0m embedding_output \u001b[39m=\u001b[39m \u001b[39mself\u001b[39m\u001b[39m.\u001b[39membeddings(\n\u001b[1;32m    891\u001b[0m     input_ids\u001b[39m=\u001b[39minput_ids,\n\u001b[1;32m    892\u001b[0m     position_ids\u001b[39m=\u001b[39mposition_ids,\n\u001b[0;32m   (...)\u001b[0m\n\u001b[1;32m    895\u001b[0m     past_key_values_length\u001b[39m=\u001b[39mpast_key_values_length,\n\u001b[1;32m    896\u001b[0m )\n\u001b[0;32m--> 897\u001b[0m encoder_outputs \u001b[39m=\u001b[39m \u001b[39mself\u001b[39;49m\u001b[39m.\u001b[39;49mencoder(\n\u001b[1;32m    898\u001b[0m     embedding_output,\n\u001b[1;32m    899\u001b[0m     attention_mask\u001b[39m=\u001b[39;49mextended_attention_mask,\n\u001b[1;32m    900\u001b[0m     head_mask\u001b[39m=\u001b[39;49mhead_mask,\n\u001b[1;32m    901\u001b[0m     encoder_hidden_states\u001b[39m=\u001b[39;49mencoder_hidden_states,\n\u001b[1;32m    902\u001b[0m     encoder_attention_mask\u001b[39m=\u001b[39;49mencoder_extended_attention_mask,\n\u001b[1;32m    903\u001b[0m     past_key_values\u001b[39m=\u001b[39;49mpast_key_values,\n\u001b[1;32m    904\u001b[0m     use_cache\u001b[39m=\u001b[39;49muse_cache,\n\u001b[1;32m    905\u001b[0m     output_attentions\u001b[39m=\u001b[39;49moutput_attentions,\n\u001b[1;32m    906\u001b[0m     output_hidden_states\u001b[39m=\u001b[39;49moutput_hidden_states,\n\u001b[1;32m    907\u001b[0m     return_dict\u001b[39m=\u001b[39;49mreturn_dict,\n\u001b[1;32m    908\u001b[0m )\n\u001b[1;32m    909\u001b[0m sequence_output \u001b[39m=\u001b[39m encoder_outputs[\u001b[39m0\u001b[39m]\n\u001b[1;32m    910\u001b[0m pooled_output \u001b[39m=\u001b[39m \u001b[39mself\u001b[39m\u001b[39m.\u001b[39mpooler(sequence_output) \u001b[39mif\u001b[39;00m \u001b[39mself\u001b[39m\u001b[39m.\u001b[39mpooler \u001b[39mis\u001b[39;00m \u001b[39mnot\u001b[39;00m \u001b[39mNone\u001b[39;00m \u001b[39melse\u001b[39;00m \u001b[39mNone\u001b[39;00m\n",
      "File \u001b[0;32m~/miniconda3/envs/myenv/lib/python3.10/site-packages/torch/nn/modules/module.py:1518\u001b[0m, in \u001b[0;36mModule._wrapped_call_impl\u001b[0;34m(self, *args, **kwargs)\u001b[0m\n\u001b[1;32m   1516\u001b[0m     \u001b[39mreturn\u001b[39;00m \u001b[39mself\u001b[39m\u001b[39m.\u001b[39m_compiled_call_impl(\u001b[39m*\u001b[39margs, \u001b[39m*\u001b[39m\u001b[39m*\u001b[39mkwargs)  \u001b[39m# type: ignore[misc]\u001b[39;00m\n\u001b[1;32m   1517\u001b[0m \u001b[39melse\u001b[39;00m:\n\u001b[0;32m-> 1518\u001b[0m     \u001b[39mreturn\u001b[39;00m \u001b[39mself\u001b[39;49m\u001b[39m.\u001b[39;49m_call_impl(\u001b[39m*\u001b[39;49margs, \u001b[39m*\u001b[39;49m\u001b[39m*\u001b[39;49mkwargs)\n",
      "File \u001b[0;32m~/miniconda3/envs/myenv/lib/python3.10/site-packages/torch/nn/modules/module.py:1527\u001b[0m, in \u001b[0;36mModule._call_impl\u001b[0;34m(self, *args, **kwargs)\u001b[0m\n\u001b[1;32m   1522\u001b[0m \u001b[39m# If we don't have any hooks, we want to skip the rest of the logic in\u001b[39;00m\n\u001b[1;32m   1523\u001b[0m \u001b[39m# this function, and just call forward.\u001b[39;00m\n\u001b[1;32m   1524\u001b[0m \u001b[39mif\u001b[39;00m \u001b[39mnot\u001b[39;00m (\u001b[39mself\u001b[39m\u001b[39m.\u001b[39m_backward_hooks \u001b[39mor\u001b[39;00m \u001b[39mself\u001b[39m\u001b[39m.\u001b[39m_backward_pre_hooks \u001b[39mor\u001b[39;00m \u001b[39mself\u001b[39m\u001b[39m.\u001b[39m_forward_hooks \u001b[39mor\u001b[39;00m \u001b[39mself\u001b[39m\u001b[39m.\u001b[39m_forward_pre_hooks\n\u001b[1;32m   1525\u001b[0m         \u001b[39mor\u001b[39;00m _global_backward_pre_hooks \u001b[39mor\u001b[39;00m _global_backward_hooks\n\u001b[1;32m   1526\u001b[0m         \u001b[39mor\u001b[39;00m _global_forward_hooks \u001b[39mor\u001b[39;00m _global_forward_pre_hooks):\n\u001b[0;32m-> 1527\u001b[0m     \u001b[39mreturn\u001b[39;00m forward_call(\u001b[39m*\u001b[39;49margs, \u001b[39m*\u001b[39;49m\u001b[39m*\u001b[39;49mkwargs)\n\u001b[1;32m   1529\u001b[0m \u001b[39mtry\u001b[39;00m:\n\u001b[1;32m   1530\u001b[0m     result \u001b[39m=\u001b[39m \u001b[39mNone\u001b[39;00m\n",
      "File \u001b[0;32m~/miniconda3/envs/myenv/lib/python3.10/site-packages/transformers/models/camembert/modeling_camembert.py:543\u001b[0m, in \u001b[0;36mCamembertEncoder.forward\u001b[0;34m(self, hidden_states, attention_mask, head_mask, encoder_hidden_states, encoder_attention_mask, past_key_values, use_cache, output_attentions, output_hidden_states, return_dict)\u001b[0m\n\u001b[1;32m    534\u001b[0m     layer_outputs \u001b[39m=\u001b[39m torch\u001b[39m.\u001b[39mutils\u001b[39m.\u001b[39mcheckpoint\u001b[39m.\u001b[39mcheckpoint(\n\u001b[1;32m    535\u001b[0m         create_custom_forward(layer_module),\n\u001b[1;32m    536\u001b[0m         hidden_states,\n\u001b[0;32m   (...)\u001b[0m\n\u001b[1;32m    540\u001b[0m         encoder_attention_mask,\n\u001b[1;32m    541\u001b[0m     )\n\u001b[1;32m    542\u001b[0m \u001b[39melse\u001b[39;00m:\n\u001b[0;32m--> 543\u001b[0m     layer_outputs \u001b[39m=\u001b[39m layer_module(\n\u001b[1;32m    544\u001b[0m         hidden_states,\n\u001b[1;32m    545\u001b[0m         attention_mask,\n\u001b[1;32m    546\u001b[0m         layer_head_mask,\n\u001b[1;32m    547\u001b[0m         encoder_hidden_states,\n\u001b[1;32m    548\u001b[0m         encoder_attention_mask,\n\u001b[1;32m    549\u001b[0m         past_key_value,\n\u001b[1;32m    550\u001b[0m         output_attentions,\n\u001b[1;32m    551\u001b[0m     )\n\u001b[1;32m    553\u001b[0m hidden_states \u001b[39m=\u001b[39m layer_outputs[\u001b[39m0\u001b[39m]\n\u001b[1;32m    554\u001b[0m \u001b[39mif\u001b[39;00m use_cache:\n",
      "File \u001b[0;32m~/miniconda3/envs/myenv/lib/python3.10/site-packages/torch/nn/modules/module.py:1518\u001b[0m, in \u001b[0;36mModule._wrapped_call_impl\u001b[0;34m(self, *args, **kwargs)\u001b[0m\n\u001b[1;32m   1516\u001b[0m     \u001b[39mreturn\u001b[39;00m \u001b[39mself\u001b[39m\u001b[39m.\u001b[39m_compiled_call_impl(\u001b[39m*\u001b[39margs, \u001b[39m*\u001b[39m\u001b[39m*\u001b[39mkwargs)  \u001b[39m# type: ignore[misc]\u001b[39;00m\n\u001b[1;32m   1517\u001b[0m \u001b[39melse\u001b[39;00m:\n\u001b[0;32m-> 1518\u001b[0m     \u001b[39mreturn\u001b[39;00m \u001b[39mself\u001b[39;49m\u001b[39m.\u001b[39;49m_call_impl(\u001b[39m*\u001b[39;49margs, \u001b[39m*\u001b[39;49m\u001b[39m*\u001b[39;49mkwargs)\n",
      "File \u001b[0;32m~/miniconda3/envs/myenv/lib/python3.10/site-packages/torch/nn/modules/module.py:1527\u001b[0m, in \u001b[0;36mModule._call_impl\u001b[0;34m(self, *args, **kwargs)\u001b[0m\n\u001b[1;32m   1522\u001b[0m \u001b[39m# If we don't have any hooks, we want to skip the rest of the logic in\u001b[39;00m\n\u001b[1;32m   1523\u001b[0m \u001b[39m# this function, and just call forward.\u001b[39;00m\n\u001b[1;32m   1524\u001b[0m \u001b[39mif\u001b[39;00m \u001b[39mnot\u001b[39;00m (\u001b[39mself\u001b[39m\u001b[39m.\u001b[39m_backward_hooks \u001b[39mor\u001b[39;00m \u001b[39mself\u001b[39m\u001b[39m.\u001b[39m_backward_pre_hooks \u001b[39mor\u001b[39;00m \u001b[39mself\u001b[39m\u001b[39m.\u001b[39m_forward_hooks \u001b[39mor\u001b[39;00m \u001b[39mself\u001b[39m\u001b[39m.\u001b[39m_forward_pre_hooks\n\u001b[1;32m   1525\u001b[0m         \u001b[39mor\u001b[39;00m _global_backward_pre_hooks \u001b[39mor\u001b[39;00m _global_backward_hooks\n\u001b[1;32m   1526\u001b[0m         \u001b[39mor\u001b[39;00m _global_forward_hooks \u001b[39mor\u001b[39;00m _global_forward_pre_hooks):\n\u001b[0;32m-> 1527\u001b[0m     \u001b[39mreturn\u001b[39;00m forward_call(\u001b[39m*\u001b[39;49margs, \u001b[39m*\u001b[39;49m\u001b[39m*\u001b[39;49mkwargs)\n\u001b[1;32m   1529\u001b[0m \u001b[39mtry\u001b[39;00m:\n\u001b[1;32m   1530\u001b[0m     result \u001b[39m=\u001b[39m \u001b[39mNone\u001b[39;00m\n",
      "File \u001b[0;32m~/miniconda3/envs/myenv/lib/python3.10/site-packages/transformers/models/camembert/modeling_camembert.py:427\u001b[0m, in \u001b[0;36mCamembertLayer.forward\u001b[0;34m(self, hidden_states, attention_mask, head_mask, encoder_hidden_states, encoder_attention_mask, past_key_value, output_attentions)\u001b[0m\n\u001b[1;32m    415\u001b[0m \u001b[39mdef\u001b[39;00m \u001b[39mforward\u001b[39m(\n\u001b[1;32m    416\u001b[0m     \u001b[39mself\u001b[39m,\n\u001b[1;32m    417\u001b[0m     hidden_states: torch\u001b[39m.\u001b[39mTensor,\n\u001b[0;32m   (...)\u001b[0m\n\u001b[1;32m    424\u001b[0m ) \u001b[39m-\u001b[39m\u001b[39m>\u001b[39m Tuple[torch\u001b[39m.\u001b[39mTensor]:\n\u001b[1;32m    425\u001b[0m     \u001b[39m# decoder uni-directional self-attention cached key/values tuple is at positions 1,2\u001b[39;00m\n\u001b[1;32m    426\u001b[0m     self_attn_past_key_value \u001b[39m=\u001b[39m past_key_value[:\u001b[39m2\u001b[39m] \u001b[39mif\u001b[39;00m past_key_value \u001b[39mis\u001b[39;00m \u001b[39mnot\u001b[39;00m \u001b[39mNone\u001b[39;00m \u001b[39melse\u001b[39;00m \u001b[39mNone\u001b[39;00m\n\u001b[0;32m--> 427\u001b[0m     self_attention_outputs \u001b[39m=\u001b[39m \u001b[39mself\u001b[39;49m\u001b[39m.\u001b[39;49mattention(\n\u001b[1;32m    428\u001b[0m         hidden_states,\n\u001b[1;32m    429\u001b[0m         attention_mask,\n\u001b[1;32m    430\u001b[0m         head_mask,\n\u001b[1;32m    431\u001b[0m         output_attentions\u001b[39m=\u001b[39;49moutput_attentions,\n\u001b[1;32m    432\u001b[0m         past_key_value\u001b[39m=\u001b[39;49mself_attn_past_key_value,\n\u001b[1;32m    433\u001b[0m     )\n\u001b[1;32m    434\u001b[0m     attention_output \u001b[39m=\u001b[39m self_attention_outputs[\u001b[39m0\u001b[39m]\n\u001b[1;32m    436\u001b[0m     \u001b[39m# if decoder, the last output is tuple of self-attn cache\u001b[39;00m\n",
      "File \u001b[0;32m~/miniconda3/envs/myenv/lib/python3.10/site-packages/torch/nn/modules/module.py:1518\u001b[0m, in \u001b[0;36mModule._wrapped_call_impl\u001b[0;34m(self, *args, **kwargs)\u001b[0m\n\u001b[1;32m   1516\u001b[0m     \u001b[39mreturn\u001b[39;00m \u001b[39mself\u001b[39m\u001b[39m.\u001b[39m_compiled_call_impl(\u001b[39m*\u001b[39margs, \u001b[39m*\u001b[39m\u001b[39m*\u001b[39mkwargs)  \u001b[39m# type: ignore[misc]\u001b[39;00m\n\u001b[1;32m   1517\u001b[0m \u001b[39melse\u001b[39;00m:\n\u001b[0;32m-> 1518\u001b[0m     \u001b[39mreturn\u001b[39;00m \u001b[39mself\u001b[39;49m\u001b[39m.\u001b[39;49m_call_impl(\u001b[39m*\u001b[39;49margs, \u001b[39m*\u001b[39;49m\u001b[39m*\u001b[39;49mkwargs)\n",
      "File \u001b[0;32m~/miniconda3/envs/myenv/lib/python3.10/site-packages/torch/nn/modules/module.py:1527\u001b[0m, in \u001b[0;36mModule._call_impl\u001b[0;34m(self, *args, **kwargs)\u001b[0m\n\u001b[1;32m   1522\u001b[0m \u001b[39m# If we don't have any hooks, we want to skip the rest of the logic in\u001b[39;00m\n\u001b[1;32m   1523\u001b[0m \u001b[39m# this function, and just call forward.\u001b[39;00m\n\u001b[1;32m   1524\u001b[0m \u001b[39mif\u001b[39;00m \u001b[39mnot\u001b[39;00m (\u001b[39mself\u001b[39m\u001b[39m.\u001b[39m_backward_hooks \u001b[39mor\u001b[39;00m \u001b[39mself\u001b[39m\u001b[39m.\u001b[39m_backward_pre_hooks \u001b[39mor\u001b[39;00m \u001b[39mself\u001b[39m\u001b[39m.\u001b[39m_forward_hooks \u001b[39mor\u001b[39;00m \u001b[39mself\u001b[39m\u001b[39m.\u001b[39m_forward_pre_hooks\n\u001b[1;32m   1525\u001b[0m         \u001b[39mor\u001b[39;00m _global_backward_pre_hooks \u001b[39mor\u001b[39;00m _global_backward_hooks\n\u001b[1;32m   1526\u001b[0m         \u001b[39mor\u001b[39;00m _global_forward_hooks \u001b[39mor\u001b[39;00m _global_forward_pre_hooks):\n\u001b[0;32m-> 1527\u001b[0m     \u001b[39mreturn\u001b[39;00m forward_call(\u001b[39m*\u001b[39;49margs, \u001b[39m*\u001b[39;49m\u001b[39m*\u001b[39;49mkwargs)\n\u001b[1;32m   1529\u001b[0m \u001b[39mtry\u001b[39;00m:\n\u001b[1;32m   1530\u001b[0m     result \u001b[39m=\u001b[39m \u001b[39mNone\u001b[39;00m\n",
      "File \u001b[0;32m~/miniconda3/envs/myenv/lib/python3.10/site-packages/transformers/models/camembert/modeling_camembert.py:354\u001b[0m, in \u001b[0;36mCamembertAttention.forward\u001b[0;34m(self, hidden_states, attention_mask, head_mask, encoder_hidden_states, encoder_attention_mask, past_key_value, output_attentions)\u001b[0m\n\u001b[1;32m    344\u001b[0m \u001b[39mdef\u001b[39;00m \u001b[39mforward\u001b[39m(\n\u001b[1;32m    345\u001b[0m     \u001b[39mself\u001b[39m,\n\u001b[1;32m    346\u001b[0m     hidden_states: torch\u001b[39m.\u001b[39mTensor,\n\u001b[0;32m   (...)\u001b[0m\n\u001b[1;32m    352\u001b[0m     output_attentions: Optional[\u001b[39mbool\u001b[39m] \u001b[39m=\u001b[39m \u001b[39mFalse\u001b[39;00m,\n\u001b[1;32m    353\u001b[0m ) \u001b[39m-\u001b[39m\u001b[39m>\u001b[39m Tuple[torch\u001b[39m.\u001b[39mTensor]:\n\u001b[0;32m--> 354\u001b[0m     self_outputs \u001b[39m=\u001b[39m \u001b[39mself\u001b[39;49m\u001b[39m.\u001b[39;49mself(\n\u001b[1;32m    355\u001b[0m         hidden_states,\n\u001b[1;32m    356\u001b[0m         attention_mask,\n\u001b[1;32m    357\u001b[0m         head_mask,\n\u001b[1;32m    358\u001b[0m         encoder_hidden_states,\n\u001b[1;32m    359\u001b[0m         encoder_attention_mask,\n\u001b[1;32m    360\u001b[0m         past_key_value,\n\u001b[1;32m    361\u001b[0m         output_attentions,\n\u001b[1;32m    362\u001b[0m     )\n\u001b[1;32m    363\u001b[0m     attention_output \u001b[39m=\u001b[39m \u001b[39mself\u001b[39m\u001b[39m.\u001b[39moutput(self_outputs[\u001b[39m0\u001b[39m], hidden_states)\n\u001b[1;32m    364\u001b[0m     outputs \u001b[39m=\u001b[39m (attention_output,) \u001b[39m+\u001b[39m self_outputs[\u001b[39m1\u001b[39m:]  \u001b[39m# add attentions if we output them\u001b[39;00m\n",
      "File \u001b[0;32m~/miniconda3/envs/myenv/lib/python3.10/site-packages/torch/nn/modules/module.py:1518\u001b[0m, in \u001b[0;36mModule._wrapped_call_impl\u001b[0;34m(self, *args, **kwargs)\u001b[0m\n\u001b[1;32m   1516\u001b[0m     \u001b[39mreturn\u001b[39;00m \u001b[39mself\u001b[39m\u001b[39m.\u001b[39m_compiled_call_impl(\u001b[39m*\u001b[39margs, \u001b[39m*\u001b[39m\u001b[39m*\u001b[39mkwargs)  \u001b[39m# type: ignore[misc]\u001b[39;00m\n\u001b[1;32m   1517\u001b[0m \u001b[39melse\u001b[39;00m:\n\u001b[0;32m-> 1518\u001b[0m     \u001b[39mreturn\u001b[39;00m \u001b[39mself\u001b[39;49m\u001b[39m.\u001b[39;49m_call_impl(\u001b[39m*\u001b[39;49margs, \u001b[39m*\u001b[39;49m\u001b[39m*\u001b[39;49mkwargs)\n",
      "File \u001b[0;32m~/miniconda3/envs/myenv/lib/python3.10/site-packages/torch/nn/modules/module.py:1527\u001b[0m, in \u001b[0;36mModule._call_impl\u001b[0;34m(self, *args, **kwargs)\u001b[0m\n\u001b[1;32m   1522\u001b[0m \u001b[39m# If we don't have any hooks, we want to skip the rest of the logic in\u001b[39;00m\n\u001b[1;32m   1523\u001b[0m \u001b[39m# this function, and just call forward.\u001b[39;00m\n\u001b[1;32m   1524\u001b[0m \u001b[39mif\u001b[39;00m \u001b[39mnot\u001b[39;00m (\u001b[39mself\u001b[39m\u001b[39m.\u001b[39m_backward_hooks \u001b[39mor\u001b[39;00m \u001b[39mself\u001b[39m\u001b[39m.\u001b[39m_backward_pre_hooks \u001b[39mor\u001b[39;00m \u001b[39mself\u001b[39m\u001b[39m.\u001b[39m_forward_hooks \u001b[39mor\u001b[39;00m \u001b[39mself\u001b[39m\u001b[39m.\u001b[39m_forward_pre_hooks\n\u001b[1;32m   1525\u001b[0m         \u001b[39mor\u001b[39;00m _global_backward_pre_hooks \u001b[39mor\u001b[39;00m _global_backward_hooks\n\u001b[1;32m   1526\u001b[0m         \u001b[39mor\u001b[39;00m _global_forward_hooks \u001b[39mor\u001b[39;00m _global_forward_pre_hooks):\n\u001b[0;32m-> 1527\u001b[0m     \u001b[39mreturn\u001b[39;00m forward_call(\u001b[39m*\u001b[39;49margs, \u001b[39m*\u001b[39;49m\u001b[39m*\u001b[39;49mkwargs)\n\u001b[1;32m   1529\u001b[0m \u001b[39mtry\u001b[39;00m:\n\u001b[1;32m   1530\u001b[0m     result \u001b[39m=\u001b[39m \u001b[39mNone\u001b[39;00m\n",
      "File \u001b[0;32m~/miniconda3/envs/myenv/lib/python3.10/site-packages/transformers/models/camembert/modeling_camembert.py:274\u001b[0m, in \u001b[0;36mCamembertSelfAttention.forward\u001b[0;34m(self, hidden_states, attention_mask, head_mask, encoder_hidden_states, encoder_attention_mask, past_key_value, output_attentions)\u001b[0m\n\u001b[1;32m    271\u001b[0m         relative_position_scores_key \u001b[39m=\u001b[39m torch\u001b[39m.\u001b[39meinsum(\u001b[39m\"\u001b[39m\u001b[39mbhrd,lrd->bhlr\u001b[39m\u001b[39m\"\u001b[39m, key_layer, positional_embedding)\n\u001b[1;32m    272\u001b[0m         attention_scores \u001b[39m=\u001b[39m attention_scores \u001b[39m+\u001b[39m relative_position_scores_query \u001b[39m+\u001b[39m relative_position_scores_key\n\u001b[0;32m--> 274\u001b[0m attention_scores \u001b[39m=\u001b[39m attention_scores \u001b[39m/\u001b[39;49m math\u001b[39m.\u001b[39;49msqrt(\u001b[39mself\u001b[39;49m\u001b[39m.\u001b[39;49mattention_head_size)\n\u001b[1;32m    275\u001b[0m \u001b[39mif\u001b[39;00m attention_mask \u001b[39mis\u001b[39;00m \u001b[39mnot\u001b[39;00m \u001b[39mNone\u001b[39;00m:\n\u001b[1;32m    276\u001b[0m     \u001b[39m# Apply the attention mask is (precomputed for all layers in CamembertModel forward() function)\u001b[39;00m\n\u001b[1;32m    277\u001b[0m     attention_scores \u001b[39m=\u001b[39m attention_scores \u001b[39m+\u001b[39m attention_mask\n",
      "\u001b[0;31mOutOfMemoryError\u001b[0m: CUDA out of memory. Tried to allocate 254.00 MiB. GPU 0 has a total capacty of 39.39 GiB of which 161.38 MiB is free. Process 376947 has 2.77 GiB memory in use. Process 3836752 has 32.26 GiB memory in use. Process 3852043 has 3.88 GiB memory in use. Of the allocated memory 3.32 GiB is allocated by PyTorch, and 75.42 MiB is reserved by PyTorch but unallocated. If reserved but unallocated memory is large try setting max_split_size_mb to avoid fragmentation.  See documentation for Memory Management and PYTORCH_CUDA_ALLOC_CONF"
     ]
    }
   ],
   "source": [
    "trainer.train()"
   ]
  },
  {
   "cell_type": "code",
   "execution_count": null,
   "metadata": {},
   "outputs": [
    {
     "data": {
      "text/html": [
       "\n",
       "    <div>\n",
       "      \n",
       "      <progress value='4' max='4' style='width:300px; height:20px; vertical-align: middle;'></progress>\n",
       "      [4/4 00:00]\n",
       "    </div>\n",
       "    "
      ],
      "text/plain": [
       "<IPython.core.display.HTML object>"
      ]
     },
     "metadata": {},
     "output_type": "display_data"
    },
    {
     "name": "stderr",
     "output_type": "stream",
     "text": [
      "/root/miniconda3/envs/myenv/lib/python3.10/site-packages/sklearn/metrics/_classification.py:1469: UndefinedMetricWarning: Precision and F-score are ill-defined and being set to 0.0 in labels with no predicted samples. Use `zero_division` parameter to control this behavior.\n",
      "  _warn_prf(average, modifier, msg_start, len(result))\n",
      "/root/miniconda3/envs/myenv/lib/python3.10/site-packages/sklearn/metrics/_classification.py:1469: UndefinedMetricWarning: Recall and F-score are ill-defined and being set to 0.0 in labels with no true samples. Use `zero_division` parameter to control this behavior.\n",
      "  _warn_prf(average, modifier, msg_start, len(result))\n",
      "/root/miniconda3/envs/myenv/lib/python3.10/site-packages/sklearn/metrics/_classification.py:1469: UndefinedMetricWarning: Precision and F-score are ill-defined and being set to 0.0 in samples with no predicted labels. Use `zero_division` parameter to control this behavior.\n",
      "  _warn_prf(average, modifier, msg_start, len(result))\n"
     ]
    },
    {
     "name": "stdout",
     "output_type": "stream",
     "text": [
      "https://app.neptune.ai/kanathip137/wangchanberta-finetuned-relevant-article/e/WAN-17\n"
     ]
    },
    {
     "name": "stderr",
     "output_type": "stream",
     "text": [
      "/root/miniconda3/envs/myenv/lib/python3.10/site-packages/neptune/internal/utils/git.py:71: UserWarning: GitPython could not be initialized\n",
      "  warnings.warn(\"GitPython could not be initialized\")\n"
     ]
    },
    {
     "data": {
      "text/plain": [
       "{'eval_loss': 0.08185388892889023,\n",
       " 'eval_f1': 0.4148936170212766,\n",
       " 'eval_roc_auc': 0.6478756708407871,\n",
       " 'eval_accuracy': 0.2711864406779661,\n",
       " 'eval_confusion_matrix': [[[117, 0], [1, 0]],\n",
       "  [[117, 0], [1, 0]],\n",
       "  [[115, 0], [3, 0]],\n",
       "  [[113, 0], [5, 0]],\n",
       "  [[118, 0], [0, 0]],\n",
       "  [[117, 0], [1, 0]],\n",
       "  [[101, 7], [3, 7]],\n",
       "  [[117, 0], [1, 0]],\n",
       "  [[116, 0], [2, 0]],\n",
       "  [[116, 0], [2, 0]],\n",
       "  [[115, 0], [3, 0]],\n",
       "  [[117, 0], [1, 0]],\n",
       "  [[116, 0], [2, 0]],\n",
       "  [[117, 0], [1, 0]],\n",
       "  [[112, 0], [6, 0]],\n",
       "  [[113, 0], [5, 0]],\n",
       "  [[118, 0], [0, 0]],\n",
       "  [[88, 8], [7, 15]],\n",
       "  [[117, 0], [1, 0]],\n",
       "  [[117, 0], [1, 0]],\n",
       "  [[116, 0], [2, 0]],\n",
       "  [[117, 0], [1, 0]],\n",
       "  [[109, 0], [9, 0]],\n",
       "  [[114, 0], [4, 0]],\n",
       "  [[114, 0], [4, 0]],\n",
       "  [[117, 0], [1, 0]],\n",
       "  [[113, 0], [5, 0]],\n",
       "  [[117, 0], [1, 0]],\n",
       "  [[117, 0], [1, 0]],\n",
       "  [[118, 0], [0, 0]],\n",
       "  [[117, 0], [1, 0]],\n",
       "  [[116, 0], [2, 0]],\n",
       "  [[114, 0], [4, 0]],\n",
       "  [[118, 0], [0, 0]],\n",
       "  [[113, 0], [5, 0]],\n",
       "  [[96, 4], [1, 17]],\n",
       "  [[118, 0], [0, 0]],\n",
       "  [[115, 0], [3, 0]],\n",
       "  [[117, 0], [1, 0]]],\n",
       " 'eval_report': '              precision    recall  f1-score   support\\n\\n   CC-360-00       0.00      0.00      0.00         1\\nCC-289(6)-00       0.00      0.00      0.00         1\\n   CC-393-01       0.00      0.00      0.00         3\\n   CC-326-00       0.00      0.00      0.00         5\\n   CC-340-00       0.00      0.00      0.00         0\\nCC-289(2)-00       0.00      0.00      0.00         1\\n   CC-329-00       0.50      0.70      0.58        10\\n   CC-343-00       0.00      0.00      0.00         1\\n   CC-393-00       0.00      0.00      0.00         2\\n   CC-290-00       0.00      0.00      0.00         2\\n   CC-297-00       0.00      0.00      0.00         3\\n   CC-335-00       0.00      0.00      0.00         1\\n   CC-291-00       0.00      0.00      0.00         2\\n   CC-300-00       0.00      0.00      0.00         1\\n   CC-352-00       0.00      0.00      0.00         6\\nCC-289(4)-00       0.00      0.00      0.00         5\\n   CC-330-00       0.00      0.00      0.00         0\\n   CC-288-00       0.65      0.68      0.67        22\\n   CC-391-00       0.00      0.00      0.00         1\\n   CC-340-01       0.00      0.00      0.00         1\\n   CC-339-02       0.00      0.00      0.00         2\\n   CC-339-00       0.00      0.00      0.00         1\\n   CC-334-00       0.00      0.00      0.00         9\\n   CC-328-02       0.00      0.00      0.00         4\\n   CC-328-01       0.00      0.00      0.00         4\\nCC-340ter-00       0.00      0.00      0.00         1\\n   CC-326-01       0.00      0.00      0.00         5\\n   CC-337-00       0.00      0.00      0.00         1\\n   CC-358-00       0.00      0.00      0.00         1\\n   CC-296-00       0.00      0.00      0.00         0\\nCC-336bis-00       0.00      0.00      0.00         1\\n   CC-328-00       0.00      0.00      0.00         2\\n   CC-295-00       0.00      0.00      0.00         4\\n   CC-331-00       0.00      0.00      0.00         0\\n   CC-335-02       0.00      0.00      0.00         5\\n   CC-341-00       0.81      0.94      0.87        18\\n   CC-336-00       0.00      0.00      0.00         0\\n   CC-326-02       0.00      0.00      0.00         3\\nCC-289(5)-00       0.00      0.00      0.00         1\\n\\n   micro avg       0.67      0.30      0.41       130\\n   macro avg       0.05      0.06      0.05       130\\nweighted avg       0.26      0.30      0.28       130\\n samples avg       0.33      0.30      0.31       130\\n',\n",
       " 'eval_runtime': 0.7664,\n",
       " 'eval_samples_per_second': 153.961,\n",
       " 'eval_steps_per_second': 5.219,\n",
       " 'epoch': 30.0}"
      ]
     },
     "execution_count": 40,
     "metadata": {},
     "output_type": "execute_result"
    }
   ],
   "source": [
    "result_eval = trainer.evaluate()\n",
    "result_eval"
   ]
  },
  {
   "cell_type": "code",
   "execution_count": null,
   "metadata": {},
   "outputs": [
    {
     "data": {
      "text/plain": [
       "<__main__.TSCCDataset at 0x7f56f869d540>"
      ]
     },
     "execution_count": 41,
     "metadata": {},
     "output_type": "execute_result"
    }
   ],
   "source": [
    "valid_dataset"
   ]
  },
  {
   "cell_type": "code",
   "execution_count": null,
   "metadata": {},
   "outputs": [
    {
     "data": {
      "text/plain": [
       "[[[117, 0], [1, 0]],\n",
       " [[117, 0], [1, 0]],\n",
       " [[115, 0], [3, 0]],\n",
       " [[113, 0], [5, 0]],\n",
       " [[118, 0], [0, 0]],\n",
       " [[117, 0], [1, 0]],\n",
       " [[101, 7], [3, 7]],\n",
       " [[117, 0], [1, 0]],\n",
       " [[116, 0], [2, 0]],\n",
       " [[116, 0], [2, 0]],\n",
       " [[115, 0], [3, 0]],\n",
       " [[117, 0], [1, 0]],\n",
       " [[116, 0], [2, 0]],\n",
       " [[117, 0], [1, 0]],\n",
       " [[112, 0], [6, 0]],\n",
       " [[113, 0], [5, 0]],\n",
       " [[118, 0], [0, 0]],\n",
       " [[88, 8], [7, 15]],\n",
       " [[117, 0], [1, 0]],\n",
       " [[117, 0], [1, 0]],\n",
       " [[116, 0], [2, 0]],\n",
       " [[117, 0], [1, 0]],\n",
       " [[109, 0], [9, 0]],\n",
       " [[114, 0], [4, 0]],\n",
       " [[114, 0], [4, 0]],\n",
       " [[117, 0], [1, 0]],\n",
       " [[113, 0], [5, 0]],\n",
       " [[117, 0], [1, 0]],\n",
       " [[117, 0], [1, 0]],\n",
       " [[118, 0], [0, 0]],\n",
       " [[117, 0], [1, 0]],\n",
       " [[116, 0], [2, 0]],\n",
       " [[114, 0], [4, 0]],\n",
       " [[118, 0], [0, 0]],\n",
       " [[113, 0], [5, 0]],\n",
       " [[96, 4], [1, 17]],\n",
       " [[118, 0], [0, 0]],\n",
       " [[115, 0], [3, 0]],\n",
       " [[117, 0], [1, 0]]]"
      ]
     },
     "execution_count": 42,
     "metadata": {},
     "output_type": "execute_result"
    }
   ],
   "source": [
    "# [[TN, FP], [FN, TP]]\n",
    "result_eval['eval_confusion_matrix']"
   ]
  },
  {
   "cell_type": "code",
   "execution_count": null,
   "metadata": {},
   "outputs": [
    {
     "name": "stdout",
     "output_type": "stream",
     "text": [
      "              precision    recall  f1-score   support\n",
      "\n",
      "   CC-360-00       0.00      0.00      0.00         1\n",
      "CC-289(6)-00       0.00      0.00      0.00         1\n",
      "   CC-393-01       0.00      0.00      0.00         3\n",
      "   CC-326-00       0.00      0.00      0.00         5\n",
      "   CC-340-00       0.00      0.00      0.00         0\n",
      "CC-289(2)-00       0.00      0.00      0.00         1\n",
      "   CC-329-00       0.50      0.70      0.58        10\n",
      "   CC-343-00       0.00      0.00      0.00         1\n",
      "   CC-393-00       0.00      0.00      0.00         2\n",
      "   CC-290-00       0.00      0.00      0.00         2\n",
      "   CC-297-00       0.00      0.00      0.00         3\n",
      "   CC-335-00       0.00      0.00      0.00         1\n",
      "   CC-291-00       0.00      0.00      0.00         2\n",
      "   CC-300-00       0.00      0.00      0.00         1\n",
      "   CC-352-00       0.00      0.00      0.00         6\n",
      "CC-289(4)-00       0.00      0.00      0.00         5\n",
      "   CC-330-00       0.00      0.00      0.00         0\n",
      "   CC-288-00       0.65      0.68      0.67        22\n",
      "   CC-391-00       0.00      0.00      0.00         1\n",
      "   CC-340-01       0.00      0.00      0.00         1\n",
      "   CC-339-02       0.00      0.00      0.00         2\n",
      "   CC-339-00       0.00      0.00      0.00         1\n",
      "   CC-334-00       0.00      0.00      0.00         9\n",
      "   CC-328-02       0.00      0.00      0.00         4\n",
      "   CC-328-01       0.00      0.00      0.00         4\n",
      "CC-340ter-00       0.00      0.00      0.00         1\n",
      "   CC-326-01       0.00      0.00      0.00         5\n",
      "   CC-337-00       0.00      0.00      0.00         1\n",
      "   CC-358-00       0.00      0.00      0.00         1\n",
      "   CC-296-00       0.00      0.00      0.00         0\n",
      "CC-336bis-00       0.00      0.00      0.00         1\n",
      "   CC-328-00       0.00      0.00      0.00         2\n",
      "   CC-295-00       0.00      0.00      0.00         4\n",
      "   CC-331-00       0.00      0.00      0.00         0\n",
      "   CC-335-02       0.00      0.00      0.00         5\n",
      "   CC-341-00       0.81      0.94      0.87        18\n",
      "   CC-336-00       0.00      0.00      0.00         0\n",
      "   CC-326-02       0.00      0.00      0.00         3\n",
      "CC-289(5)-00       0.00      0.00      0.00         1\n",
      "\n",
      "   micro avg       0.67      0.30      0.41       130\n",
      "   macro avg       0.05      0.06      0.05       130\n",
      "weighted avg       0.26      0.30      0.28       130\n",
      " samples avg       0.33      0.30      0.31       130\n",
      "\n"
     ]
    }
   ],
   "source": [
    "print(result_eval['eval_report'])"
   ]
  },
  {
   "cell_type": "markdown",
   "metadata": {},
   "source": [
    "eyJhcGlfYWRkcmVzcyI6Imh0dHBzOi8vYXBwLm5lcHR1bmUuYWkiLCJhcGlfdXJsIjoiaHR0cHM6Ly9hcHAubmVwdHVuZS5haSIsImFwaV9rZXkiOiIxZDIyNDdmMi05YTY3LTRmYTktODk3OC05ZmMxZmU1NmUxMjAifQ=="
   ]
  },
  {
   "cell_type": "code",
   "execution_count": null,
   "metadata": {},
   "outputs": [
    {
     "data": {
      "text/plain": [
       "('./models/wangchanberta-finetuned-relevant-article-pred-all/3/tokenizer_config.json',\n",
       " './models/wangchanberta-finetuned-relevant-article-pred-all/3/special_tokens_map.json',\n",
       " './models/wangchanberta-finetuned-relevant-article-pred-all/3/sentencepiece.bpe.model',\n",
       " './models/wangchanberta-finetuned-relevant-article-pred-all/3/added_tokens.json',\n",
       " './models/wangchanberta-finetuned-relevant-article-pred-all/3/tokenizer.json')"
      ]
     },
     "execution_count": 44,
     "metadata": {},
     "output_type": "execute_result"
    }
   ],
   "source": [
    "save_path = \"./models/wangchanberta-finetuned-relevant-article-pred-all/3\"\n",
    "model.save_pretrained(save_path)\n",
    "tokenizer.save_pretrained(save_path)"
   ]
  },
  {
   "cell_type": "markdown",
   "metadata": {},
   "source": [
    "# Inference"
   ]
  },
  {
   "cell_type": "code",
   "execution_count": null,
   "metadata": {},
   "outputs": [
    {
     "data": {
      "text/plain": [
       "torch.Size([1, 39])"
      ]
     },
     "execution_count": 45,
     "metadata": {},
     "output_type": "execute_result"
    }
   ],
   "source": [
    "text = \"จำเลยกับพวกร่วมกันใช้อาวุธปืนยิงผู้ตายถูกที่ด้านหลัง กระสุนปืนตัดบริเวณไขสันหลังขาด ผู้ตายเป็นอัมพาตตั้งแต่เอวจนจดเท้าและถึงแก่ความตายสืบเนื่องมาจากบาดแผลที่ถูกยิงและภาวะติดเชื้ออย่างรุนแรงหลังจากเกิดเหตุ 9 เดือนเศษ\"\n",
    "\n",
    "encoding = tokenizer(text, return_tensors=\"pt\")\n",
    "encoding = {k: v.to(trainer.model.device) for k,v in encoding.items()}\n",
    "\n",
    "outputs = trainer.model(**encoding)\n",
    "logits = outputs.logits\n",
    "logits.shape"
   ]
  },
  {
   "cell_type": "code",
   "execution_count": null,
   "metadata": {},
   "outputs": [
    {
     "name": "stdout",
     "output_type": "stream",
     "text": [
      "['CC-288-00']\n"
     ]
    },
    {
     "name": "stderr",
     "output_type": "stream",
     "text": [
      "Error occurred during asynchronous operation processing: X-coordinates (step) must be strictly increasing for series attribute: finetuning/eval/samples_per_second. Invalid point: 1020.0\n",
      "Error occurred during asynchronous operation processing: X-coordinates (step) must be strictly increasing for series attribute: finetuning/eval/steps_per_second. Invalid point: 1020.0\n",
      "Error occurred during asynchronous operation processing: X-coordinates (step) must be strictly increasing for series attribute: finetuning/eval/f1. Invalid point: 1020.0\n",
      "Error occurred during asynchronous operation processing: X-coordinates (step) must be strictly increasing for series attribute: finetuning/eval/loss. Invalid point: 1020.0\n",
      "Error occurred during asynchronous operation processing: X-coordinates (step) must be strictly increasing for series attribute: finetuning/eval/accuracy. Invalid point: 1020.0\n",
      "Error occurred during asynchronous operation processing: X-coordinates (step) must be strictly increasing for series attribute: finetuning/eval/roc_auc. Invalid point: 1020.0\n",
      "Error occurred during asynchronous operation processing: X-coordinates (step) must be strictly increasing for series attribute: finetuning/eval/runtime. Invalid point: 1020.0\n"
     ]
    }
   ],
   "source": [
    "# apply sigmoid + threshold\n",
    "sigmoid = torch.nn.Sigmoid()\n",
    "probs = sigmoid(logits.squeeze().cpu())\n",
    "predictions = np.zeros(probs.shape)\n",
    "predictions[np.where(probs >= 0.5)] = 1\n",
    "# turn predicted id's into actual label names\n",
    "predicted_labels = [id2label[idx] for idx, label in enumerate(predictions) if label == 1.0]\n",
    "print(predicted_labels)"
   ]
  },
  {
   "cell_type": "markdown",
   "metadata": {},
   "source": [
    "# References"
   ]
  },
  {
   "cell_type": "markdown",
   "metadata": {},
   "source": [
    "- WangchanBERTa Tutorial: https://colab.research.google.com/drive/1Kbk6sBspZLwcnOE61adAQo30xxqOQ9ko\n",
    "\n",
    "- Slightly oudated multilabel classification using HuggingFace's Transformer: https://towardsdatascience.com/transformers-for-multilabel-classification-71a1a0daf5e1\n",
    "\n",
    "- Another multilabel classification examples: https://github.com/NielsRogge/Transformers-Tutorials/blob/master/BERT/Fine_tuning_BERT_(and_friends)_for_multi_label_text_classification.ipynb"
   ]
  }
 ],
 "metadata": {
  "kernelspec": {
   "display_name": "Python 3",
   "language": "python",
   "name": "python3"
  },
  "language_info": {
   "codemirror_mode": {
    "name": "ipython",
    "version": 3
   },
   "file_extension": ".py",
   "mimetype": "text/x-python",
   "name": "python",
   "nbconvert_exporter": "python",
   "pygments_lexer": "ipython3",
   "version": "3.10.12"
  },
  "orig_nbformat": 4
 },
 "nbformat": 4,
 "nbformat_minor": 2
}
