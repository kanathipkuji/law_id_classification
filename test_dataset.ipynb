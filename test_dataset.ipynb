{
 "cells": [
  {
   "cell_type": "code",
   "execution_count": 7,
   "metadata": {},
   "outputs": [],
   "source": [
    "import pandas as pd\n",
    "\n",
    "fpath = './data/raw/thaipbs/thaipbs-111_final.csv'"
   ]
  },
  {
   "cell_type": "code",
   "execution_count": 5,
   "metadata": {},
   "outputs": [
    {
     "data": {
      "text/html": [
       "<div>\n",
       "<style scoped>\n",
       "    .dataframe tbody tr th:only-of-type {\n",
       "        vertical-align: middle;\n",
       "    }\n",
       "\n",
       "    .dataframe tbody tr th {\n",
       "        vertical-align: top;\n",
       "    }\n",
       "\n",
       "    .dataframe thead th {\n",
       "        text-align: right;\n",
       "    }\n",
       "</style>\n",
       "<table border=\"1\" class=\"dataframe\">\n",
       "  <thead>\n",
       "    <tr style=\"text-align: right;\">\n",
       "      <th></th>\n",
       "      <th>url</th>\n",
       "      <th>date</th>\n",
       "      <th>title</th>\n",
       "      <th>body_text</th>\n",
       "      <th>labels</th>\n",
       "    </tr>\n",
       "  </thead>\n",
       "  <tbody>\n",
       "    <tr>\n",
       "      <th>0</th>\n",
       "      <td>https://prachatai.com/print/42</td>\n",
       "      <td>2004-08-24 14:31</td>\n",
       "      <td>นักวิจัยหนุน  \"แม้ว\"  เปิด  \"จีเอ็มโอ\"</td>\n",
       "      <td>ประชาไท --- 23 ส.ค.2547  นักวิจัยฯ ชี้นโยบายจี...</td>\n",
       "      <td>['ข่าว', 'สิ่งแวดล้อม']</td>\n",
       "    </tr>\n",
       "    <tr>\n",
       "      <th>1</th>\n",
       "      <td>https://prachatai.com/print/41</td>\n",
       "      <td>2004-08-24 14:22</td>\n",
       "      <td>ภาคประชาชนต้านเปิดเสรีจีเอ็มโอ</td>\n",
       "      <td>ประชาไท- 23 ส.ค.2547   นักวิชาการ ภาคประชาชน จ...</td>\n",
       "      <td>['ข่าว', 'สิ่งแวดล้อม']</td>\n",
       "    </tr>\n",
       "    <tr>\n",
       "      <th>2</th>\n",
       "      <td>https://prachatai.com/print/43</td>\n",
       "      <td>2004-08-24 15:17</td>\n",
       "      <td>จุฬาฯ ห่วงจีเอ็มโอลามข้าวไทย</td>\n",
       "      <td>นโยบายที่อนุญาตให้ปลูกร่วมกับพืชอื่นได้นั้นถื...</td>\n",
       "      <td>['ข่าว', 'สิ่งแวดล้อม']</td>\n",
       "    </tr>\n",
       "    <tr>\n",
       "      <th>3</th>\n",
       "      <td>https://prachatai.com/print/45</td>\n",
       "      <td>2004-08-24 15:58</td>\n",
       "      <td>ฟองสบู่การเมืองแตก ทักษิณหมดกึ๋น ชนชั้นกลางหมด...</td>\n",
       "      <td>ประชาไท -- 23 ส.ค. 47  ขาประจำทักษิณ ฟันธง ฟอง...</td>\n",
       "      <td>['ข่าว', 'การเมือง', 'คณะเศรษฐศาสตร์ มหาวิทยาล...</td>\n",
       "    </tr>\n",
       "    <tr>\n",
       "      <th>4</th>\n",
       "      <td>https://prachatai.com/print/47</td>\n",
       "      <td>2004-08-24 16:10</td>\n",
       "      <td>กอต.เสนอเลิกถนนคลองลาน-อุ้มผาง</td>\n",
       "      <td>ประชาไท-23 ส.ค.47  คณะกรรมการอนุรักษ์ ผืนป่าตะ...</td>\n",
       "      <td>['ข่าว', 'สิ่งแวดล้อม']</td>\n",
       "    </tr>\n",
       "  </tbody>\n",
       "</table>\n",
       "</div>"
      ],
      "text/plain": [
       "                              url              date  \\\n",
       "0  https://prachatai.com/print/42  2004-08-24 14:31   \n",
       "1  https://prachatai.com/print/41  2004-08-24 14:22   \n",
       "2  https://prachatai.com/print/43  2004-08-24 15:17   \n",
       "3  https://prachatai.com/print/45  2004-08-24 15:58   \n",
       "4  https://prachatai.com/print/47  2004-08-24 16:10   \n",
       "\n",
       "                                               title  \\\n",
       "0             นักวิจัยหนุน  \"แม้ว\"  เปิด  \"จีเอ็มโอ\"   \n",
       "1                     ภาคประชาชนต้านเปิดเสรีจีเอ็มโอ   \n",
       "2                       จุฬาฯ ห่วงจีเอ็มโอลามข้าวไทย   \n",
       "3  ฟองสบู่การเมืองแตก ทักษิณหมดกึ๋น ชนชั้นกลางหมด...   \n",
       "4                     กอต.เสนอเลิกถนนคลองลาน-อุ้มผาง   \n",
       "\n",
       "                                           body_text  \\\n",
       "0  ประชาไท --- 23 ส.ค.2547  นักวิจัยฯ ชี้นโยบายจี...   \n",
       "1  ประชาไท- 23 ส.ค.2547   นักวิชาการ ภาคประชาชน จ...   \n",
       "2   นโยบายที่อนุญาตให้ปลูกร่วมกับพืชอื่นได้นั้นถื...   \n",
       "3  ประชาไท -- 23 ส.ค. 47  ขาประจำทักษิณ ฟันธง ฟอง...   \n",
       "4  ประชาไท-23 ส.ค.47  คณะกรรมการอนุรักษ์ ผืนป่าตะ...   \n",
       "\n",
       "                                              labels  \n",
       "0                            ['ข่าว', 'สิ่งแวดล้อม']  \n",
       "1                            ['ข่าว', 'สิ่งแวดล้อม']  \n",
       "2                            ['ข่าว', 'สิ่งแวดล้อม']  \n",
       "3  ['ข่าว', 'การเมือง', 'คณะเศรษฐศาสตร์ มหาวิทยาล...  \n",
       "4                            ['ข่าว', 'สิ่งแวดล้อม']  "
      ]
     },
     "execution_count": 5,
     "metadata": {},
     "output_type": "execute_result"
    }
   ],
   "source": [
    "df = pd.read_csv(fpath)\n",
    "df.head()"
   ]
  },
  {
   "cell_type": "code",
   "execution_count": 9,
   "metadata": {},
   "outputs": [
    {
     "name": "stdout",
     "output_type": "stream",
     "text": [
      "url,date,title,body_text,labels\n",
      "\n",
      "https://prachatai.com/print/42,2004-08-24 14:31,\"นักวิจัยหนุน  \"\"แม้ว\"\"  เปิด  \"\"จีเอ็มโอ\"\"\",\"ประชาไท --- 23 ส.ค.2547  นักวิจัยฯ ชี้นโยบายจีเอ็มโอเอื้อต่อการค้นคว้าวิจัย แต่ไม่ใช่คำตอบทั้งหมด ขณะที่ผอ.สวทช.ระบุมาตรการตรวจสอบความปลอดภัยมีมาก่อนการกำหนดนโยบายของรัฐบาล เพียงแต่ทบทวนและปรับปรุงเพิ่มเติม  \n",
      "\n",
      "สำนักงานพัฒนาวิทยาศาสตร์และเทคโนโลยี  จัดสัมมนาเกี่ยวกับมะละกอดัดแปลงพันธุกรรมในประเทศไทย มีนักวิชาการ นักวิจัยจากกรมวิชาการเกษตร  มหาวิทยาลัยเกษตรศาสตร์  และมหาวิทยาลัยมหิดลเข้าร่วม  โดยมีการนำเสนอผลการศึกษาทดลองที่ผ่านมา  ซึ่งพบว่ามะละกอ\n",
      "\n"
     ]
    }
   ],
   "source": [
    "with open(fpath, 'r') as f:\n",
    "    for i, line in enumerate(f):\n",
    "        if i > 2: break\n",
    "        print(line)"
   ]
  }
 ],
 "metadata": {
  "kernelspec": {
   "display_name": "myenv",
   "language": "python",
   "name": "python3"
  },
  "language_info": {
   "codemirror_mode": {
    "name": "ipython",
    "version": 3
   },
   "file_extension": ".py",
   "mimetype": "text/x-python",
   "name": "python",
   "nbconvert_exporter": "python",
   "pygments_lexer": "ipython3",
   "version": "3.10.12"
  }
 },
 "nbformat": 4,
 "nbformat_minor": 2
}
