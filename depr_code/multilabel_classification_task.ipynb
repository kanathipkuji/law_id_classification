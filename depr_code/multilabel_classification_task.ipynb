{
 "cells": [
  {
   "cell_type": "markdown",
   "metadata": {},
   "source": [
    "# Model: WangchanBERTa"
   ]
  },
  {
   "cell_type": "code",
   "execution_count": 1,
   "metadata": {},
   "outputs": [
    {
     "name": "stderr",
     "output_type": "stream",
     "text": [
      "d:\\NLP Research\\2023\\.conda\\lib\\site-packages\\tqdm\\auto.py:21: TqdmWarning: IProgress not found. Please update jupyter and ipywidgets. See https://ipywidgets.readthedocs.io/en/stable/user_install.html\n",
      "  from .autonotebook import tqdm as notebook_tqdm\n"
     ]
    }
   ],
   "source": [
    "import pandas as pd\n",
    "import matplotlib.pyplot as plt\n",
    "from collections import defaultdict, Counter\n",
    "import numpy as np\n",
    "import math\n",
    "import re\n",
    "import torch\n",
    "import json\n",
    "from torch.utils.data import TensorDataset, DataLoader, RandomSampler, SequentialSampler\n",
    "from sklearn.model_selection import train_test_split\n",
    "from transformers import AutoTokenizer, AutoModelForSequenceClassification\n",
    "from transformers import Trainer, TrainingArguments"
   ]
  },
  {
   "cell_type": "markdown",
   "metadata": {},
   "source": [
    "# Raw Data"
   ]
  },
  {
   "cell_type": "code",
   "execution_count": 2,
   "metadata": {},
   "outputs": [
    {
     "name": "stdout",
     "output_type": "stream",
     "text": [
      "1207\n"
     ]
    },
    {
     "data": {
      "text/html": [
       "<div>\n",
       "<style scoped>\n",
       "    .dataframe tbody tr th:only-of-type {\n",
       "        vertical-align: middle;\n",
       "    }\n",
       "\n",
       "    .dataframe tbody tr th {\n",
       "        vertical-align: top;\n",
       "    }\n",
       "\n",
       "    .dataframe thead th {\n",
       "        text-align: right;\n",
       "    }\n",
       "</style>\n",
       "<table border=\"1\" class=\"dataframe\">\n",
       "  <thead>\n",
       "    <tr style=\"text-align: right;\">\n",
       "      <th></th>\n",
       "      <th>issueid</th>\n",
       "      <th>dekaid</th>\n",
       "      <th>year</th>\n",
       "      <th>category</th>\n",
       "      <th>issueno</th>\n",
       "      <th>lawids</th>\n",
       "      <th>fact</th>\n",
       "      <th>decision</th>\n",
       "      <th>isact</th>\n",
       "      <th>isexternalelements</th>\n",
       "      <th>isinternalelement</th>\n",
       "      <th>isintent</th>\n",
       "      <th>isneglect</th>\n",
       "      <th>iscause</th>\n",
       "      <th>isjustify</th>\n",
       "      <th>isexcuse</th>\n",
       "      <th>isguilty</th>\n",
       "      <th>isattempt</th>\n",
       "      <th>isattemptimpossible</th>\n",
       "    </tr>\n",
       "  </thead>\n",
       "  <tbody>\n",
       "    <tr>\n",
       "      <th>0</th>\n",
       "      <td>1</td>\n",
       "      <td>1478/2528</td>\n",
       "      <td>2528</td>\n",
       "      <td>LB</td>\n",
       "      <td>1</td>\n",
       "      <td>CC-288-00,CC-083-00,CC-063-00</td>\n",
       "      <td>จำเลยกับพวกร่วมกันใช้อาวุธปืนยิงผู้ตายถูกที่ด้...</td>\n",
       "      <td>จำเลยจึงมีความผิดฐานฆ่าผู้ตายโดยเจตนา</td>\n",
       "      <td>1</td>\n",
       "      <td>1</td>\n",
       "      <td>1</td>\n",
       "      <td>1</td>\n",
       "      <td>-1</td>\n",
       "      <td>1</td>\n",
       "      <td>0</td>\n",
       "      <td>0</td>\n",
       "      <td>1</td>\n",
       "      <td>0</td>\n",
       "      <td>-1</td>\n",
       "    </tr>\n",
       "    <tr>\n",
       "      <th>1</th>\n",
       "      <td>2</td>\n",
       "      <td>1548/2531</td>\n",
       "      <td>2531</td>\n",
       "      <td>LB</td>\n",
       "      <td>1</td>\n",
       "      <td>CC-288-00</td>\n",
       "      <td>จำเลยที่ 1 ซึ่งเคยมีเรื่องทะเลาะกับผู้ตายมาก่อ...</td>\n",
       "      <td>จำเลยที่ 1 จึงมีความผิดฐานฆ่าผู้ตายโดยเจตนา</td>\n",
       "      <td>1</td>\n",
       "      <td>1</td>\n",
       "      <td>1</td>\n",
       "      <td>1</td>\n",
       "      <td>-1</td>\n",
       "      <td>1</td>\n",
       "      <td>0</td>\n",
       "      <td>0</td>\n",
       "      <td>1</td>\n",
       "      <td>0</td>\n",
       "      <td>-1</td>\n",
       "    </tr>\n",
       "    <tr>\n",
       "      <th>2</th>\n",
       "      <td>3</td>\n",
       "      <td>1548/2531</td>\n",
       "      <td>2531</td>\n",
       "      <td>LB</td>\n",
       "      <td>2</td>\n",
       "      <td>CC-290-00,CC-083-00</td>\n",
       "      <td>ส่วนจำเลยที่ 2 ที่ 3 และที่ 4 นั้น ได้ความว่าก...</td>\n",
       "      <td>การที่จำเลยที่ 1 ใช้เหล็กแหลมแทงผู้ตายโดยเจตนา...</td>\n",
       "      <td>1</td>\n",
       "      <td>1</td>\n",
       "      <td>1</td>\n",
       "      <td>1</td>\n",
       "      <td>-1</td>\n",
       "      <td>1</td>\n",
       "      <td>0</td>\n",
       "      <td>0</td>\n",
       "      <td>1</td>\n",
       "      <td>0</td>\n",
       "      <td>-1</td>\n",
       "    </tr>\n",
       "    <tr>\n",
       "      <th>3</th>\n",
       "      <td>4</td>\n",
       "      <td>1548/2531</td>\n",
       "      <td>2531</td>\n",
       "      <td>LB</td>\n",
       "      <td>3</td>\n",
       "      <td>CC-288-00,CC-083-00</td>\n",
       "      <td>ส่วนจำเลยที่ 2 ที่ 3 และที่ 4 นั้น ได้ความว่าก...</td>\n",
       "      <td>การที่จำเลยที่ 1 ใช้เหล็กแหลมแทงผู้ตายโดยเจตนา...</td>\n",
       "      <td>0</td>\n",
       "      <td>-1</td>\n",
       "      <td>-1</td>\n",
       "      <td>-1</td>\n",
       "      <td>-1</td>\n",
       "      <td>-1</td>\n",
       "      <td>-1</td>\n",
       "      <td>-1</td>\n",
       "      <td>0</td>\n",
       "      <td>-1</td>\n",
       "      <td>-1</td>\n",
       "    </tr>\n",
       "    <tr>\n",
       "      <th>4</th>\n",
       "      <td>5</td>\n",
       "      <td>1697/2522</td>\n",
       "      <td>2522</td>\n",
       "      <td>LB</td>\n",
       "      <td>1</td>\n",
       "      <td>CC-288-00,CC-083-00</td>\n",
       "      <td>โจทก์บรรยายฟ้องว่า จำเลยกับพวกที่ยังไม่ได้ตัวม...</td>\n",
       "      <td>จึงเป็นการกระทำโดยมีเจตนาฆ่าผู้ตาย แม้ข้อเท็จจ...</td>\n",
       "      <td>1</td>\n",
       "      <td>1</td>\n",
       "      <td>1</td>\n",
       "      <td>1</td>\n",
       "      <td>-1</td>\n",
       "      <td>1</td>\n",
       "      <td>0</td>\n",
       "      <td>0</td>\n",
       "      <td>1</td>\n",
       "      <td>0</td>\n",
       "      <td>-1</td>\n",
       "    </tr>\n",
       "  </tbody>\n",
       "</table>\n",
       "</div>"
      ],
      "text/plain": [
       "   issueid     dekaid  year category  issueno                         lawids  \\\n",
       "0        1  1478/2528  2528       LB        1  CC-288-00,CC-083-00,CC-063-00   \n",
       "1        2  1548/2531  2531       LB        1                      CC-288-00   \n",
       "2        3  1548/2531  2531       LB        2            CC-290-00,CC-083-00   \n",
       "3        4  1548/2531  2531       LB        3            CC-288-00,CC-083-00   \n",
       "4        5  1697/2522  2522       LB        1            CC-288-00,CC-083-00   \n",
       "\n",
       "                                                fact  \\\n",
       "0  จำเลยกับพวกร่วมกันใช้อาวุธปืนยิงผู้ตายถูกที่ด้...   \n",
       "1  จำเลยที่ 1 ซึ่งเคยมีเรื่องทะเลาะกับผู้ตายมาก่อ...   \n",
       "2  ส่วนจำเลยที่ 2 ที่ 3 และที่ 4 นั้น ได้ความว่าก...   \n",
       "3  ส่วนจำเลยที่ 2 ที่ 3 และที่ 4 นั้น ได้ความว่าก...   \n",
       "4  โจทก์บรรยายฟ้องว่า จำเลยกับพวกที่ยังไม่ได้ตัวม...   \n",
       "\n",
       "                                            decision  isact  \\\n",
       "0              จำเลยจึงมีความผิดฐานฆ่าผู้ตายโดยเจตนา      1   \n",
       "1        จำเลยที่ 1 จึงมีความผิดฐานฆ่าผู้ตายโดยเจตนา      1   \n",
       "2  การที่จำเลยที่ 1 ใช้เหล็กแหลมแทงผู้ตายโดยเจตนา...      1   \n",
       "3  การที่จำเลยที่ 1 ใช้เหล็กแหลมแทงผู้ตายโดยเจตนา...      0   \n",
       "4  จึงเป็นการกระทำโดยมีเจตนาฆ่าผู้ตาย แม้ข้อเท็จจ...      1   \n",
       "\n",
       "   isexternalelements  isinternalelement  isintent  isneglect  iscause  \\\n",
       "0                   1                  1         1         -1        1   \n",
       "1                   1                  1         1         -1        1   \n",
       "2                   1                  1         1         -1        1   \n",
       "3                  -1                 -1        -1         -1       -1   \n",
       "4                   1                  1         1         -1        1   \n",
       "\n",
       "   isjustify  isexcuse  isguilty  isattempt  isattemptimpossible  \n",
       "0          0         0         1          0                   -1  \n",
       "1          0         0         1          0                   -1  \n",
       "2          0         0         1          0                   -1  \n",
       "3         -1        -1         0         -1                   -1  \n",
       "4          0         0         1          0                   -1  "
      ]
     },
     "execution_count": 2,
     "metadata": {},
     "output_type": "execute_result"
    }
   ],
   "source": [
    "df = pd.read_csv('../datasets/tscc_v0.1-judgement.csv')\n",
    "print(len(df))\n",
    "df.head()"
   ]
  },
  {
   "cell_type": "markdown",
   "metadata": {},
   "source": [
    "# Preprocess"
   ]
  },
  {
   "cell_type": "markdown",
   "metadata": {},
   "source": [
    "## Filter non-relevant article ids (i.e. id <= 106)"
   ]
  },
  {
   "cell_type": "code",
   "execution_count": 3,
   "metadata": {},
   "outputs": [
    {
     "name": "stdout",
     "output_type": "stream",
     "text": [
      "# Article IDs (before filtering out):  76\n",
      "# Article IDs (after filtering out):  50\n"
     ]
    },
    {
     "data": {
      "text/plain": [
       "['CC-289(2)-00',\n",
       " 'CC-289(6)-00',\n",
       " 'CC-340-00',\n",
       " 'CC-335-00',\n",
       " 'CC-340-01',\n",
       " 'CC-290-00',\n",
       " 'CC-390-00',\n",
       " 'CC-339-02',\n",
       " 'CC-334-00',\n",
       " 'CC-342-00',\n",
       " 'CC-354-00',\n",
       " 'CC-289(3)-00',\n",
       " 'CC-360-00',\n",
       " 'CC-336bis-00',\n",
       " 'CC-300-00',\n",
       " 'CC-295-00',\n",
       " 'CC-298-00',\n",
       " 'CC-393-00',\n",
       " 'CC-326-00',\n",
       " 'CC-328-01',\n",
       " 'CC-340ter-00',\n",
       " 'CC-289(5)-00',\n",
       " 'CC-341-00',\n",
       " 'CC-329-00',\n",
       " 'CC-343-00',\n",
       " 'CC-339-00',\n",
       " 'CC-335bis-00',\n",
       " 'CC-339-01',\n",
       " 'CC-338-00',\n",
       " 'CC-331-00',\n",
       " 'CC-328-02',\n",
       " 'CC-337-00',\n",
       " 'CC-352-00',\n",
       " 'CC-358-00',\n",
       " 'CC-288-00',\n",
       " 'CC-336-00',\n",
       " 'CC-297-00',\n",
       " 'CC-330-00',\n",
       " 'CC-291-00',\n",
       " 'CC-335-02',\n",
       " 'CC-328-00',\n",
       " 'CC-289(7)-00',\n",
       " 'CC-289(4)-00',\n",
       " 'CC-391-00',\n",
       " 'CC-393-01',\n",
       " 'CC-326-02',\n",
       " 'CC-335-01',\n",
       " 'CC-326-01',\n",
       " 'CC-335bis-01',\n",
       " 'CC-296-00']"
      ]
     },
     "execution_count": 3,
     "metadata": {},
     "output_type": "execute_result"
    }
   ],
   "source": [
    "lawids_df = df['lawids']\n",
    "\n",
    "lawids = []\n",
    "for ids in lawids_df:\n",
    "    lawids.extend(ids.split(','))\n",
    "lawids_set = set(lawids)\n",
    "print('# Article IDs (before filtering out): ', len(lawids_set))\n",
    "\n",
    "''' remove any articles with id <= 106 '''\n",
    "labels = list(filter(lambda x: int(x.split('-')[1][:3]) > 106, lawids_set))\n",
    "print('# Article IDs (after filtering out): ', len(labels))\n",
    "labels\n"
   ]
  },
  {
   "cell_type": "markdown",
   "metadata": {},
   "source": [
    "## Filter \\<discr>...\\</discr> portion out of fact description"
   ]
  },
  {
   "cell_type": "code",
   "execution_count": 4,
   "metadata": {},
   "outputs": [
    {
     "data": {
      "text/html": [
       "<div>\n",
       "<style scoped>\n",
       "    .dataframe tbody tr th:only-of-type {\n",
       "        vertical-align: middle;\n",
       "    }\n",
       "\n",
       "    .dataframe tbody tr th {\n",
       "        vertical-align: top;\n",
       "    }\n",
       "\n",
       "    .dataframe thead th {\n",
       "        text-align: right;\n",
       "    }\n",
       "</style>\n",
       "<table border=\"1\" class=\"dataframe\">\n",
       "  <thead>\n",
       "    <tr style=\"text-align: right;\">\n",
       "      <th></th>\n",
       "      <th>issueid</th>\n",
       "      <th>dekaid</th>\n",
       "      <th>year</th>\n",
       "      <th>category</th>\n",
       "      <th>issueno</th>\n",
       "      <th>lawids</th>\n",
       "      <th>fact</th>\n",
       "      <th>decision</th>\n",
       "      <th>isact</th>\n",
       "      <th>isexternalelements</th>\n",
       "      <th>isinternalelement</th>\n",
       "      <th>isintent</th>\n",
       "      <th>isneglect</th>\n",
       "      <th>iscause</th>\n",
       "      <th>isjustify</th>\n",
       "      <th>isexcuse</th>\n",
       "      <th>isguilty</th>\n",
       "      <th>isattempt</th>\n",
       "      <th>isattemptimpossible</th>\n",
       "      <th>filtered_fact</th>\n",
       "    </tr>\n",
       "  </thead>\n",
       "  <tbody>\n",
       "    <tr>\n",
       "      <th>0</th>\n",
       "      <td>1</td>\n",
       "      <td>1478/2528</td>\n",
       "      <td>2528</td>\n",
       "      <td>LB</td>\n",
       "      <td>1</td>\n",
       "      <td>CC-288-00,CC-083-00,CC-063-00</td>\n",
       "      <td>จำเลยกับพวกร่วมกันใช้อาวุธปืนยิงผู้ตายถูกที่ด้...</td>\n",
       "      <td>จำเลยจึงมีความผิดฐานฆ่าผู้ตายโดยเจตนา</td>\n",
       "      <td>1</td>\n",
       "      <td>1</td>\n",
       "      <td>1</td>\n",
       "      <td>1</td>\n",
       "      <td>-1</td>\n",
       "      <td>1</td>\n",
       "      <td>0</td>\n",
       "      <td>0</td>\n",
       "      <td>1</td>\n",
       "      <td>0</td>\n",
       "      <td>-1</td>\n",
       "      <td>จำเลยกับพวกร่วมกันใช้อาวุธปืนยิงผู้ตายถูกที่ด้...</td>\n",
       "    </tr>\n",
       "    <tr>\n",
       "      <th>1</th>\n",
       "      <td>2</td>\n",
       "      <td>1548/2531</td>\n",
       "      <td>2531</td>\n",
       "      <td>LB</td>\n",
       "      <td>1</td>\n",
       "      <td>CC-288-00</td>\n",
       "      <td>จำเลยที่ 1 ซึ่งเคยมีเรื่องทะเลาะกับผู้ตายมาก่อ...</td>\n",
       "      <td>จำเลยที่ 1 จึงมีความผิดฐานฆ่าผู้ตายโดยเจตนา</td>\n",
       "      <td>1</td>\n",
       "      <td>1</td>\n",
       "      <td>1</td>\n",
       "      <td>1</td>\n",
       "      <td>-1</td>\n",
       "      <td>1</td>\n",
       "      <td>0</td>\n",
       "      <td>0</td>\n",
       "      <td>1</td>\n",
       "      <td>0</td>\n",
       "      <td>-1</td>\n",
       "      <td>จำเลยที่ 1 ซึ่งเคยมีเรื่องทะเลาะกับผู้ตายมาก่อ...</td>\n",
       "    </tr>\n",
       "    <tr>\n",
       "      <th>2</th>\n",
       "      <td>3</td>\n",
       "      <td>1548/2531</td>\n",
       "      <td>2531</td>\n",
       "      <td>LB</td>\n",
       "      <td>2</td>\n",
       "      <td>CC-290-00,CC-083-00</td>\n",
       "      <td>ส่วนจำเลยที่ 2 ที่ 3 และที่ 4 นั้น ได้ความว่าก...</td>\n",
       "      <td>การที่จำเลยที่ 1 ใช้เหล็กแหลมแทงผู้ตายโดยเจตนา...</td>\n",
       "      <td>1</td>\n",
       "      <td>1</td>\n",
       "      <td>1</td>\n",
       "      <td>1</td>\n",
       "      <td>-1</td>\n",
       "      <td>1</td>\n",
       "      <td>0</td>\n",
       "      <td>0</td>\n",
       "      <td>1</td>\n",
       "      <td>0</td>\n",
       "      <td>-1</td>\n",
       "      <td>ส่วนจำเลยที่ 2 ที่ 3 และที่ 4 นั้น ได้ความว่าก...</td>\n",
       "    </tr>\n",
       "    <tr>\n",
       "      <th>3</th>\n",
       "      <td>4</td>\n",
       "      <td>1548/2531</td>\n",
       "      <td>2531</td>\n",
       "      <td>LB</td>\n",
       "      <td>3</td>\n",
       "      <td>CC-288-00,CC-083-00</td>\n",
       "      <td>ส่วนจำเลยที่ 2 ที่ 3 และที่ 4 นั้น ได้ความว่าก...</td>\n",
       "      <td>การที่จำเลยที่ 1 ใช้เหล็กแหลมแทงผู้ตายโดยเจตนา...</td>\n",
       "      <td>0</td>\n",
       "      <td>-1</td>\n",
       "      <td>-1</td>\n",
       "      <td>-1</td>\n",
       "      <td>-1</td>\n",
       "      <td>-1</td>\n",
       "      <td>-1</td>\n",
       "      <td>-1</td>\n",
       "      <td>0</td>\n",
       "      <td>-1</td>\n",
       "      <td>-1</td>\n",
       "      <td>ส่วนจำเลยที่ 2 ที่ 3 และที่ 4 นั้น ได้ความว่าก...</td>\n",
       "    </tr>\n",
       "    <tr>\n",
       "      <th>4</th>\n",
       "      <td>5</td>\n",
       "      <td>1697/2522</td>\n",
       "      <td>2522</td>\n",
       "      <td>LB</td>\n",
       "      <td>1</td>\n",
       "      <td>CC-288-00,CC-083-00</td>\n",
       "      <td>โจทก์บรรยายฟ้องว่า จำเลยกับพวกที่ยังไม่ได้ตัวม...</td>\n",
       "      <td>จึงเป็นการกระทำโดยมีเจตนาฆ่าผู้ตาย แม้ข้อเท็จจ...</td>\n",
       "      <td>1</td>\n",
       "      <td>1</td>\n",
       "      <td>1</td>\n",
       "      <td>1</td>\n",
       "      <td>-1</td>\n",
       "      <td>1</td>\n",
       "      <td>0</td>\n",
       "      <td>0</td>\n",
       "      <td>1</td>\n",
       "      <td>0</td>\n",
       "      <td>-1</td>\n",
       "      <td>โจทก์บรรยายฟ้องว่า จำเลยกับพวกที่ยังไม่ได้ตัวม...</td>\n",
       "    </tr>\n",
       "  </tbody>\n",
       "</table>\n",
       "</div>"
      ],
      "text/plain": [
       "   issueid     dekaid  year category  issueno                         lawids  \\\n",
       "0        1  1478/2528  2528       LB        1  CC-288-00,CC-083-00,CC-063-00   \n",
       "1        2  1548/2531  2531       LB        1                      CC-288-00   \n",
       "2        3  1548/2531  2531       LB        2            CC-290-00,CC-083-00   \n",
       "3        4  1548/2531  2531       LB        3            CC-288-00,CC-083-00   \n",
       "4        5  1697/2522  2522       LB        1            CC-288-00,CC-083-00   \n",
       "\n",
       "                                                fact  \\\n",
       "0  จำเลยกับพวกร่วมกันใช้อาวุธปืนยิงผู้ตายถูกที่ด้...   \n",
       "1  จำเลยที่ 1 ซึ่งเคยมีเรื่องทะเลาะกับผู้ตายมาก่อ...   \n",
       "2  ส่วนจำเลยที่ 2 ที่ 3 และที่ 4 นั้น ได้ความว่าก...   \n",
       "3  ส่วนจำเลยที่ 2 ที่ 3 และที่ 4 นั้น ได้ความว่าก...   \n",
       "4  โจทก์บรรยายฟ้องว่า จำเลยกับพวกที่ยังไม่ได้ตัวม...   \n",
       "\n",
       "                                            decision  isact  \\\n",
       "0              จำเลยจึงมีความผิดฐานฆ่าผู้ตายโดยเจตนา      1   \n",
       "1        จำเลยที่ 1 จึงมีความผิดฐานฆ่าผู้ตายโดยเจตนา      1   \n",
       "2  การที่จำเลยที่ 1 ใช้เหล็กแหลมแทงผู้ตายโดยเจตนา...      1   \n",
       "3  การที่จำเลยที่ 1 ใช้เหล็กแหลมแทงผู้ตายโดยเจตนา...      0   \n",
       "4  จึงเป็นการกระทำโดยมีเจตนาฆ่าผู้ตาย แม้ข้อเท็จจ...      1   \n",
       "\n",
       "   isexternalelements  isinternalelement  isintent  isneglect  iscause  \\\n",
       "0                   1                  1         1         -1        1   \n",
       "1                   1                  1         1         -1        1   \n",
       "2                   1                  1         1         -1        1   \n",
       "3                  -1                 -1        -1         -1       -1   \n",
       "4                   1                  1         1         -1        1   \n",
       "\n",
       "   isjustify  isexcuse  isguilty  isattempt  isattemptimpossible  \\\n",
       "0          0         0         1          0                   -1   \n",
       "1          0         0         1          0                   -1   \n",
       "2          0         0         1          0                   -1   \n",
       "3         -1        -1         0         -1                   -1   \n",
       "4          0         0         1          0                   -1   \n",
       "\n",
       "                                       filtered_fact  \n",
       "0  จำเลยกับพวกร่วมกันใช้อาวุธปืนยิงผู้ตายถูกที่ด้...  \n",
       "1  จำเลยที่ 1 ซึ่งเคยมีเรื่องทะเลาะกับผู้ตายมาก่อ...  \n",
       "2  ส่วนจำเลยที่ 2 ที่ 3 และที่ 4 นั้น ได้ความว่าก...  \n",
       "3  ส่วนจำเลยที่ 2 ที่ 3 และที่ 4 นั้น ได้ความว่าก...  \n",
       "4  โจทก์บรรยายฟ้องว่า จำเลยกับพวกที่ยังไม่ได้ตัวม...  "
      ]
     },
     "execution_count": 4,
     "metadata": {},
     "output_type": "execute_result"
    }
   ],
   "source": [
    "pattern = r'<discr>.*?</discr>'\n",
    "df['filtered_fact'] = df.fact.apply(lambda x: re.sub(pattern, '', x)).copy()\n",
    "df.head()"
   ]
  },
  {
   "cell_type": "markdown",
   "metadata": {},
   "source": [
    "## One-hot Encoding"
   ]
  },
  {
   "cell_type": "code",
   "execution_count": 5,
   "metadata": {},
   "outputs": [
    {
     "data": {
      "text/html": [
       "<div>\n",
       "<style scoped>\n",
       "    .dataframe tbody tr th:only-of-type {\n",
       "        vertical-align: middle;\n",
       "    }\n",
       "\n",
       "    .dataframe tbody tr th {\n",
       "        vertical-align: top;\n",
       "    }\n",
       "\n",
       "    .dataframe thead th {\n",
       "        text-align: right;\n",
       "    }\n",
       "</style>\n",
       "<table border=\"1\" class=\"dataframe\">\n",
       "  <thead>\n",
       "    <tr style=\"text-align: right;\">\n",
       "      <th></th>\n",
       "      <th>issueid</th>\n",
       "      <th>dekaid</th>\n",
       "      <th>year</th>\n",
       "      <th>category</th>\n",
       "      <th>issueno</th>\n",
       "      <th>lawids</th>\n",
       "      <th>fact</th>\n",
       "      <th>decision</th>\n",
       "      <th>isact</th>\n",
       "      <th>isexternalelements</th>\n",
       "      <th>...</th>\n",
       "      <th>CC-328-00</th>\n",
       "      <th>CC-289(7)-00</th>\n",
       "      <th>CC-289(4)-00</th>\n",
       "      <th>CC-391-00</th>\n",
       "      <th>CC-393-01</th>\n",
       "      <th>CC-326-02</th>\n",
       "      <th>CC-335-01</th>\n",
       "      <th>CC-326-01</th>\n",
       "      <th>CC-335bis-01</th>\n",
       "      <th>CC-296-00</th>\n",
       "    </tr>\n",
       "  </thead>\n",
       "  <tbody>\n",
       "    <tr>\n",
       "      <th>0</th>\n",
       "      <td>1</td>\n",
       "      <td>1478/2528</td>\n",
       "      <td>2528</td>\n",
       "      <td>LB</td>\n",
       "      <td>1</td>\n",
       "      <td>CC-288-00,CC-083-00,CC-063-00</td>\n",
       "      <td>จำเลยกับพวกร่วมกันใช้อาวุธปืนยิงผู้ตายถูกที่ด้...</td>\n",
       "      <td>จำเลยจึงมีความผิดฐานฆ่าผู้ตายโดยเจตนา</td>\n",
       "      <td>1</td>\n",
       "      <td>1</td>\n",
       "      <td>...</td>\n",
       "      <td>0</td>\n",
       "      <td>0</td>\n",
       "      <td>0</td>\n",
       "      <td>0</td>\n",
       "      <td>0</td>\n",
       "      <td>0</td>\n",
       "      <td>0</td>\n",
       "      <td>0</td>\n",
       "      <td>0</td>\n",
       "      <td>0</td>\n",
       "    </tr>\n",
       "    <tr>\n",
       "      <th>1</th>\n",
       "      <td>2</td>\n",
       "      <td>1548/2531</td>\n",
       "      <td>2531</td>\n",
       "      <td>LB</td>\n",
       "      <td>1</td>\n",
       "      <td>CC-288-00</td>\n",
       "      <td>จำเลยที่ 1 ซึ่งเคยมีเรื่องทะเลาะกับผู้ตายมาก่อ...</td>\n",
       "      <td>จำเลยที่ 1 จึงมีความผิดฐานฆ่าผู้ตายโดยเจตนา</td>\n",
       "      <td>1</td>\n",
       "      <td>1</td>\n",
       "      <td>...</td>\n",
       "      <td>0</td>\n",
       "      <td>0</td>\n",
       "      <td>0</td>\n",
       "      <td>0</td>\n",
       "      <td>0</td>\n",
       "      <td>0</td>\n",
       "      <td>0</td>\n",
       "      <td>0</td>\n",
       "      <td>0</td>\n",
       "      <td>0</td>\n",
       "    </tr>\n",
       "    <tr>\n",
       "      <th>2</th>\n",
       "      <td>3</td>\n",
       "      <td>1548/2531</td>\n",
       "      <td>2531</td>\n",
       "      <td>LB</td>\n",
       "      <td>2</td>\n",
       "      <td>CC-290-00,CC-083-00</td>\n",
       "      <td>ส่วนจำเลยที่ 2 ที่ 3 และที่ 4 นั้น ได้ความว่าก...</td>\n",
       "      <td>การที่จำเลยที่ 1 ใช้เหล็กแหลมแทงผู้ตายโดยเจตนา...</td>\n",
       "      <td>1</td>\n",
       "      <td>1</td>\n",
       "      <td>...</td>\n",
       "      <td>0</td>\n",
       "      <td>0</td>\n",
       "      <td>0</td>\n",
       "      <td>0</td>\n",
       "      <td>0</td>\n",
       "      <td>0</td>\n",
       "      <td>0</td>\n",
       "      <td>0</td>\n",
       "      <td>0</td>\n",
       "      <td>0</td>\n",
       "    </tr>\n",
       "    <tr>\n",
       "      <th>3</th>\n",
       "      <td>4</td>\n",
       "      <td>1548/2531</td>\n",
       "      <td>2531</td>\n",
       "      <td>LB</td>\n",
       "      <td>3</td>\n",
       "      <td>CC-288-00,CC-083-00</td>\n",
       "      <td>ส่วนจำเลยที่ 2 ที่ 3 และที่ 4 นั้น ได้ความว่าก...</td>\n",
       "      <td>การที่จำเลยที่ 1 ใช้เหล็กแหลมแทงผู้ตายโดยเจตนา...</td>\n",
       "      <td>0</td>\n",
       "      <td>-1</td>\n",
       "      <td>...</td>\n",
       "      <td>0</td>\n",
       "      <td>0</td>\n",
       "      <td>0</td>\n",
       "      <td>0</td>\n",
       "      <td>0</td>\n",
       "      <td>0</td>\n",
       "      <td>0</td>\n",
       "      <td>0</td>\n",
       "      <td>0</td>\n",
       "      <td>0</td>\n",
       "    </tr>\n",
       "    <tr>\n",
       "      <th>4</th>\n",
       "      <td>5</td>\n",
       "      <td>1697/2522</td>\n",
       "      <td>2522</td>\n",
       "      <td>LB</td>\n",
       "      <td>1</td>\n",
       "      <td>CC-288-00,CC-083-00</td>\n",
       "      <td>โจทก์บรรยายฟ้องว่า จำเลยกับพวกที่ยังไม่ได้ตัวม...</td>\n",
       "      <td>จึงเป็นการกระทำโดยมีเจตนาฆ่าผู้ตาย แม้ข้อเท็จจ...</td>\n",
       "      <td>1</td>\n",
       "      <td>1</td>\n",
       "      <td>...</td>\n",
       "      <td>0</td>\n",
       "      <td>0</td>\n",
       "      <td>0</td>\n",
       "      <td>0</td>\n",
       "      <td>0</td>\n",
       "      <td>0</td>\n",
       "      <td>0</td>\n",
       "      <td>0</td>\n",
       "      <td>0</td>\n",
       "      <td>0</td>\n",
       "    </tr>\n",
       "  </tbody>\n",
       "</table>\n",
       "<p>5 rows × 70 columns</p>\n",
       "</div>"
      ],
      "text/plain": [
       "   issueid     dekaid  year category  issueno                         lawids  \\\n",
       "0        1  1478/2528  2528       LB        1  CC-288-00,CC-083-00,CC-063-00   \n",
       "1        2  1548/2531  2531       LB        1                      CC-288-00   \n",
       "2        3  1548/2531  2531       LB        2            CC-290-00,CC-083-00   \n",
       "3        4  1548/2531  2531       LB        3            CC-288-00,CC-083-00   \n",
       "4        5  1697/2522  2522       LB        1            CC-288-00,CC-083-00   \n",
       "\n",
       "                                                fact  \\\n",
       "0  จำเลยกับพวกร่วมกันใช้อาวุธปืนยิงผู้ตายถูกที่ด้...   \n",
       "1  จำเลยที่ 1 ซึ่งเคยมีเรื่องทะเลาะกับผู้ตายมาก่อ...   \n",
       "2  ส่วนจำเลยที่ 2 ที่ 3 และที่ 4 นั้น ได้ความว่าก...   \n",
       "3  ส่วนจำเลยที่ 2 ที่ 3 และที่ 4 นั้น ได้ความว่าก...   \n",
       "4  โจทก์บรรยายฟ้องว่า จำเลยกับพวกที่ยังไม่ได้ตัวม...   \n",
       "\n",
       "                                            decision  isact  \\\n",
       "0              จำเลยจึงมีความผิดฐานฆ่าผู้ตายโดยเจตนา      1   \n",
       "1        จำเลยที่ 1 จึงมีความผิดฐานฆ่าผู้ตายโดยเจตนา      1   \n",
       "2  การที่จำเลยที่ 1 ใช้เหล็กแหลมแทงผู้ตายโดยเจตนา...      1   \n",
       "3  การที่จำเลยที่ 1 ใช้เหล็กแหลมแทงผู้ตายโดยเจตนา...      0   \n",
       "4  จึงเป็นการกระทำโดยมีเจตนาฆ่าผู้ตาย แม้ข้อเท็จจ...      1   \n",
       "\n",
       "   isexternalelements  ...  CC-328-00  CC-289(7)-00  CC-289(4)-00  CC-391-00  \\\n",
       "0                   1  ...          0             0             0          0   \n",
       "1                   1  ...          0             0             0          0   \n",
       "2                   1  ...          0             0             0          0   \n",
       "3                  -1  ...          0             0             0          0   \n",
       "4                   1  ...          0             0             0          0   \n",
       "\n",
       "   CC-393-01  CC-326-02  CC-335-01  CC-326-01  CC-335bis-01 CC-296-00  \n",
       "0          0          0          0          0             0         0  \n",
       "1          0          0          0          0             0         0  \n",
       "2          0          0          0          0             0         0  \n",
       "3          0          0          0          0             0         0  \n",
       "4          0          0          0          0             0         0  \n",
       "\n",
       "[5 rows x 70 columns]"
      ]
     },
     "execution_count": 5,
     "metadata": {},
     "output_type": "execute_result"
    }
   ],
   "source": [
    "def label_encoding(case_lawids, lawid):\n",
    "    if lawid in case_lawids:\n",
    "        return 1\n",
    "    else:\n",
    "        return 0\n",
    "\n",
    "# df2 = df.copy()\n",
    "for label in labels:\n",
    "    # df2[label] = df2.lawids.apply(lambda x: label_encoding(x, label))\n",
    "    df[label] = df.lawids.apply(lambda x: label_encoding(x, label))\n",
    "df.head()"
   ]
  },
  {
   "cell_type": "code",
   "execution_count": 6,
   "metadata": {},
   "outputs": [
    {
     "name": "stdout",
     "output_type": "stream",
     "text": [
      "num_labels:  50\n",
      "Label columns:  ['CC-289(2)-00', 'CC-289(6)-00', 'CC-340-00', 'CC-335-00', 'CC-340-01', 'CC-290-00', 'CC-390-00', 'CC-339-02', 'CC-334-00', 'CC-342-00', 'CC-354-00', 'CC-289(3)-00', 'CC-360-00', 'CC-336bis-00', 'CC-300-00', 'CC-295-00', 'CC-298-00', 'CC-393-00', 'CC-326-00', 'CC-328-01', 'CC-340ter-00', 'CC-289(5)-00', 'CC-341-00', 'CC-329-00', 'CC-343-00', 'CC-339-00', 'CC-335bis-00', 'CC-339-01', 'CC-338-00', 'CC-331-00', 'CC-328-02', 'CC-337-00', 'CC-352-00', 'CC-358-00', 'CC-288-00', 'CC-336-00', 'CC-297-00', 'CC-330-00', 'CC-291-00', 'CC-335-02', 'CC-328-00', 'CC-289(7)-00', 'CC-289(4)-00', 'CC-391-00', 'CC-393-01', 'CC-326-02', 'CC-335-01', 'CC-326-01', 'CC-335bis-01', 'CC-296-00']\n"
     ]
    }
   ],
   "source": [
    "cols = df.columns\n",
    "label_cols = list(cols[20:])\n",
    "num_labels = len(label_cols)\n",
    "print('num_labels: ', num_labels)\n",
    "print('Label columns: ', label_cols)"
   ]
  },
  {
   "cell_type": "markdown",
   "metadata": {},
   "source": [
    "## Stats"
   ]
  },
  {
   "cell_type": "code",
   "execution_count": 7,
   "metadata": {},
   "outputs": [
    {
     "name": "stdout",
     "output_type": "stream",
     "text": [
      "Count of 1 per label: \n",
      " CC-354-00         1\n",
      "CC-289(3)-00      1\n",
      "CC-335bis-01      1\n",
      "CC-298-00         1\n",
      "CC-335-01         2\n",
      "CC-338-00         2\n",
      "CC-335bis-00      2\n",
      "CC-289(7)-00      3\n",
      "CC-339-01         3\n",
      "CC-342-00         3\n",
      "CC-390-00         4\n",
      "CC-296-00         5\n",
      "CC-340-00         5\n",
      "CC-339-00         6\n",
      "CC-343-00         6\n",
      "CC-289(6)-00      6\n",
      "CC-336-00         7\n",
      "CC-360-00         7\n",
      "CC-358-00         8\n",
      "CC-335-00         8\n",
      "CC-337-00         8\n",
      "CC-340-01         9\n",
      "CC-340ter-00     10\n",
      "CC-289(5)-00     10\n",
      "CC-336bis-00     11\n",
      "CC-391-00        11\n",
      "CC-331-00        11\n",
      "CC-289(2)-00     13\n",
      "CC-300-00        13\n",
      "CC-330-00        14\n",
      "CC-339-02        15\n",
      "CC-328-00        17\n",
      "CC-291-00        18\n",
      "CC-290-00        20\n",
      "CC-393-00        20\n",
      "CC-326-02        26\n",
      "CC-297-00        26\n",
      "CC-393-01        27\n",
      "CC-328-02        40\n",
      "CC-295-00        44\n",
      "CC-335-02        46\n",
      "CC-289(4)-00     48\n",
      "CC-328-01        51\n",
      "CC-326-01        57\n",
      "CC-326-00        61\n",
      "CC-352-00        61\n",
      "CC-334-00        90\n",
      "CC-329-00       108\n",
      "CC-341-00       183\n",
      "CC-288-00       221\n",
      "dtype: int64 \n",
      "\n",
      "Count of 0 per label: \n",
      " CC-288-00        986\n",
      "CC-341-00       1024\n",
      "CC-329-00       1099\n",
      "CC-334-00       1117\n",
      "CC-326-00       1146\n",
      "CC-352-00       1146\n",
      "CC-326-01       1150\n",
      "CC-328-01       1156\n",
      "CC-289(4)-00    1159\n",
      "CC-335-02       1161\n",
      "CC-295-00       1163\n",
      "CC-328-02       1167\n",
      "CC-393-01       1180\n",
      "CC-297-00       1181\n",
      "CC-326-02       1181\n",
      "CC-290-00       1187\n",
      "CC-393-00       1187\n",
      "CC-291-00       1189\n",
      "CC-328-00       1190\n",
      "CC-339-02       1192\n",
      "CC-330-00       1193\n",
      "CC-289(2)-00    1194\n",
      "CC-300-00       1194\n",
      "CC-336bis-00    1196\n",
      "CC-391-00       1196\n",
      "CC-331-00       1196\n",
      "CC-340ter-00    1197\n",
      "CC-289(5)-00    1197\n",
      "CC-340-01       1198\n",
      "CC-335-00       1199\n",
      "CC-337-00       1199\n",
      "CC-358-00       1199\n",
      "CC-360-00       1200\n",
      "CC-336-00       1200\n",
      "CC-343-00       1201\n",
      "CC-339-00       1201\n",
      "CC-289(6)-00    1201\n",
      "CC-340-00       1202\n",
      "CC-296-00       1202\n",
      "CC-390-00       1203\n",
      "CC-339-01       1204\n",
      "CC-289(7)-00    1204\n",
      "CC-342-00       1204\n",
      "CC-335bis-00    1205\n",
      "CC-335-01       1205\n",
      "CC-338-00       1205\n",
      "CC-335bis-01    1206\n",
      "CC-298-00       1206\n",
      "CC-289(3)-00    1206\n",
      "CC-354-00       1206\n",
      "dtype: int64\n"
     ]
    }
   ],
   "source": [
    "print('Count of 1 per label: \\n', df[label_cols].sum().sort_values(), '\\n')\n",
    "print('Count of 0 per label: \\n', df[label_cols].eq(0).sum().sort_values())\n"
   ]
  },
  {
   "cell_type": "markdown",
   "metadata": {},
   "source": [
    "## Multi one-hot labels"
   ]
  },
  {
   "cell_type": "code",
   "execution_count": 8,
   "metadata": {},
   "outputs": [
    {
     "data": {
      "text/html": [
       "<div>\n",
       "<style scoped>\n",
       "    .dataframe tbody tr th:only-of-type {\n",
       "        vertical-align: middle;\n",
       "    }\n",
       "\n",
       "    .dataframe tbody tr th {\n",
       "        vertical-align: top;\n",
       "    }\n",
       "\n",
       "    .dataframe thead th {\n",
       "        text-align: right;\n",
       "    }\n",
       "</style>\n",
       "<table border=\"1\" class=\"dataframe\">\n",
       "  <thead>\n",
       "    <tr style=\"text-align: right;\">\n",
       "      <th></th>\n",
       "      <th>issueid</th>\n",
       "      <th>dekaid</th>\n",
       "      <th>year</th>\n",
       "      <th>category</th>\n",
       "      <th>issueno</th>\n",
       "      <th>lawids</th>\n",
       "      <th>fact</th>\n",
       "      <th>decision</th>\n",
       "      <th>isact</th>\n",
       "      <th>isexternalelements</th>\n",
       "      <th>...</th>\n",
       "      <th>CC-289(7)-00</th>\n",
       "      <th>CC-289(4)-00</th>\n",
       "      <th>CC-391-00</th>\n",
       "      <th>CC-393-01</th>\n",
       "      <th>CC-326-02</th>\n",
       "      <th>CC-335-01</th>\n",
       "      <th>CC-326-01</th>\n",
       "      <th>CC-335bis-01</th>\n",
       "      <th>CC-296-00</th>\n",
       "      <th>one_hot_labels</th>\n",
       "    </tr>\n",
       "  </thead>\n",
       "  <tbody>\n",
       "    <tr>\n",
       "      <th>0</th>\n",
       "      <td>1</td>\n",
       "      <td>1478/2528</td>\n",
       "      <td>2528</td>\n",
       "      <td>LB</td>\n",
       "      <td>1</td>\n",
       "      <td>CC-288-00,CC-083-00,CC-063-00</td>\n",
       "      <td>จำเลยกับพวกร่วมกันใช้อาวุธปืนยิงผู้ตายถูกที่ด้...</td>\n",
       "      <td>จำเลยจึงมีความผิดฐานฆ่าผู้ตายโดยเจตนา</td>\n",
       "      <td>1</td>\n",
       "      <td>1</td>\n",
       "      <td>...</td>\n",
       "      <td>0</td>\n",
       "      <td>0</td>\n",
       "      <td>0</td>\n",
       "      <td>0</td>\n",
       "      <td>0</td>\n",
       "      <td>0</td>\n",
       "      <td>0</td>\n",
       "      <td>0</td>\n",
       "      <td>0</td>\n",
       "      <td>[0, 0, 0, 0, 0, 0, 0, 0, 0, 0, 0, 0, 0, 0, 0, ...</td>\n",
       "    </tr>\n",
       "    <tr>\n",
       "      <th>1</th>\n",
       "      <td>2</td>\n",
       "      <td>1548/2531</td>\n",
       "      <td>2531</td>\n",
       "      <td>LB</td>\n",
       "      <td>1</td>\n",
       "      <td>CC-288-00</td>\n",
       "      <td>จำเลยที่ 1 ซึ่งเคยมีเรื่องทะเลาะกับผู้ตายมาก่อ...</td>\n",
       "      <td>จำเลยที่ 1 จึงมีความผิดฐานฆ่าผู้ตายโดยเจตนา</td>\n",
       "      <td>1</td>\n",
       "      <td>1</td>\n",
       "      <td>...</td>\n",
       "      <td>0</td>\n",
       "      <td>0</td>\n",
       "      <td>0</td>\n",
       "      <td>0</td>\n",
       "      <td>0</td>\n",
       "      <td>0</td>\n",
       "      <td>0</td>\n",
       "      <td>0</td>\n",
       "      <td>0</td>\n",
       "      <td>[0, 0, 0, 0, 0, 0, 0, 0, 0, 0, 0, 0, 0, 0, 0, ...</td>\n",
       "    </tr>\n",
       "    <tr>\n",
       "      <th>2</th>\n",
       "      <td>3</td>\n",
       "      <td>1548/2531</td>\n",
       "      <td>2531</td>\n",
       "      <td>LB</td>\n",
       "      <td>2</td>\n",
       "      <td>CC-290-00,CC-083-00</td>\n",
       "      <td>ส่วนจำเลยที่ 2 ที่ 3 และที่ 4 นั้น ได้ความว่าก...</td>\n",
       "      <td>การที่จำเลยที่ 1 ใช้เหล็กแหลมแทงผู้ตายโดยเจตนา...</td>\n",
       "      <td>1</td>\n",
       "      <td>1</td>\n",
       "      <td>...</td>\n",
       "      <td>0</td>\n",
       "      <td>0</td>\n",
       "      <td>0</td>\n",
       "      <td>0</td>\n",
       "      <td>0</td>\n",
       "      <td>0</td>\n",
       "      <td>0</td>\n",
       "      <td>0</td>\n",
       "      <td>0</td>\n",
       "      <td>[0, 0, 0, 0, 0, 1, 0, 0, 0, 0, 0, 0, 0, 0, 0, ...</td>\n",
       "    </tr>\n",
       "    <tr>\n",
       "      <th>3</th>\n",
       "      <td>4</td>\n",
       "      <td>1548/2531</td>\n",
       "      <td>2531</td>\n",
       "      <td>LB</td>\n",
       "      <td>3</td>\n",
       "      <td>CC-288-00,CC-083-00</td>\n",
       "      <td>ส่วนจำเลยที่ 2 ที่ 3 และที่ 4 นั้น ได้ความว่าก...</td>\n",
       "      <td>การที่จำเลยที่ 1 ใช้เหล็กแหลมแทงผู้ตายโดยเจตนา...</td>\n",
       "      <td>0</td>\n",
       "      <td>-1</td>\n",
       "      <td>...</td>\n",
       "      <td>0</td>\n",
       "      <td>0</td>\n",
       "      <td>0</td>\n",
       "      <td>0</td>\n",
       "      <td>0</td>\n",
       "      <td>0</td>\n",
       "      <td>0</td>\n",
       "      <td>0</td>\n",
       "      <td>0</td>\n",
       "      <td>[0, 0, 0, 0, 0, 0, 0, 0, 0, 0, 0, 0, 0, 0, 0, ...</td>\n",
       "    </tr>\n",
       "    <tr>\n",
       "      <th>4</th>\n",
       "      <td>5</td>\n",
       "      <td>1697/2522</td>\n",
       "      <td>2522</td>\n",
       "      <td>LB</td>\n",
       "      <td>1</td>\n",
       "      <td>CC-288-00,CC-083-00</td>\n",
       "      <td>โจทก์บรรยายฟ้องว่า จำเลยกับพวกที่ยังไม่ได้ตัวม...</td>\n",
       "      <td>จึงเป็นการกระทำโดยมีเจตนาฆ่าผู้ตาย แม้ข้อเท็จจ...</td>\n",
       "      <td>1</td>\n",
       "      <td>1</td>\n",
       "      <td>...</td>\n",
       "      <td>0</td>\n",
       "      <td>0</td>\n",
       "      <td>0</td>\n",
       "      <td>0</td>\n",
       "      <td>0</td>\n",
       "      <td>0</td>\n",
       "      <td>0</td>\n",
       "      <td>0</td>\n",
       "      <td>0</td>\n",
       "      <td>[0, 0, 0, 0, 0, 0, 0, 0, 0, 0, 0, 0, 0, 0, 0, ...</td>\n",
       "    </tr>\n",
       "  </tbody>\n",
       "</table>\n",
       "<p>5 rows × 71 columns</p>\n",
       "</div>"
      ],
      "text/plain": [
       "   issueid     dekaid  year category  issueno                         lawids  \\\n",
       "0        1  1478/2528  2528       LB        1  CC-288-00,CC-083-00,CC-063-00   \n",
       "1        2  1548/2531  2531       LB        1                      CC-288-00   \n",
       "2        3  1548/2531  2531       LB        2            CC-290-00,CC-083-00   \n",
       "3        4  1548/2531  2531       LB        3            CC-288-00,CC-083-00   \n",
       "4        5  1697/2522  2522       LB        1            CC-288-00,CC-083-00   \n",
       "\n",
       "                                                fact  \\\n",
       "0  จำเลยกับพวกร่วมกันใช้อาวุธปืนยิงผู้ตายถูกที่ด้...   \n",
       "1  จำเลยที่ 1 ซึ่งเคยมีเรื่องทะเลาะกับผู้ตายมาก่อ...   \n",
       "2  ส่วนจำเลยที่ 2 ที่ 3 และที่ 4 นั้น ได้ความว่าก...   \n",
       "3  ส่วนจำเลยที่ 2 ที่ 3 และที่ 4 นั้น ได้ความว่าก...   \n",
       "4  โจทก์บรรยายฟ้องว่า จำเลยกับพวกที่ยังไม่ได้ตัวม...   \n",
       "\n",
       "                                            decision  isact  \\\n",
       "0              จำเลยจึงมีความผิดฐานฆ่าผู้ตายโดยเจตนา      1   \n",
       "1        จำเลยที่ 1 จึงมีความผิดฐานฆ่าผู้ตายโดยเจตนา      1   \n",
       "2  การที่จำเลยที่ 1 ใช้เหล็กแหลมแทงผู้ตายโดยเจตนา...      1   \n",
       "3  การที่จำเลยที่ 1 ใช้เหล็กแหลมแทงผู้ตายโดยเจตนา...      0   \n",
       "4  จึงเป็นการกระทำโดยมีเจตนาฆ่าผู้ตาย แม้ข้อเท็จจ...      1   \n",
       "\n",
       "   isexternalelements  ...  CC-289(7)-00  CC-289(4)-00  CC-391-00  CC-393-01  \\\n",
       "0                   1  ...             0             0          0          0   \n",
       "1                   1  ...             0             0          0          0   \n",
       "2                   1  ...             0             0          0          0   \n",
       "3                  -1  ...             0             0          0          0   \n",
       "4                   1  ...             0             0          0          0   \n",
       "\n",
       "   CC-326-02  CC-335-01  CC-326-01  CC-335bis-01  CC-296-00  \\\n",
       "0          0          0          0             0          0   \n",
       "1          0          0          0             0          0   \n",
       "2          0          0          0             0          0   \n",
       "3          0          0          0             0          0   \n",
       "4          0          0          0             0          0   \n",
       "\n",
       "                                      one_hot_labels  \n",
       "0  [0, 0, 0, 0, 0, 0, 0, 0, 0, 0, 0, 0, 0, 0, 0, ...  \n",
       "1  [0, 0, 0, 0, 0, 0, 0, 0, 0, 0, 0, 0, 0, 0, 0, ...  \n",
       "2  [0, 0, 0, 0, 0, 1, 0, 0, 0, 0, 0, 0, 0, 0, 0, ...  \n",
       "3  [0, 0, 0, 0, 0, 0, 0, 0, 0, 0, 0, 0, 0, 0, 0, ...  \n",
       "4  [0, 0, 0, 0, 0, 0, 0, 0, 0, 0, 0, 0, 0, 0, 0, ...  \n",
       "\n",
       "[5 rows x 71 columns]"
      ]
     },
     "execution_count": 8,
     "metadata": {},
     "output_type": "execute_result"
    }
   ],
   "source": [
    "df['one_hot_labels'] = list(df[label_cols].values)\n",
    "df.head()"
   ]
  },
  {
   "cell_type": "code",
   "execution_count": 9,
   "metadata": {},
   "outputs": [
    {
     "name": "stdout",
     "output_type": "stream",
     "text": [
      "1207\n",
      "1207\n"
     ]
    }
   ],
   "source": [
    "labels = list(df.one_hot_labels.values)\n",
    "facts = list(df.filtered_fact.values)\n",
    "print(len(labels))\n",
    "print(len(facts))\n"
   ]
  },
  {
   "cell_type": "markdown",
   "metadata": {},
   "source": [
    "# Create Dataset"
   ]
  },
  {
   "cell_type": "markdown",
   "metadata": {},
   "source": [
    "## Tokenizer from Model "
   ]
  },
  {
   "cell_type": "code",
   "execution_count": 10,
   "metadata": {},
   "outputs": [],
   "source": [
    "model_name = \"airesearch/wangchanberta-base-att-spm-uncased\""
   ]
  },
  {
   "cell_type": "code",
   "execution_count": 11,
   "metadata": {},
   "outputs": [
    {
     "name": "stdout",
     "output_type": "stream",
     "text": [
      "tokenizer outputs:  dict_keys(['input_ids', 'attention_mask'])\n"
     ]
    }
   ],
   "source": [
    "max_length = 416\n",
    "tokenizer = AutoTokenizer.from_pretrained(\n",
    "                model_name,\n",
    "                revision='main',\n",
    "                model_max_length=max_length,)\n",
    "\n",
    "encodings = tokenizer(facts, max_length=max_length, padding=True, truncation=True) # tokenizer's encoding method\n",
    "print('tokenizer outputs: ', encodings.keys())"
   ]
  },
  {
   "cell_type": "code",
   "execution_count": 12,
   "metadata": {},
   "outputs": [
    {
     "data": {
      "text/plain": [
       "transformers.tokenization_utils_base.BatchEncoding"
      ]
     },
     "execution_count": 12,
     "metadata": {},
     "output_type": "execute_result"
    }
   ],
   "source": [
    "type(encodings)"
   ]
  },
  {
   "cell_type": "code",
   "execution_count": 13,
   "metadata": {},
   "outputs": [],
   "source": [
    "input_ids = encodings['input_ids'] # tokenized and encoded sentences\n",
    "attention_masks = encodings['attention_mask'] # attention masks"
   ]
  },
  {
   "cell_type": "markdown",
   "metadata": {},
   "source": [
    "## Stratifying"
   ]
  },
  {
   "cell_type": "code",
   "execution_count": 14,
   "metadata": {},
   "outputs": [
    {
     "name": "stdout",
     "output_type": "stream",
     "text": [
      "df label indices with only one instance:  [707, 702, 410, 403, 397, 389, 316, 225, 219, 217, 82, 50]\n"
     ]
    }
   ],
   "source": [
    "label_counts = df.one_hot_labels.astype(str).value_counts()\n",
    "one_freq = label_counts[label_counts==1].keys()\n",
    "one_freq_idxs = sorted(list(df[df.one_hot_labels.astype(str).isin(one_freq)].index), reverse=True)\n",
    "print('df label indices with only one instance: ', one_freq_idxs)"
   ]
  },
  {
   "cell_type": "code",
   "execution_count": 15,
   "metadata": {},
   "outputs": [],
   "source": [
    "# Gathering single instance inputs to force into the training set after stratified split\n",
    "one_freq_input_ids = [input_ids.pop(i) for i in one_freq_idxs]\n",
    "one_freq_attention_masks = [attention_masks.pop(i) for i in one_freq_idxs]\n",
    "one_freq_labels = [labels.pop(i) for i in one_freq_idxs]"
   ]
  },
  {
   "cell_type": "markdown",
   "metadata": {},
   "source": [
    "## Train, Valid Split"
   ]
  },
  {
   "cell_type": "code",
   "execution_count": 16,
   "metadata": {},
   "outputs": [
    {
     "name": "stderr",
     "output_type": "stream",
     "text": [
      "C:\\Users\\kanat\\AppData\\Local\\Temp\\ipykernel_8780\\2258799157.py:14: UserWarning: Creating a tensor from a list of numpy.ndarrays is extremely slow. Please consider converting the list to a single numpy.ndarray with numpy.array() before converting to a tensor. (Triggered internally at ..\\torch\\csrc\\utils\\tensor_new.cpp:248.)\n",
      "  train_labels = torch.FloatTensor(train_labels)\n"
     ]
    }
   ],
   "source": [
    "# Use train_test_split to split our data into train and validation sets\n",
    "\n",
    "train_inputs, valid_inputs, train_labels, \\\n",
    "    valid_labels, train_masks, valid_masks = train_test_split(input_ids, labels, attention_masks,\n",
    "                                                            random_state=2020, test_size=0.10, stratify=labels)\n",
    "\n",
    "# Add one frequency data to train data\n",
    "train_inputs.extend(one_freq_input_ids)\n",
    "train_labels.extend(one_freq_labels)\n",
    "train_masks.extend(one_freq_attention_masks)\n",
    "\n",
    "# Convert all of our data into torch tensors, the required datatype for our model\n",
    "train_inputs = torch.tensor(train_inputs)\n",
    "train_labels = torch.FloatTensor(train_labels)\n",
    "train_masks = torch.tensor(train_masks)\n",
    "\n",
    "valid_inputs = torch.tensor(valid_inputs)\n",
    "valid_labels = torch.FloatTensor(valid_labels)\n",
    "valid_masks = torch.tensor(valid_masks)"
   ]
  },
  {
   "cell_type": "markdown",
   "metadata": {},
   "source": [
    "## Dataset"
   ]
  },
  {
   "cell_type": "markdown",
   "metadata": {},
   "source": [
    "## Change to dictionary for Trainer class"
   ]
  },
  {
   "cell_type": "code",
   "execution_count": 17,
   "metadata": {},
   "outputs": [],
   "source": [
    "class TSCCDataset(torch.utils.data.Dataset):\n",
    "    def __init__(self, inputs, masks, labels):\n",
    "        self.inputs = inputs\n",
    "        self.masks = masks\n",
    "        self.labels = labels\n",
    "\n",
    "    def __getitem__(self, idx):\n",
    "        item = {'input_ids': self.inputs[idx], 'attention_mask': self.masks[idx], 'labels': self.labels[idx]}\n",
    "        return item\n",
    "\n",
    "    def __len__(self):\n",
    "        return len(self.labels)\n",
    "\n",
    "train_dataset = TSCCDataset(train_inputs, train_masks, train_labels)\n",
    "valid_dataset = TSCCDataset(valid_inputs, valid_masks, valid_labels)"
   ]
  },
  {
   "cell_type": "markdown",
   "metadata": {},
   "source": [
    "# Load Model & Set Params"
   ]
  },
  {
   "cell_type": "code",
   "execution_count": 18,
   "metadata": {},
   "outputs": [
    {
     "name": "stderr",
     "output_type": "stream",
     "text": [
      "Some weights of CamembertForSequenceClassification were not initialized from the model checkpoint at airesearch/wangchanberta-base-att-spm-uncased and are newly initialized: ['classifier.out_proj.weight', 'classifier.out_proj.bias', 'classifier.dense.weight', 'classifier.dense.bias']\n",
      "You should probably TRAIN this model on a down-stream task to be able to use it for predictions and inference.\n"
     ]
    }
   ],
   "source": [
    "#revision = \"finetuned@wisesight_sentiment\"\n",
    "revision = None\n",
    "model = AutoModelForSequenceClassification.from_pretrained(\n",
    "    model_name, num_labels=num_labels, revision=revision, problem_type='multi_label_classification'\n",
    ")"
   ]
  },
  {
   "cell_type": "code",
   "execution_count": 19,
   "metadata": {},
   "outputs": [
    {
     "data": {
      "text/plain": [
       "SequenceClassifierOutput(loss=tensor(0.6857, grad_fn=<BinaryCrossEntropyWithLogitsBackward0>), logits=tensor([[ 0.0324, -0.2063, -0.1554,  0.1004,  0.0471,  0.0009, -0.2213, -0.4099,\n",
       "         -0.2099,  0.2821, -0.1822,  0.3489, -0.0372, -0.5228, -0.1574,  0.0067,\n",
       "          0.1539,  0.4913,  0.0874,  0.2771,  0.2229, -0.0779,  0.0622, -0.0660,\n",
       "         -0.0917,  0.0108, -0.1016, -0.2835,  0.0364,  0.1268,  0.0080, -0.3204,\n",
       "         -0.0735, -0.1687, -0.1499, -0.2601,  0.2021,  0.0081, -0.1251,  0.1476,\n",
       "          0.0861,  0.4520,  0.0866, -0.3304, -0.4703,  0.1138, -0.1370, -0.2248,\n",
       "          0.2009,  0.1692]], grad_fn=<AddmmBackward0>), hidden_states=None, attentions=None)"
      ]
     },
     "execution_count": 19,
     "metadata": {},
     "output_type": "execute_result"
    }
   ],
   "source": [
    "'''Trying forward pass'''\n",
    "outputs = model(input_ids=train_dataset[0]['input_ids'].unsqueeze(0), \n",
    "    labels=train_dataset[0]['labels'].unsqueeze(0),\n",
    "    attention_mask=train_dataset[0]['attention_mask'].unsqueeze(0))\n",
    "outputs"
   ]
  },
  {
   "cell_type": "markdown",
   "metadata": {},
   "source": [
    "# Train"
   ]
  },
  {
   "cell_type": "code",
   "execution_count": 20,
   "metadata": {},
   "outputs": [],
   "source": [
    "from sklearn.metrics import f1_score, roc_auc_score, accuracy_score\n",
    "from transformers import EvalPrediction\n",
    "import torch"
   ]
  },
  {
   "cell_type": "code",
   "execution_count": 21,
   "metadata": {},
   "outputs": [],
   "source": [
    "# source: https://jesusleal.io/2021/04/21/Longformer-multilabel-classification/\n",
    "def multi_label_metrics(predictions, labels, threshold=0.5):\n",
    "    # first, apply sigmoid on predictions which are of shape (batch_size, num_labels)\n",
    "    sigmoid = torch.nn.Sigmoid()\n",
    "    probs = sigmoid(torch.Tensor(predictions))\n",
    "    # next, use threshold to turn them into integer predictions\n",
    "    y_pred = np.zeros(probs.shape)\n",
    "    y_pred[np.where(probs >= threshold)] = 1\n",
    "    # finally, compute metrics\n",
    "    y_true = labels\n",
    "    f1_micro_average = f1_score(y_true=y_true, y_pred=y_pred, average='micro')\n",
    "    roc_auc = roc_auc_score(y_true, y_pred, average = 'micro')\n",
    "    accuracy = accuracy_score(y_true, y_pred)\n",
    "    # return as dictionary\n",
    "    metrics = {'f1': f1_micro_average,\n",
    "               'roc_auc': roc_auc,\n",
    "               'accuracy': accuracy}\n",
    "    return metrics\n",
    "\n",
    "def compute_metrics(p: EvalPrediction):\n",
    "    preds = p.predictions[0] if isinstance(p.predictions, \n",
    "            tuple) else p.predictions\n",
    "    result = multi_label_metrics(\n",
    "        predictions=preds, \n",
    "        labels=p.label_ids)\n",
    "    return result"
   ]
  },
  {
   "cell_type": "code",
   "execution_count": 22,
   "metadata": {},
   "outputs": [],
   "source": [
    "batch_size = 32\n",
    "metric_name = 'f1'"
   ]
  },
  {
   "cell_type": "code",
   "execution_count": 23,
   "metadata": {},
   "outputs": [],
   "source": [
    "training_args = TrainingArguments(\n",
    "    output_dir='./multilabel_classification_task',          # output directory\n",
    "    num_train_epochs=3,              # total number of training epochs\n",
    "    per_device_train_batch_size=batch_size,  # batch size per device during training\n",
    "    per_device_eval_batch_size=batch_size,   # batch size for evaluation\n",
    "    warmup_steps=500,                # number of warmup steps for learning rate scheduler\n",
    "    weight_decay=0.01,               # strength of weight decay\n",
    "    logging_dir='./multilabel_classification_task_logs',            # directory for storing logs\n",
    "    logging_steps=10,\n",
    "    evaluation_strategy = \"epoch\",\n",
    "    save_strategy = \"epoch\",\n",
    "    load_best_model_at_end=True,\n",
    "    metric_for_best_model=metric_name,\n",
    "    #evaluation_strategy='epoch'\n",
    ")"
   ]
  },
  {
   "cell_type": "code",
   "execution_count": 24,
   "metadata": {},
   "outputs": [],
   "source": [
    "trainer = Trainer(\n",
    "    model=model,                         # the instantiated 🤗 Transformers model to be trained\n",
    "    args=training_args,                  # training arguments, defined above\n",
    "    train_dataset=train_dataset,         # training dataset\n",
    "    eval_dataset=valid_dataset,        # evaluation dataset\n",
    "    compute_metrics=compute_metrics,\n",
    ")"
   ]
  },
  {
   "cell_type": "code",
   "execution_count": 25,
   "metadata": {},
   "outputs": [],
   "source": [
    "import os\n",
    "os.environ[\"TOKENIZERS_PARALLELISM\"] = \"true\""
   ]
  },
  {
   "cell_type": "code",
   "execution_count": 27,
   "metadata": {},
   "outputs": [
    {
     "name": "stderr",
     "output_type": "stream",
     "text": [
      " 39%|███▉      | 40/102 [08:36<30:18, 29.33s/it]"
     ]
    },
    {
     "name": "stdout",
     "output_type": "stream",
     "text": [
      "{'loss': 0.6357, 'learning_rate': 4.000000000000001e-06, 'epoch': 1.18}\n"
     ]
    },
    {
     "name": "stderr",
     "output_type": "stream",
     "text": [
      " 49%|████▉     | 50/102 [22:31<1:10:33, 81.42s/it]"
     ]
    },
    {
     "name": "stdout",
     "output_type": "stream",
     "text": [
      "{'loss': 0.5974, 'learning_rate': 5e-06, 'epoch': 1.47}\n"
     ]
    },
    {
     "name": "stderr",
     "output_type": "stream",
     "text": [
      " 59%|█████▉    | 60/102 [36:05<56:21, 80.51s/it]  "
     ]
    },
    {
     "name": "stdout",
     "output_type": "stream",
     "text": [
      "{'loss': 0.5501, 'learning_rate': 6e-06, 'epoch': 1.76}\n"
     ]
    },
    {
     "name": "stderr",
     "output_type": "stream",
     "text": [
      "                                                \n",
      " 67%|██████▋   | 68/102 [48:23<45:38, 80.56s/it]"
     ]
    },
    {
     "name": "stdout",
     "output_type": "stream",
     "text": [
      "{'eval_loss': 0.4731672704219818, 'eval_f1': 0.017094017094017096, 'eval_roc_auc': 0.4991094646101236, 'eval_accuracy': 0.008333333333333333, 'eval_runtime': 91.3825, 'eval_samples_per_second': 1.313, 'eval_steps_per_second': 0.044, 'epoch': 2.0}\n"
     ]
    },
    {
     "name": "stderr",
     "output_type": "stream",
     "text": [
      " 69%|██████▊   | 70/102 [51:12<54:07, 101.50s/it]  "
     ]
    },
    {
     "name": "stdout",
     "output_type": "stream",
     "text": [
      "{'loss': 0.501, 'learning_rate': 7.000000000000001e-06, 'epoch': 2.06}\n"
     ]
    },
    {
     "name": "stderr",
     "output_type": "stream",
     "text": [
      " 78%|███████▊  | 80/102 [1:04:41<29:31, 80.54s/it]"
     ]
    },
    {
     "name": "stdout",
     "output_type": "stream",
     "text": [
      "{'loss': 0.4588, 'learning_rate': 8.000000000000001e-06, 'epoch': 2.35}\n"
     ]
    },
    {
     "name": "stderr",
     "output_type": "stream",
     "text": [
      " 88%|████████▊ | 90/102 [1:17:51<15:35, 77.94s/it]"
     ]
    },
    {
     "name": "stdout",
     "output_type": "stream",
     "text": [
      "{'loss': 0.4186, 'learning_rate': 9e-06, 'epoch': 2.65}\n"
     ]
    },
    {
     "name": "stderr",
     "output_type": "stream",
     "text": [
      " 98%|█████████▊| 100/102 [1:31:20<02:40, 80.40s/it]"
     ]
    },
    {
     "name": "stdout",
     "output_type": "stream",
     "text": [
      "{'loss': 0.3833, 'learning_rate': 1e-05, 'epoch': 2.94}\n"
     ]
    },
    {
     "name": "stderr",
     "output_type": "stream",
     "text": [
      "                                                   \n",
      "100%|██████████| 102/102 [1:35:32<00:00, 80.18s/it]"
     ]
    },
    {
     "name": "stdout",
     "output_type": "stream",
     "text": [
      "{'eval_loss': 0.340935081243515, 'eval_f1': 0.011695906432748537, 'eval_roc_auc': 0.5006628127687508, 'eval_accuracy': 0.0, 'eval_runtime': 90.575, 'eval_samples_per_second': 1.325, 'eval_steps_per_second': 0.044, 'epoch': 3.0}\n"
     ]
    },
    {
     "name": "stderr",
     "output_type": "stream",
     "text": [
      "100%|██████████| 102/102 [1:35:46<00:00, 80.18s/it]"
     ]
    },
    {
     "name": "stdout",
     "output_type": "stream",
     "text": [
      "{'train_runtime': 5746.4616, 'train_samples_per_second': 0.567, 'train_steps_per_second': 0.018, 'train_loss': 0.32963745149911616, 'epoch': 3.0}\n"
     ]
    },
    {
     "name": "stderr",
     "output_type": "stream",
     "text": [
      "100%|██████████| 102/102 [1:35:46<00:00, 56.34s/it]\n"
     ]
    },
    {
     "data": {
      "text/plain": [
       "TrainOutput(global_step=102, training_loss=0.32963745149911616, metrics={'train_runtime': 5746.4616, 'train_samples_per_second': 0.567, 'train_steps_per_second': 0.018, 'train_loss': 0.32963745149911616, 'epoch': 3.0})"
      ]
     },
     "execution_count": 27,
     "metadata": {},
     "output_type": "execute_result"
    }
   ],
   "source": [
    "trainer.train('./multilabel_classification_task/checkpoint-34') "
   ]
  },
  {
   "cell_type": "code",
   "execution_count": 28,
   "metadata": {},
   "outputs": [
    {
     "name": "stderr",
     "output_type": "stream",
     "text": [
      "100%|██████████| 4/4 [01:11<00:00, 17.97s/it]\n"
     ]
    },
    {
     "data": {
      "text/plain": [
       "{'eval_loss': 0.6428436040878296,\n",
       " 'eval_f1': 0.048395061728395056,\n",
       " 'eval_roc_auc': 0.5258293428866578,\n",
       " 'eval_accuracy': 0.0,\n",
       " 'eval_runtime': 96.5711,\n",
       " 'eval_samples_per_second': 1.243,\n",
       " 'eval_steps_per_second': 0.041,\n",
       " 'epoch': 3.0}"
      ]
     },
     "execution_count": 28,
     "metadata": {},
     "output_type": "execute_result"
    }
   ],
   "source": [
    "result_eval = trainer.evaluate()\n",
    "result_eval"
   ]
  },
  {
   "cell_type": "code",
   "execution_count": 29,
   "metadata": {},
   "outputs": [
    {
     "data": {
      "text/plain": [
       "('./models/multilabel/1/tokenizer_config.json',\n",
       " './models/multilabel/1/special_tokens_map.json',\n",
       " './models/multilabel/1/sentencepiece.bpe.model',\n",
       " './models/multilabel/1/added_tokens.json',\n",
       " './models/multilabel/1/tokenizer.json')"
      ]
     },
     "execution_count": 29,
     "metadata": {},
     "output_type": "execute_result"
    }
   ],
   "source": [
    "save_path = \"./models/multilabel/1/\"\n",
    "model.save_pretrained(save_path)\n",
    "tokenizer.save_pretrained(save_path)"
   ]
  },
  {
   "cell_type": "markdown",
   "metadata": {},
   "source": [
    "# References"
   ]
  },
  {
   "cell_type": "markdown",
   "metadata": {},
   "source": [
    "- WangchanBERTa Tutorial: https://colab.research.google.com/drive/1Kbk6sBspZLwcnOE61adAQo30xxqOQ9ko\n",
    "\n",
    "- Slightly oudated multilabel classification using HuggingFace's Transformer: https://towardsdatascience.com/transformers-for-multilabel-classification-71a1a0daf5e1\n",
    "\n",
    "- Another multilabel classification examples: https://github.com/NielsRogge/Transformers-Tutorials/blob/master/BERT/Fine_tuning_BERT_(and_friends)_for_multi_label_text_classification.ipynb"
   ]
  }
 ],
 "metadata": {
  "kernelspec": {
   "display_name": "Python 3",
   "language": "python",
   "name": "python3"
  },
  "language_info": {
   "codemirror_mode": {
    "name": "ipython",
    "version": 3
   },
   "file_extension": ".py",
   "mimetype": "text/x-python",
   "name": "python",
   "nbconvert_exporter": "python",
   "pygments_lexer": "ipython3",
   "version": "3.10.13"
  },
  "orig_nbformat": 4
 },
 "nbformat": 4,
 "nbformat_minor": 2
}
